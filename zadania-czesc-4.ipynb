{
 "cells": [
  {
   "cell_type": "markdown",
   "metadata": {},
   "source": [
    "# Pakiety i moduły\n",
    "\n",
    "### Wyszukiwanie lokalizacji interpretera\n",
    "\n",
    "Korzystając z języków skryptowych (takich jak Python) niejednokrotnie będziemy musieli skorzystać z programu powłoki (terminal, konsola). W systemie Windows będzie to cmd, w systemie Linux - bash, w systemie macOS - zsh. Jeżeli interpreter Pythona jest poprawnie zainstalowany w systemie operacyjnym, możemy sprawdzić jego wersję korzystając z polecenia powłoki: python -V. Jeżeli polecenie python -V zwróci wersję Pythona, to znaczy, że ścieżka do programu interpretera jest dołączona do zmiennej środowiskowej Path. W takim wypadku możemy sprawdzić gdzie znajduje się instalacja interpretera z poziomu Pythona za pomocą instrukcji: "
   ]
  },
  {
   "cell_type": "markdown",
   "metadata": {},
   "source": [
    "<pre>import sys\n",
    "locate_python = sys.exec_prefix\n",
    "print(locate_python)</pre>"
   ]
  },
  {
   "cell_type": "markdown",
   "metadata": {},
   "source": [
    "Interpreter wskaże ścieżkę do aktualnie uruchomionej instancji Pythona (jeżeli interpreter został uruchomiony w środowisku izolowanym, polecenie sys.exec_prefix wskaże miejsce w którym znajduje się środowisko izolowane).\n",
    "\n",
    "Instrukcje interpretera można wykonywać również z linii poleceń powłoki, korzystając ze składni:\n",
    "- w Windows: python -c \"import nazwa_modulu; instrukcje\" \n",
    "- w macOS: python3 -c \"import nazwa_modulu; instrukcje\"\n",
    "\n",
    "Warto pamiętać, że wykonując dowolne polecenie w powłoce systemu, możemy zapoznać się z jego składnią i opcjonalnymi argumentami korzystając z polecenia: komenda -h, lub --help. Wyświetlą one dokument \"pomocy\"."
   ]
  },
  {
   "cell_type": "markdown",
   "metadata": {},
   "source": [
    "### Sprawdzanie ścieżki do aktualnego katalogu roboczego\n",
    "\n",
    "Aby sprawdzić ścieżkę do aktualnego katalogu roboczego (Current Working Directory) możemy skorzystać z modułu os:"
   ]
  },
  {
   "cell_type": "markdown",
   "metadata": {},
   "source": [
    "<pre>import os\n",
    "cwd = os.getcwd()\n",
    "print(cwd)</pre>"
   ]
  },
  {
   "cell_type": "markdown",
   "metadata": {},
   "source": [
    "Aby zmienić aktualną lokalizację katalogu roboczego, możemy skorzystać z polecenia z modułu os: os.chdir(sciezka). Należy pamiętać, że w przypadku pracy z systemem operacyjnym możemy natrafić okoliczności, w ramach których niemożliwa będzie zmiana ścieżki katalogu roboczego (katalog wskazywany przez ścieżkę nie istnieje, nie posiadamy uprawnień do pracy w katalogu wskazywanym przez ścieżkę, ścieżka wzkazuje na obiekt, który nie jest katalogiem). Obsługa wymienionych sytuacji jest możliwa dzięki zdefiniowanym wyjątkom Pythona:\n",
    "- katalog pod wskazaną nie istnieje: FileNotFoundError\n",
    "- obiekt pod wskazaną ścieżką nie jest katalogiem: NotADirectoryError\n",
    "- brak uprawnień: PermissionError\n",
    "Poniższy przykład prezentuje sposób zmiany lokalizacji aktualnego katalogu roboczego:"
   ]
  },
  {
   "cell_type": "markdown",
   "metadata": {},
   "source": [
    "<pre>import os\n",
    "\n",
    "path = '/projekt/app'\n",
    "\n",
    "try:\n",
    "    os.chdir(path)\n",
    "    print(f\"Aktualny katalog roboczy: {os.getcwd()}\")\n",
    "except FileNotFoundError:\n",
    "    print(f\"Katalog: {path} nie istnieje\")\n",
    "except NotADirectoryError:\n",
    "    print(f\"{path} nie jest katalogiem\")\n",
    "except PermissionError:\n",
    "    print(f\"Nie masz uprawnień do zmian w {path}\")</pre>"
   ]
  },
  {
   "cell_type": "markdown",
   "metadata": {},
   "source": [
    "### Ścieżki w Pythonie\n",
    "\n",
    "Przez ścieżkę rozumiemy łańcuch znaków, który reprezentuje lokalizację danego zasobu w drzewie katalogów systemu. W zależności od systemu operacyjnego (Windows, macOS, Linux) ścieżki te mają różną strukturę oraz korzystają z różnych symboli (np. do rozdzielania ścieżek w systemach macOS i Linux służy symbol \"/\", tymczasem w systemach Windows jest to \"\\\"). Aby skrypty w Pythonie były niezależne od systemu, na którym zostaną uruchomione, korzystamy z biblioteki pathlib, a w szczególności z jej klasy Path. Jeżeli ścieżkę umieścimy w konstruktorze klasy Path() zostatnie utworzony obiekt ścieżki. Co ciekawe, do tak powstałego obiektu możemy dostawiać kolejne elementy ścieżki za pomocą ukośników i łańcuchów znaków, a dopóki skrajny lewy element instrukcji będzie obiektem typu ścieżki - wynik całej linii będzie obiektem typu ścieżki. \n",
    "\n",
    "Przykład:\n",
    "<pre>\n",
    "from pathlib import Path\n",
    "\n",
    "print(Path('app'))\n",
    "print(type(Path('app')))\n",
    "\n",
    "print(Path('app')/'dir')\n",
    "print(type(Path('app')/'dir'))\n",
    "\n",
    "print(Path('app', 'dir'))\n",
    "print(type(Path('app', 'dir')))\n",
    "</pre>\n",
    "\n",
    "Klasa Path umośliwia również na oczytanie lokalizacji bieżącego katalogu roboczego (cwd) oraz na jago zmianę. \n",
    "\n",
    "Przykład:\n",
    "<pre>\n",
    "from pathlib import Path\n",
    "import os\n",
    "\n",
    "print(Path.cwd())\n",
    "os.chdir('/Users')\n",
    "print(Path.cwd())\n",
    "\n",
    "</pre>"
   ]
  },
  {
   "cell_type": "markdown",
   "metadata": {},
   "source": [
    "### Instalacja i lokalizacja pakietów i modułów\n",
    "\n",
    "Instalacja bibliotek - biblioteki instalujemy za pomocą managerów pakietów. Najczęściej za pomocą mamagerów:\n",
    "- pip\n",
    "- conda\n",
    "\n",
    "Powyższe managery uruchamiamy z poziomu wiersza poleceń powłoki, za pomocą komend:\n",
    "\n",
    "Windows:\n",
    "- py -m pip install nazwa_pakietu \n",
    "- conda install nazwa_pakietu\n",
    "\n",
    "macOS:\n",
    "- pip install nazwa_pakietu \n",
    "- conda install nazwa_pakietu\n",
    "\n",
    "Manager pakietów pip:\n",
    "Maganer pip jest podstawowym instalatorem pakietów w Pythonie. Pozwala na instalację pakietów z repozytorium Python Package Index oraz z innych repozytoriów. Więcej na temat pip i PyPI (instalacja, szczegóły techniczne) można znaleźć pod adresem https://pypi.org/project/pip/. Dokumentację pip można znaleźć pod adresem: https://pip.pypa.io/en/stable/cli/pip_install/.\n",
    "\n",
    "Ze szczegółami obsługi managera pip można zapoznać się pod adresem: https://pip.pypa.io/en/stable/cli/\n",
    "W szczególności warto zwrócić uwagę na najczęściej wykorzystywane polecenia:\n",
    "- wyświetlanie pomocy managera pip: <pre>pip -h</pre> lub <pre>pip --help</pre>\n",
    "- wyświetlanie listy zainstalowanych pakietów: <pre>pip list</pre>\n",
    "- instalacja pakietu: <pre>pip install nazwa_pakietu</pre>\n",
    "- deinstalacja pakietu: <pre>pip uninstall nazwa_pakietu</pre>\n",
    "- instalacja listy pakietów z pliku tekstowego: <pre>pip install -r lista_pakietow.txt</pre>\n",
    "- aktualizacja managera pip: <pre>pip install --upgrade pip</pre>\n",
    "\n",
    "Pakiet a moduł:\n",
    "- moduł - w praktyce oznacza plik z rozszerzeniem .py, który zawiera/wystawia zmienne, funkcje, klasy itd.\n",
    "- pakiet - folder z modułami\n",
    "\n",
    "Aby znaleźć ścieżkę, w której znajduje się pakiet lub moduł można skorzystać z instrukcji z poziomu interpretera:\n",
    "- dla pakietów: korzystając z pola nazwa_pakietu.__path__\n",
    "- dla konkretnego modułu: korzystając z pola nazwa_pakietu__file__\n",
    "\n",
    "lub z poziomu linii poleceń powłoki:\n",
    "- pip show nazwa_pakietu\n",
    "\n",
    "Moduły i pakiety, które doinstalowujemy za pomocą managera pip najczęściej są instalowane w katalogu site-packages.\n",
    "\n",
    "Kiedy importujemy biblioteki, interpreter Pythona najpierw sprawdza, czy dany zasób znajduje się w katalogu projektu. Jeżeli nie, wówczas przeszukuje katalog bibliotek zainstalowanych w środowisku interpretera. W związku z tym tworzone przez nas moduły lub pakiety możemy umieszczać w:\n",
    "- katalogu projektu\n",
    "- katalogu lib/PythonXX.XX/site-packages"
   ]
  },
  {
   "cell_type": "markdown",
   "metadata": {},
   "source": [
    "### Zadanie 4.1 \n",
    "Utwórz moduł statystyka zawierający następujące funkcje:\n",
    "- suma (funkcja zwracająca sumę z listy)\n",
    "- srednia (funkcja zwracająca średnią z listy)\n",
    "- min (funkcja zwracająca wartość minimalną z listy)\n",
    "- max (funkcja zwracająca wartość maksymalną z listy)\n",
    "\n",
    "Następnie zapisz plik pod dwiema nazwami:\n",
    "- stats_local.py, który umieścisz w aktualnym katalogu roboczym\n",
    "- stats_global.py, który umieścisz w katalogu site-packages (najpierw trzeba znaleźć jego położenie)\n",
    "\n",
    "Utwórz program, w którym zaimportujesz oba moduły i zaprezentujesz ich działanie."
   ]
  },
  {
   "cell_type": "markdown",
   "metadata": {},
   "source": [
    "# Środowisko izolowane\n",
    "\n",
    "Tworząc projekt w Pythonie możemy natknąć się na problem związany z wersjami bibliotek lib środowiska. Przykładowo - na jednym komputerze projekt działa, na drugim nie ze względu na różnice w wersjach bibliotek i środowiska. W związku z tym dobrym pomysłem jest dołączenie do skryptu środowiska, w którym projekt będzie działać poprawnie. Takie środowisko nazywamy środowiskiem izolowanym, a najpopularniejszymni rozwiązaniami dla Pythona są:\n",
    "- Veritual Env (venv)\n",
    "- Conda Create\n",
    "\n",
    "### Virtual Env\n",
    "\n",
    "MacOS:\n",
    "1. instalacja: <pre>pip3 -m install venv</pre> lub <pre>pip3 install virtualenv</pre>\n",
    "2. Tworzenie środowiska: <pre>python3 -m venv nazwa_srodowiska</pre>\n",
    "3. Aktywacja środowiska: <pre>source nazwa_srodowiska/bin/activate</pre>\n",
    "4. Dezaktywacja środowiska: <pre>deactivate</pre>\n",
    "\n",
    "Windows:\n",
    "1. instalacja: <pre>pip -m install virtualenv</pre> lub <pre>pip install venv</pre>\n",
    "2. Tworzenie środowiska: <pre>python -m venv nazwa_srodowiska</pre>\n",
    "3. Aktywacja środowiska: <pre>.\\nazwa_srodowiska\\Scripts\\activate</pre>\n",
    "4. Dezaktywacja środowiska: <pre>deactivate</pre>\n",
    "\n",
    "### Conda Create\n",
    "\n",
    "Alternatywnym sposobem tworzenia środowiska izolowanego jest skorzystanie z polecenia conda create. Warunkiem koniecznym jest posiadanie managera conda.\n",
    "\n",
    "Windows/macOS\n",
    "1. Tworzenie środowiska: <pre>conda create -n nazwa_srodowiska python=wersja_pythona</pre>\n",
    "2. Aktywacja środowiska: <pre>conda activate nazwa_srodowiska</pre>\n",
    "3. Dezaktywacja środowiska: <pre>deactivate</pre>"
   ]
  },
  {
   "cell_type": "markdown",
   "metadata": {},
   "source": [
    "### Zadanie 4.2\n",
    "\n",
    "Utwórz katalog projektu, w którym założysz środowisko izolowane, a następie aktywuj je i zainstaluj w nim (za pomocą maganera pakietów pip) wybrane biblioteki (np. numpy, jupyter, matplotlib, pandas). Następnie utwórz skrypt Pythona i zademonstruj (za pomocą polecenia sys.exec_prefix) w jakim środowisku pracuje. "
   ]
  },
  {
   "cell_type": "markdown",
   "metadata": {},
   "source": [
    "# Zaawansowane edytory kodu\n",
    "\n",
    "Tworzenie kodu programu nieuchronnie wiąże się z popełnianiem błędów. Z kolei - kiedy tworzymy większy projekt lub aplikację, w jej skład zaczyna wchodzić więcej niż jeden plik. Nasza aplikacja dodatkowo może odnosić się lub korzystać z zasobów komputera, na której jest uruchamiana i wymaga od nas częstej pracy w programie powłoki systemowej (bash, cmd, zsh). W takiej sytuacji coraz większe znaczenie przy wytwarzaniu oprogramowania ma środowisko programistyczne. Na obecnym etapie nauki najważniejszymi cechami/funkcjonalnościami środowiska są:\n",
    "- uzupełnianie składni (wpisując nazwy instrukcji z przestrzeni nazw, po naciśnięciu klawisza tab uzupełniana jest wprowadzana instrukcja lub pojawia się lista dostępnych instrukcji)\n",
    "- linter (aplikacja analizująca cały nasz kod i wskazująca potencjalne błędy)\n",
    "- połączenie z powłoką systemową\n",
    "- podgląd zasobów w katalogu projektu\n",
    "\n",
    "Do takich środowisk należą:\n",
    "- Spyder: https://www.spyder-ide.org\n",
    "- PyCharm: https://www.jetbrains.com/pycharm/\n",
    "- Visual Studio Code: https://code.visualstudio.com"
   ]
  },
  {
   "cell_type": "markdown",
   "metadata": {},
   "source": [
    "# Operacje na plikach\n",
    "\n",
    "Pliki służą do trwałego przechowywania danych. W trakcie działania programu możemy otwierać i odczytywać lub zapisywać informacje w plikach tekstowych korzystająć m. in. z funkcji open(\"nazwa_pliku.txt\", \"tryb\").\n",
    "\n",
    "Aby przeprowadzić odczyt pliku tworzymy zmienną, do której przypisujemy wynik działania fukcji open(). Poniżej przegląd najważniejszych instrukcji:\n",
    "\n",
    "- plik = open(\"plik.txt\", \"r\") - otwarcie pliku\n",
    "- plik.close() - zamknięcie pliku\n",
    "- linia = plik.readline() - odczytywanie pojedynczo linii zapisanych w pliku\n",
    "- linie = plik.readlines() - odczytanie wszystkich linii zapisanych w pliku\n",
    "- plik.write(\"Wiadomość testowa\\n\") - zapis do pliku zwykłej wiadomości.\n",
    "- plik.writelines(linie) - zapis do pliku listy \n",
    "\n",
    "### Tryby dostępu do pliku tekstowego\n",
    "\n",
    "Instrukcja open() posiada kilka trybów dostępu do pliku. Dla przypomnienia, aby dokonać odczytu zawartości pliku, warto wynik działania funckji open() przypisać do zmiennej. Funkcja open() ma składnię: <br>\n",
    "\n",
    "plik = open(\"nazwa_plik.rozszerzenie\", \"tryb\") - otwarcie pliku\n",
    "\n",
    "Poniżej opis najważniejszych trybów funkcji open():\n",
    "- „r” - tryb odczytu danych. Jeśli plik nie istnieje, zostaje zasygnalizowany błąd.\n",
    "- „w” - tryb zapisu danych. Wybrany plik zostaje nadpisany nowymi danymi. Jeśli plik nie istnieje, zostanie utworzony.\n",
    "- „a” - tryb zapisu danych. Do wybranego pliku zostają dopisane nowe dane. Jeśli plik nie istnieje, zostanie utworzony."
   ]
  },
  {
   "cell_type": "code",
   "execution_count": 1,
   "metadata": {
    "scrolled": true
   },
   "outputs": [
    {
     "name": "stdout",
     "output_type": "stream",
     "text": [
      "/Users/szymonmackowiak/GIT/Podstawy-programowania-w-Pythonie\n"
     ]
    }
   ],
   "source": [
    "import os\n",
    "cwd = os.getcwd()\n",
    "print(cwd)"
   ]
  },
  {
   "cell_type": "code",
   "execution_count": 2,
   "metadata": {},
   "outputs": [],
   "source": [
    "os.chdir(\"/Users/szymonmackowiak/GIT/Podstawy-programowania-w-Pythonie/CDV\")"
   ]
  },
  {
   "cell_type": "code",
   "execution_count": 3,
   "metadata": {},
   "outputs": [
    {
     "name": "stdout",
     "output_type": "stream",
     "text": [
      "/Users/szymonmackowiak/GIT/Podstawy-programowania-w-Pythonie/CDV\n"
     ]
    }
   ],
   "source": [
    "cwd = os.getcwd()\n",
    "print(cwd)"
   ]
  },
  {
   "cell_type": "code",
   "execution_count": 5,
   "metadata": {},
   "outputs": [],
   "source": [
    "plik = open(\"przykladowy_plik.txt\", \"w\")\n",
    "plik.close()"
   ]
  },
  {
   "cell_type": "markdown",
   "metadata": {},
   "source": [
    "### Zadanie 4.3\n",
    "\n",
    "Stwórz plik tekstowy z kilkoma wierszami danych, a następnie napisz program, który wypisze zawartość utworzonego pliku do konsoli."
   ]
  },
  {
   "cell_type": "code",
   "execution_count": 6,
   "metadata": {},
   "outputs": [
    {
     "name": "stdout",
     "output_type": "stream",
     "text": [
      "1\n",
      "\n",
      "2\n",
      "\n",
      "3\n",
      "\n",
      "7\n",
      "\n",
      "4\n",
      "\n",
      "\"udało się!\"\n"
     ]
    }
   ],
   "source": [
    "plik=open(\"przykladowy_plik.txt\", \"r\")\n",
    "dane = plik.readlines()\n",
    "for item in dane:\n",
    "    print(item)\n",
    "plik.close()"
   ]
  },
  {
   "cell_type": "markdown",
   "metadata": {},
   "source": [
    "### Zadanie 4.4\n",
    "\n",
    "Napisz program, który tworzy plik i wpisuje liczby od 0-10, każdą w następnej linii, następnie zamyka i otwiera ponownie plik i dopisuje litery alfabetu, każdą następną w nowej linii."
   ]
  },
  {
   "cell_type": "code",
   "execution_count": 11,
   "metadata": {},
   "outputs": [
    {
     "name": "stdout",
     "output_type": "stream",
     "text": [
      "0\n",
      "\n",
      "1\n",
      "\n",
      "2\n",
      "\n",
      "3\n",
      "\n",
      "4\n",
      "\n",
      "5\n",
      "\n",
      "6\n",
      "\n",
      "7\n",
      "\n",
      "8\n",
      "\n",
      "9\n",
      "\n",
      "10\n",
      "\n",
      "A\n",
      "\n",
      "B\n",
      "\n",
      "C\n",
      "\n",
      "D\n",
      "\n",
      "E\n",
      "\n",
      "F\n",
      "\n",
      "G\n",
      "\n",
      "H\n",
      "\n",
      "I\n",
      "\n",
      "J\n",
      "\n",
      "K\n",
      "\n",
      "L\n",
      "\n",
      "M\n",
      "\n",
      "N\n",
      "\n",
      "O\n",
      "\n",
      "P\n",
      "\n",
      "Q\n",
      "\n",
      "R\n",
      "\n",
      "S\n",
      "\n",
      "T\n",
      "\n",
      "U\n",
      "\n",
      "V\n",
      "\n",
      "W\n",
      "\n",
      "X\n",
      "\n",
      "Y\n",
      "\n",
      "Z\n",
      "\n"
     ]
    }
   ],
   "source": [
    "import string\n",
    "\n",
    "alfabet = string.ascii_uppercase\n",
    "dane = []\n",
    "\n",
    "for i in range(11):\n",
    "    dane.append(i)\n",
    "    \n",
    "plik = open(\"dane.txt\", \"w\")\n",
    "for i in range(0, len(dane)):\n",
    "    plik.write(str(dane[i]) + \"\\n\")\n",
    "    \n",
    "plik.close()\n",
    "\n",
    "plik = open(\"dane.txt\", \"a\")\n",
    "for i in range(0, len(alfabet)):\n",
    "    plik.write(alfabet[i] + \"\\n\")\n",
    "plik.close()\n",
    "\n",
    "plik=open(\"dane.txt\", \"r\")\n",
    "dane = plik.readlines()\n",
    "for item in dane:\n",
    "    print(item)\n",
    "plik.close()"
   ]
  },
  {
   "cell_type": "markdown",
   "metadata": {},
   "source": [
    "### Zadanie 4.5\n",
    "\n",
    "Napisz program, który umożliwia zapisywanie do pliku .txt danych takich jak: imię, nazwisko, stanowisko i wynagrodzenie. Użytkownik ma mieć możliwość dodawania, usuwania i wypisywania listy osób. Usuwanie pozycji powinno działać po podaniu samego nazwiska osoby. Program powinien posiadać interaktywne menu: D-dodaj, U-usuń, W-wypisz i Q-wyjście.\n",
    "Podpowiedź: Utwórz funkcje: dodaj, usuń, pokaż zawartość pliku\n"
   ]
  },
  {
   "cell_type": "code",
   "execution_count": 32,
   "metadata": {},
   "outputs": [
    {
     "name": "stdout",
     "output_type": "stream",
     "text": [
      "D-dodaj, U-usuń, P-pokaż, Q-koniecD\n",
      "Podaj imię: a\n",
      "Podaj nazwisko: a\n",
      "Podaj stanowisko: a\n",
      "Podaj wynagrodzenie: 1\n",
      "D-dodaj, U-usuń, P-pokaż, Q-koniecP\n",
      "Imię: Władysław, Nazwisko: Nowak,         Stanowisko: portier, Wynagrodzenie: 5000\n",
      "\n",
      "Imię: Władysław, Nazwisko: Nowak,         Stanowisko: portier, Wynagrodzenie: 5000\n",
      "\n",
      "Imię: Władysław, Nazwisko: Nowak,         Stanowisko: portier, Wynagrodzenie: 5000\n",
      "\n",
      "Imię: Władysław, Nazwisko: Nowak,         Stanowisko: portier, Wynagrodzenie: 5000\n",
      "\n",
      "Imię: Władysław, Nazwisko: Nowak,         Stanowisko: portier, Wynagrodzenie: 5000\n",
      "\n",
      "Imię: a, Nazwisko: a,         Stanowisko: a, Wynagrodzenie: 1\n",
      "\n",
      "D-dodaj, U-usuń, P-pokaż, Q-koniecP\n",
      "Imię: Władysław, Nazwisko: Nowak,         Stanowisko: portier, Wynagrodzenie: 5000\n",
      "\n",
      "Imię: Władysław, Nazwisko: Nowak,         Stanowisko: portier, Wynagrodzenie: 5000\n",
      "\n",
      "Imię: Władysław, Nazwisko: Nowak,         Stanowisko: portier, Wynagrodzenie: 5000\n",
      "\n",
      "Imię: Władysław, Nazwisko: Nowak,         Stanowisko: portier, Wynagrodzenie: 5000\n",
      "\n",
      "Imię: Władysław, Nazwisko: Nowak,         Stanowisko: portier, Wynagrodzenie: 5000\n",
      "\n",
      "Imię: a, Nazwisko: a,         Stanowisko: a, Wynagrodzenie: 1\n",
      "\n",
      "D-dodaj, U-usuń, P-pokaż, Q-koniecD\n",
      "Podaj imię: b\n",
      "Podaj nazwisko: b\n",
      "Podaj stanowisko: b\n",
      "Podaj wynagrodzenie: 4\n",
      "D-dodaj, U-usuń, P-pokaż, Q-koniecP\n",
      "Imię: Władysław, Nazwisko: Nowak,         Stanowisko: portier, Wynagrodzenie: 5000\n",
      "\n",
      "Imię: Władysław, Nazwisko: Nowak,         Stanowisko: portier, Wynagrodzenie: 5000\n",
      "\n",
      "Imię: Władysław, Nazwisko: Nowak,         Stanowisko: portier, Wynagrodzenie: 5000\n",
      "\n",
      "Imię: Władysław, Nazwisko: Nowak,         Stanowisko: portier, Wynagrodzenie: 5000\n",
      "\n",
      "Imię: Władysław, Nazwisko: Nowak,         Stanowisko: portier, Wynagrodzenie: 5000\n",
      "\n",
      "Imię: a, Nazwisko: a,         Stanowisko: a, Wynagrodzenie: 1\n",
      "\n",
      "Imię: b, Nazwisko: b,         Stanowisko: b, Wynagrodzenie: 4\n",
      "\n",
      "D-dodaj, U-usuń, P-pokaż, Q-koniecU\n",
      "Podaj nazwiskoa\n",
      "D-dodaj, U-usuń, P-pokaż, Q-koniecP\n",
      "Imię: Władysław, Nazwisko: Nowak,         Stanowisko: portier, Wynagrodzenie: 5000\n",
      "\n",
      "Imię: Władysław, Nazwisko: Nowak,         Stanowisko: portier, Wynagrodzenie: 5000\n",
      "\n",
      "Imię: Władysław, Nazwisko: Nowak,         Stanowisko: portier, Wynagrodzenie: 5000\n",
      "\n",
      "Imię: Władysław, Nazwisko: Nowak,         Stanowisko: portier, Wynagrodzenie: 5000\n",
      "\n",
      "Imię: Władysław, Nazwisko: Nowak,         Stanowisko: portier, Wynagrodzenie: 5000\n",
      "\n",
      "Imię: b, Nazwisko: b,         Stanowisko: b, Wynagrodzenie: 4\n",
      "\n",
      "D-dodaj, U-usuń, P-pokaż, Q-koniecQ\n",
      "Nieznana opcja menu\n",
      "D-dodaj, U-usuń, P-pokaż, Q-koniecK\n",
      "Koniec programu\n"
     ]
    }
   ],
   "source": [
    "def dodaj(imie, nazwisko, stanowisko, wynagrodzenie):\n",
    "    plik = open(\"dane_firmy.txt\", \"a\")\n",
    "    plik.write(f\"{imie};{nazwisko};{stanowisko};{wynagrodzenie}\\n\")\n",
    "    plik.close()\n",
    "    \n",
    "def pokaz():\n",
    "    plik = open(\"dane_firmy.txt\", \"r\")\n",
    "    linie = plik.readlines()\n",
    "    for item in linie:\n",
    "        fragmenty = item.split(\";\")\n",
    "        print(f\"Imię: {fragmenty[0]}, Nazwisko: {fragmenty[1]}, \\\n",
    "        Stanowisko: {fragmenty[2]}, Wynagrodzenie: {fragmenty[3]}\")\n",
    "    plik.close()\n",
    "\n",
    "def usun(nazwisko):\n",
    "    plik = open(\"dane_firmy.txt\", \"r\")\n",
    "    linie = plik.readlines()\n",
    "    bufor = []\n",
    "    for item in linie:\n",
    "        fragmenty = item.split(\";\")\n",
    "        if (fragmenty[1]!=nazwisko):\n",
    "            bufor.append(item)\n",
    "    plik.close()\n",
    "    \n",
    "    plik = open(\"dane_firmy.txt\", \"w\")\n",
    "    for item in bufor:\n",
    "        plik.write(item)\n",
    "    plik.close()\n",
    "    \n",
    "while(True):\n",
    "    menu = input(\"D-dodaj, U-usuń, P-pokaż, Q-koniec\").upper()\n",
    "    if(menu == \"D\"):\n",
    "        imie = input(\"Podaj imię: \")\n",
    "        nazwisko = input(\"Podaj nazwisko: \")\n",
    "        stanowisko = input(\"Podaj stanowisko: \")\n",
    "        wynagrodzenie = input(\"Podaj wynagrodzenie: \")\n",
    "        dodaj(imie, nazwisko, stanowisko, wynagrodzenie)\n",
    "    elif(menu == \"U\"):\n",
    "        nazwisko = input(\"Podaj nazwisko\")\n",
    "        usun(nazwisko)\n",
    "    elif(menu == \"P\"):\n",
    "        pokaz()\n",
    "    elif(menu == \"Q\"):\n",
    "        print(\"Koniec programu\")\n",
    "        break\n",
    "    else:\n",
    "        print(\"Nieznana opcja menu\")\n",
    "    \n",
    "        "
   ]
  },
  {
   "cell_type": "code",
   "execution_count": 28,
   "metadata": {},
   "outputs": [],
   "source": [
    "dodaj(\"Władysław\", \"Kowalski\", \"portier\", \"5000\")"
   ]
  },
  {
   "cell_type": "code",
   "execution_count": 30,
   "metadata": {},
   "outputs": [],
   "source": [
    "usun(\"Kowalski\")"
   ]
  },
  {
   "cell_type": "markdown",
   "metadata": {},
   "source": [
    "### Zadanie 4.6\n",
    "Korzystając ze znanych Ci zagadnień (struktury danych, listy, łańcuchy znaków, konkatenacja łańcuchów znaków, f-stringi, pętle, funkcje, klasy, generatory liczb losowych, wczytywanie plików z danymi) zaproponuj program do generowania danych kadrowych przedsiębiorstwa. Pojedyńcza encja danych powinna zawierać następujące dane: \n",
    "- numer porządkowy\n",
    "- nazwisko\n",
    "- imię\n",
    "- płeć\n",
    "- stanowisko\n",
    "- data zatrudnienia\n",
    "- wynagrodzenie\n",
    "- niewykorzystane dni urlopu\n",
    "\n",
    "Aby maksymalnie zbliżyć dane do rzeczywistości, skorzystaj z bazy danych dotyczących nazwisk i imion wystepujących w Polsce. Znajdziesz je na stronach:\n",
    "- baza imion: https://dane.gov.pl/pl/dataset/1501,lista-imion-wystepujacych-w-rejestrze-pesel\n",
    "- baza nazwisk: https://dane.gov.pl/pl/dataset/568,nazwiska-wystepujace-w-rejestrze-pesel\n",
    "\n",
    "Program powinien wczytać dane dot. imion i nazwisk i na tej podstawie generować dane osobowe. Wygenerowane dane zapisz do pliku w postaci wyrażeń rozdzielonych średnikami i nazwij go dane_kadrowe.csv. Plik powinien zawierać min. 1000 rekordów."
   ]
  },
  {
   "cell_type": "markdown",
   "metadata": {},
   "source": [
    "### Zadanie 4.7\n",
    "\n",
    "Napisz program, który pobierze od użytkownika nazwę pliku z danymi, wczyta plik o wskazanej nazwie i wypisze jego zawartość w konsoli. Przed wyświetleniem pliku, program pyta użytkownika, czy jego dane posiadają nagłówek oraz jaki symbol stanowi separator danych. Jeżeli dane posiadają nagłówek - zadbaj, aby również został wyświetlony. Program ma informować użytkownika ile wierszy zawiera plik z danymi oraz przyjmować od użytkownika zakres wierszy, które chce przejrzeć. Następnie użytkownik podejmuje decyzję, czy chce powtórzyć działanie programu, czy zakończyć pracę z programem."
   ]
  },
  {
   "cell_type": "markdown",
   "metadata": {},
   "source": [
    "### Zadanie 4.8\n",
    "Korzystając ze znanych Ci zagadnień (struktury danych, listy, łańcuchy znaków, konkatenacja łańcuchów znaków, f-stringi, pętle, funkcje, klasy, generatory liczb losowych) zaproponuj program do generowania sztucznych danych dot. cen nieruchomości (mieszkań) w Warszawie. Pojedyncza encja danych powinna zawierać:\n",
    "- numer porządkowy nieruchomości\n",
    "- adres\n",
    "- kod pocztowy\n",
    "- liczbę pokoi\n",
    "- numer piętra\n",
    "- powierzchnię w metrach kwadratowych\n",
    "- cenę\n",
    "\n",
    "Dane dot. adresów w mieście Warszawa możesz pobrać korzystając ze strony:\n",
    "https://dane.gov.pl/pl/dataset/469/resource/27518,adresy-mst-warszawy-format-csv-adres-uniwersalny/table?page=1&per_page=20&q=&sort=\n",
    "\n",
    "Załóż, że cena nieruchomości zależy tylko od jej powierzchni zgodnie z uproszczonym równaniem: $cena = cena_{m^2} \\cdot powierzchnia \\pm odchylenie$. Odchylenie to pewna losowa liczba. Wygenerowane dane zapisz do pliku z rozszerzeniem csv. Plik powinien zawierać conajmniej 1000 rekordów."
   ]
  },
  {
   "cell_type": "markdown",
   "metadata": {},
   "source": [
    "### Zadanie 4.9\n",
    "Korzystając z bibliotek math oraz numpy utwórz plik zawierający tablice trygonometryczną. Plik powinien zawierać następujące dane:\n",
    "- numer rekordu\n",
    "- wartość kąta w stopniach\n",
    "- odpowiadającą wartość kąta w radianach\n",
    "- wartość funkcji sinus\n",
    "- wartość funkcji cosinus\n",
    "- wartość funckji tangens\n",
    "- wartość funkcji cotangens\n",
    "\n",
    "Dane należy wygenerować dla kolenych kątów w stopniach, co pół stopnia, w zakresie od 0 do 360 stopni. \n"
   ]
  },
  {
   "cell_type": "markdown",
   "metadata": {},
   "source": [
    "### Zadanie 4.10\n",
    "Załóż, że średni wzrost kobiet w Polsce wynosi 165 cm, a średni wzrost mężczyzn to 175 cm. Załóż również, że średnia waga kobiety to 55 kg, a mężczyzny to 70 kg. W oparciu o powyższe założenia, oraz korzystając z generatorów liczb losowych (skorzystaj z tzw. rozkładu normalnego Gaussa) wynegeruj dane dotyczące wzrostu i wagi dla 1000 osób (zarówno kobiet i mężczyzn). Jeden rekord powinien zawierać następujące dane:\n",
    "- numer porządkowy\n",
    "- płeć\n",
    "- wzrost\n",
    "- wagę\n",
    "\n",
    "Dane zapisz do pliku z rozszerzeniem csv."
   ]
  },
  {
   "cell_type": "markdown",
   "metadata": {},
   "source": [
    "### Zadanie 4.11\n",
    "Maksymalne tętno człowieka można oszacować korzystając z przybliżonego wyrażenia: $HR_{max} = 208 - (0.7 \\cdot A)$\n",
    "gdzie: \n",
    "- $HR_{max}$ - maksymalne tętno w uderzeniach na minutę\n",
    "- $A$ - wiek w latach\n",
    "\n",
    "(na podstawie: http://www.shapesense.com/fitness-exercise/calculators/heart-rate-based-calorie-burn-calculator.shtml)\n",
    "\n",
    "Na podstawie powyższego równania wygeneruj dane wartości maksymalnego tętna w zależności od wieku. Pojedyńczy rekord powinien zawierać:\n",
    "- numer porządkowy\n",
    "- wiek\n",
    "- tętno maksymalne\n",
    "\n",
    "Dane zapisz do pliku z rozszerzeniem csv."
   ]
  },
  {
   "cell_type": "markdown",
   "metadata": {},
   "source": [
    "### Zadanie 4.12\n",
    "Aby określić ilość spalonych kalorii (czyli wydzielone ciepło) w trakcie wysiłku fizycznego, można skorzystać z następujących, przybliżonych równań, które w sytuacji, kiedy pułap tlenowy (V02 max) nie jest znany:\n",
    " - dla kobiet: Q = ((-20.4022 + (0.4472 x HR) - (0.1263 x W) + (0.074 x A))/4.184) x 60 x T\n",
    " - dla mężczyzn: Q = ((-55.0969 + (0.6309 x HR) + (0.1988 x W) + (0.2017 x A))/4.184) x 60 x T\n",
    "\n",
    "gdzie:\n",
    "HR - tętno (w uderzeniach na minutę)\n",
    "W = waga (w kilogramach)\n",
    "A = wiek (w latach)\n",
    "T = czas ćwiczeń (w godzinach)\n",
    "(na podstawie: http://www.shapesense.com/fitness-exercise/calculators/heart-rate-based-calorie-burn-calculator.shtml)\n",
    "\n",
    "Na podstawie powyższych danych wygeneruj plik z danymi dotyczącymi spalonych kalorii przez próbę 1000 osób. Jeden rekord powinien zawierać następujące dane:\n",
    "- numer porządkowy\n",
    "- płeć\n",
    "- wiek\n",
    "- wagę\n",
    "- czas ćwiczeń w godzinach\n",
    "- średnie tętno\n",
    "- ilość wydzielonego ciepła\n",
    "\n",
    "Dane zapisz do pliku z rozszerzeniem csv."
   ]
  },
  {
   "cell_type": "markdown",
   "metadata": {},
   "source": [
    "### Zadanie 4.13\n",
    "\n",
    "Decyzję o tym, czy kierowca samochodu terenowego może jechać w terenie szybko czy wolno można podjąć (w uproszczonym wariancie) na podstawie nachylenia i wyboistości terenu. Załóżmy, że wyboistość, nachylenie oraz niepewność decyzji reprezentujemy w postaci liczb w przedziale od 0 do 1 (takie liczby możemy generować korzystając z funkcji random() z modułu random). Załózmy również, że decyzja kierowcy może być opisana uproszczonym równaniem: $decyzja = round(nachylenie \\cdot wyboistosc + 0.1 \\cdot niepewnosc + 0.25)$ Dodatkowo przyjmijmy, że jeżeli nachylenie lub wyboistość będą większe niż 0.75, to $decyzja = 1$. W takim przypadku wartość decyzji równa 0 oznacza jazdę szybką, a wartość równa 1 oznacza jazdę wolną. \n",
    "\n",
    "W oparciu o powyższe założenia, wygeneruj dane dotyczące decyzji kierowcy samochodu terenowego. Pojedyńczy rekord powinien zawierać dane:\n",
    "- numer porządkowy (liczba całkowita)\n",
    "- nachylenie (liczba rzeczywista w przedziale 0-1, gdzie 0 to teren płaski, a 1 to stromy)\n",
    "- wyboistosc (liczba rzeczywista w przedziale 0-1, gdzie 0 to teren gładki, a 1 to bardzo nierówny)\n",
    "- niepewnosc (liczba rzeczywista w przedziale 0-1)\n",
    "- decyzja (liczba całkowita - 0 lub 1, gdzie 0 to jazda szybka, a 1 to jazda wolna)\n",
    "\n",
    "Dane zapisz do pliku z rozszerzeniem csv."
   ]
  },
  {
   "cell_type": "code",
   "execution_count": 7,
   "metadata": {},
   "outputs": [],
   "source": [
    "n_points = 100\n",
    "\n",
    "random.seed(42)\n",
    "grade = [random.random() for ii in range(0,n_points)]\n",
    "bumpy = [random.random() for ii in range(0,n_points)]\n",
    "error = [random.random() for ii in range(0,n_points)]\n",
    "y = [round(grade[ii]*bumpy[ii]+0.1*error[ii]+0.25) for ii in range(0,n_points)]\n",
    "for ii in range(0, len(y)):\n",
    "    if grade[ii]>0.8 or bumpy[ii]>0.8:\n",
    "        y[ii] = 1.0"
   ]
  },
  {
   "cell_type": "markdown",
   "metadata": {},
   "source": [
    "# Zapis złożonych struktur danych\n",
    "\n",
    "Aby przechowywać bardziej złożone informacje w Pythonie używany jest moduł „pickle”. Proces ten jest nazywany również marynowaniem.\n",
    "\n",
    "Marynować można: liczby, łańcuchy znaków, krotki, listy, słowniki, zbiory i obiekty.\n",
    "<pre>\n",
    "import pickle # dodanie modułu do projektu\n",
    "</pre>\n",
    "Tryby dostępu do plików ze złożonymi strukturami\n",
    "\n",
    "- plik = open(\"dane.dat\", \"wb\") - otwarcie pliku.\n",
    "- „rb” - tryb odczytu danych z pliku binarnego. Jeśli plik nie istnieje, zostaje zasygnalizowany błąd.\n",
    "- „wb” - tryb zapisu danych do pliku binarnego. Wybrany plik zostaje nadpisany nowymi danymi. Jeśli plik nie istnieje, zostanie utworzony.\n",
    "- „ab” - tryb zapisu danych do pliku binarnego. Do wybranego pliku zostają dopisane nowe dane. Jeśli plik nie istnieje, zostanie utworzony.\n",
    "\n",
    "Zapisywanie i odczytywanie danych w pliku\n",
    "\n",
    "- pickle.dump(lista, plik) - do otwartego pliku „plik” zostaje dopisana struktura listy „lista”.\n",
    "- obiekt = pickle.load(plik) - z otwartego pliku „plik” zostaje odczytana struktura obiektu i przypisana do obiektu „obiekt”.\n",
    "\n",
    "Metody dump i load mogą być wykonywanie wielokrotnie, przy użyciu różnych typów danych!"
   ]
  },
  {
   "cell_type": "markdown",
   "metadata": {},
   "source": [
    "<pre>import pickle\n",
    "\n",
    "class Kontakt:\n",
    "    def __init__(self, imie, nazwisko, komunikatory):\n",
    "        self.imie = imie\n",
    "        self.nazwisko = nazwisko\n",
    "        self.komunikatory = komunikatory\n",
    "\n",
    "ob1 = Kontakt(\"Adam\", \"Nowak\", {\"skype\": \"adam\", \"tweeter\": \"@an\"})\n",
    "ob2 = Kontakt(\"Filip\", \"Zalewski\", {\"skype\": \"fil\", \"tweeter\": \"@fil\"})\n",
    "ob3 = Kontakt(\"Anna\", \"Barańska\", {\"skype\": \"an\", \"tweeter\": \"@baranska\"})\n",
    "\n",
    "lista = [ob1, ob2, ob3]\n",
    "\n",
    "plik = open(\"obiekty.dat\", \"wb\") \n",
    "pickle.dump(lista, plik)\n",
    "plik.close()</pre>\n",
    "    "
   ]
  },
  {
   "cell_type": "markdown",
   "metadata": {},
   "source": [
    "<pre>plik = open(\"obiekty.dat\", \"rb\") \n",
    "obiekt = pickle.load(plik)</pre>"
   ]
  },
  {
   "cell_type": "markdown",
   "metadata": {},
   "source": [
    "<pre>obiekt[0].komunikatory</pre>"
   ]
  },
  {
   "cell_type": "markdown",
   "metadata": {},
   "source": [
    "### Zadanie 4.14\n",
    "\n",
    "Napisz program do organizowania kontaktów w bazie, która zawiera informacje w postaci: imię, nazwisko i nick w komunikatorze sieciowym (użytkownić może posiadać ich kilka, każdy stanowi parę komunikator - nick). Dane przechowywane są w obiektach, a potem marynowane i zapisane w pliku .dat. Program powinien posiadać interaktywny interfejs w postaci tekstowego menu (CLI). Najpierw użytkownik wybiera, czy chce wprowadzać dane, czy przeglądać dane w bazie. Część do wprowadzania danych powinna mieć menu: W - wyświetlanie, DK - dodaj kontakt, UK - usuń kontakt, DT - dodaj komunikator, UT - usuń komunikator, Q - wyjście i zapis. Część umożliwiająca przegląd danych tylko wyświetla zawartość pliku .dat, a następnie przechodzi do pytania, czy użytkownik życzy sobie powtórzyć wykonanie całego programu."
   ]
  },
  {
   "cell_type": "markdown",
   "metadata": {},
   "source": [
    "### Zadanie 4.15\n",
    "Napisz program generujący bestiariusz - bazę legendarnych stworzeń z wybranego uniwersum (mitologia, powieść fantasy, wybrana gra komputerowa). Każda postać powinna posiadać atrybyty: nazwa (tekst), zdolnosci (lista), ekwipunek (lista). Dane przechowywane są w obiektach, a potem marynowane i zapisane w pliku .dat. Program powinien posiadać interaktywny interfejs w postaci tekstowego menu (CLI). Najpierw użytkownik wybiera, czy chce wprowadzać bazę, czy przeglądać bazę. Część do wprowadzania danych powinna mieć menu: W - wyświetlanie, DP - dodaj postać, UP - usuń postać, Q - wyjście i zapis. Część umożliwiająca przegląd danych tylko wyświetla zawartość pliku .dat, a następnie przechodzi do pytania, czy użytkownik życzy sobie powtórzyć wykonanie całego programu."
   ]
  },
  {
   "cell_type": "markdown",
   "metadata": {},
   "source": [
    "# Pandas\n",
    "\n",
    "### 1. Wstęp \n",
    "Nazwa Pandas odnosi się do wyrażenia \"Panel Data\" lub do \"Python Data Analysis\". Autorem biblioteki jest Wes McKinney, który utworzył ją w 2008 roku. Stronę projektu można znaleźć pod adresem: https://github.com/pandas-dev/pandas.\n",
    "\n",
    "Biblioteka Pandas służy do pracy z danymi - posiada wiele użytecznych rozwiązań umożliwiających bądź ułatwiająych wykonywanie rutynowych działań na danych. Posiada m. in. funkcje do:\n",
    "- oczyszczania danych, \n",
    "- analizy danych, \n",
    "- eksplorowania danych, \n",
    "- przetwarzania danych. \n",
    "Pandas pozwala również na pracę z dużymi zbiorami danych (tzw. Big Data) oraz posiada bogaty zbiór funkcji statystycznych. Do najważniejszych możliwości pakietu Pandas możemy zaliczyć:\n",
    "- wyznaczanie wartości mimimalnych i maksymalnych, \n",
    "- wyznaczanie wartości średnich,\n",
    "- wyznaczanie korelacji między kolumnami\n",
    "- usuwanie niepotrzebnych wierszy lub poprawianie uszkodzonych"
   ]
  },
  {
   "cell_type": "markdown",
   "metadata": {},
   "source": [
    "### 2. Instalacja\n",
    "\n",
    "Bibliotekę można zainstalować za pomocą managera pakietów pip korzystając z polecenia w programie powłoki: \n",
    "- pip install pandas (system Windows)\n",
    "- pip3 install pandas (system macOS)"
   ]
  },
  {
   "cell_type": "markdown",
   "metadata": {},
   "source": [
    "### 3. Import\n",
    "\n",
    "Bibliotekę możemy zaimportować w całości za pomocą jej nazwy, nadać jej alias lub zaimportować wyłącznie wybrany moduł/klasę:\n",
    "- import pandas\n",
    "- import pansad as pd\n",
    "- from pandas import DataFrame\n",
    "\n",
    "W trakcie pracy z pakietem może okazać się, że musimy sprawdzić jego wersję. Wersję pakietu można znaleźć w polu __version__ pakietu pandas.\n",
    "\n",
    "#### Przykład - sprawdzanie wersji biblioteki Pandas"
   ]
  },
  {
   "cell_type": "markdown",
   "metadata": {},
   "source": [
    "<pre>import pandas\n",
    "pandas.__version__</pre>"
   ]
  },
  {
   "cell_type": "markdown",
   "metadata": {},
   "source": [
    "### 4. Szeregi (obiet typu Series)\n",
    "\n",
    "Szeregi (obiety typu Series) w bibliotece Pandas są odpowiednikiem kolumny w tabeli. Można je określić jako jednowymiarowe tablice, bądź listy przechowujące dane dowolnego typu.\n",
    "\n",
    "#### Przykład - tworzenie szeregu"
   ]
  },
  {
   "cell_type": "markdown",
   "metadata": {},
   "source": [
    "<pre>import pandas as pd\n",
    "\n",
    "lista = [1, 2, [3, 3], \"cztery\", 5]\n",
    "\n",
    "szereg = pd.Series(lista)\n",
    "\n",
    "print(szereg)</pre>"
   ]
  },
  {
   "cell_type": "code",
   "execution_count": 37,
   "metadata": {},
   "outputs": [
    {
     "name": "stdout",
     "output_type": "stream",
     "text": [
      "pierwszy    1\n",
      "drugi       2\n",
      "trzeci      3\n",
      "dtype: int64\n"
     ]
    }
   ],
   "source": [
    "import pandas as pd\n",
    "\n",
    "lista = [1, 3, 5]\n",
    "\n",
    "slownik = {\"pierwszy\":1, \"drugi\":2, \"trzeci\":3}\n",
    "\n",
    "# szereg = pd.Series(lista, index=[\"pierwszy\", \"drugi\", \"trzeci\"])\n",
    "szereg = pd.Series(slownik)\n",
    "\n",
    "print(szereg)"
   ]
  },
  {
   "cell_type": "markdown",
   "metadata": {},
   "source": [
    "Powyższy przykład pokazuje, że elementy szeregu posiadają etykiety (wartości po lewej stronie kolumny). Domyślnie etykiety przyjmują wartości indeksu w liście (liczone od 0). "
   ]
  },
  {
   "cell_type": "markdown",
   "metadata": {},
   "source": [
    "### Etykietowanie elementów szeregu\n",
    "\n",
    "Poprzedni przykład ilustrował, że domyślnie etykiety przyjmują wartość indeksu w liście (liczone od 0). Aby nadać kolejnym elementom szeregu etykiety należy skorzystać z argumentu index, a po znaku równości podać listę (w nawiasach kwadratowych) z kolejnymi nazwami w postaci tekstowej, rozdzielone przecinkami. \n",
    "\n",
    "#### Przykład - etykietowanie"
   ]
  },
  {
   "cell_type": "markdown",
   "metadata": {},
   "source": [
    "<pre>\n",
    "import pandas as pd\n",
    "\n",
    "lista = [5000, 6000, 4500, 3000]\n",
    "\n",
    "wynagrodzenia = pd.Series(lista, index=[\"Kowalski\", \"Nowak\", \"Matysik\", \"Molęda\"])\n",
    "\n",
    "print(wynagrodzenia)\n",
    "</pre>\n",
    "\n",
    "Po utworzeniu etykiet zyskujemy możliwość odnoszenia się do elementów szeregu poprzez etykietę, np.:\n",
    "\n",
    "<pre>\n",
    "print(wynagrodzenia['Nowak'])\n",
    "</pre>"
   ]
  },
  {
   "cell_type": "markdown",
   "metadata": {},
   "source": [
    "### Obiekty klucz-wartość jako szeregi\n",
    "\n",
    "Szeregi możemy tworzyć również z obiektów przechowujących pary klucz-wartość, czyli ze słowników. Wówczas klucz par staje się etykietą. \n",
    "\n",
    "Przykład:\n",
    "\n",
    "<pre>\n",
    "import pandas as pd\n",
    "\n",
    "miesiace = {\"styczeń\": 1, \"luty\": 2, \"marzec\": 3, \"kwiecień\": 4}\n",
    "\n",
    "kalendarz = pd.Series(miesiace)\n",
    "\n",
    "print(kalendarz)\n",
    "</pre>"
   ]
  },
  {
   "cell_type": "markdown",
   "metadata": {},
   "source": [
    "W tym przypadku za pomocą argumentu index możemy wskazać, które elementy słownika mają zostać wstawione do szeregu. Przykład:\n",
    "\n",
    "<pre>\n",
    "import pandas as pd\n",
    "\n",
    "miesiace = {\"styczeń\": 1, \"luty\": 2, \"marzec\": 3, \"kwiecień\": 4}\n",
    "\n",
    "kalendarz = pd.Series(miesiace, index=[\"luty\", \"kwiecień\"])\n",
    "\n",
    "print(kalendarz)\n",
    "</pre>"
   ]
  },
  {
   "cell_type": "markdown",
   "metadata": {},
   "source": [
    "### Ramki danych\n",
    "Dane są zazwyczaj przechowywane w wielokolumnowych tabelach (lub wielowymiarowych macierzach). Do pracy z takimi obiektami służą ramki danych (z agn. data frame). W porównaniu do ramek danych można powiedzieć, że szereg może odpowiadać pojedyńczej kolumnie z ramki. \n",
    "\n",
    "Przykład - tworzymy ramkę danych z dwóch szeregów:\n",
    "\n",
    "<pre>\n",
    "import pandas as pd\n",
    "\n",
    "wynagrodzenia = {\n",
    "  \"styczeń\": [5000, 6000, 7000, 8000],\n",
    "  \"luty\": [5200, 6200, 7200, 8200]\n",
    "}\n",
    "\n",
    "df = pd.DataFrame(wynagrodzenia)\n",
    "\n",
    "print(df)\n",
    "</pre>"
   ]
  },
  {
   "cell_type": "code",
   "execution_count": 57,
   "metadata": {
    "scrolled": true
   },
   "outputs": [
    {
     "name": "stdout",
     "output_type": "stream",
     "text": [
      "           styczeń  luty\n",
      "Kowalski      5000  5200\n",
      "Nowak         6000  6200\n",
      "Piechocki     7000  7200\n",
      "Maćkowiak     8000  8200\n"
     ]
    }
   ],
   "source": [
    "import pandas as pd\n",
    "\n",
    "wynagrodzenia = {\n",
    "  \"styczeń\": [5000, 6000, 7000, 8000],\n",
    "  \"luty\": [5200, 6200, 7200, 8200]\n",
    "}\n",
    "\n",
    "df = pd.DataFrame(wynagrodzenia, index=[\"Kowalski\", \"Nowak\", \"Piechocki\", \"Maćkowiak\"])\n",
    "\n",
    "print(df)"
   ]
  },
  {
   "cell_type": "code",
   "execution_count": 58,
   "metadata": {},
   "outputs": [
    {
     "data": {
      "text/plain": [
       "styczeń    5000\n",
       "luty       5200\n",
       "Name: Kowalski, dtype: int64"
      ]
     },
     "execution_count": 58,
     "metadata": {},
     "output_type": "execute_result"
    }
   ],
   "source": [
    "df.loc[\"Kowalski\"]"
   ]
  },
  {
   "cell_type": "markdown",
   "metadata": {},
   "source": [
    "### Zwracanie wierszy z ramki danych\n",
    "Ramki danych to zazwyczaj struktury dwuwymiarowe - posiadają kolumny i wiersze. Aby zwrócić wiersz z ramki danych należy skorzystać z polecenia loc[nr_wiersza].\n",
    "\n",
    "Przykłady:"
   ]
  },
  {
   "cell_type": "markdown",
   "metadata": {},
   "source": [
    "<pre>import pandas as pd\n",
    "\n",
    "wynagrodzenia = {\n",
    "  \"styczeń\": [5000, 6000, 7000, 8000],\n",
    "  \"luty\": [5200, 6200, 7200, 8200]\n",
    "}\n",
    "\n",
    "df = pd.DataFrame(wynagrodzenia)\n",
    "</pre>\n",
    "\n",
    "- zwracanie pierwszego wiersza: \n",
    "\n",
    "<pre>\n",
    "print(df.loc[0])\n",
    "</pre>\n",
    "\n",
    "- zwracanie pierwszego i drugiego wiersza:\n",
    "<pre>\n",
    "print(df.loc[[0, 1]])\n",
    "</pre>\n",
    "\n",
    "- zwracanie wierszy od pierwszego do trzeciego:\n",
    "<pre>\n",
    "print(df.loc[0:2]])\n",
    "</pre>\n",
    "\n",
    "Aby zwrócić całą ramkę danych można skorzystać z instrukcji: print(df.to_string())"
   ]
  },
  {
   "cell_type": "code",
   "execution_count": 54,
   "metadata": {},
   "outputs": [],
   "source": [
    "import pandas as pd\n",
    "\n",
    "wynagrodzenia = {\n",
    "  \"styczeń\": [5000, 6000, 7000, 8000],\n",
    "  \"luty\": [5200, 6200, 7200, 8200]\n",
    "}\n",
    "\n",
    "df = pd.DataFrame(wynagrodzenia)"
   ]
  },
  {
   "cell_type": "code",
   "execution_count": 56,
   "metadata": {},
   "outputs": [
    {
     "data": {
      "text/plain": [
       "styczeń    5000\n",
       "luty       5200\n",
       "Name: 0, dtype: int64"
      ]
     },
     "execution_count": 56,
     "metadata": {},
     "output_type": "execute_result"
    }
   ],
   "source": [
    "df.loc[0]"
   ]
  },
  {
   "cell_type": "markdown",
   "metadata": {},
   "source": [
    "### Etykietowanie wierszy \n",
    "\n",
    "Aby nadać nazwy poszczególnym wierszom w ramce danych, możemy skorzystać (ponownie) z argumentu index, do którego po znaku równości przypiszemy listę nazw kolejnych wierszy rozdzielone przecinkami. \n",
    "\n",
    "Przykład - etykietowanie wierszy\n",
    "\n",
    "<pre>\n",
    "import pandas as pd\n",
    "\n",
    "wynagrodzenia = {\n",
    "  \"styczeń\": [5000, 6000, 7000, 8000],\n",
    "  \"luty\": [5200, 6200, 7200, 8200]\n",
    "}\n",
    "\n",
    "df = pd.DataFrame(wynagrodzenia, index = [\"Kowalski\", \"Nowak\", \"Cieślak\", \"Stasik\"])\n",
    "\n",
    "print(df)\n",
    "</pre>\n",
    "\n",
    "Indeks wiersza może posłużyć do wskazania danego wiersza:\n",
    "\n",
    "<pre>\n",
    "print(df.loc[\"Nowak\"])\n",
    "</pre>"
   ]
  },
  {
   "cell_type": "markdown",
   "metadata": {},
   "source": [
    "### Wczytywanie danych\n",
    "\n",
    "Zazwyczaj korzystamy z biblioteki Pandas do analizowania danych przechowywanych w zasobach komputera np. w postaci plików tekstowych. Często stosowanymi formatami dla plików z danymi są formaty: \n",
    "- csv (plik tekstowy z danymi rozdzielonymi ustalonym separatorem)\n",
    "- json (pliki zawierające ustrukturalizowane dane w postaci zbliżonej do słowników)\n",
    "- xlsx (pliki w formacie programu MS Excel)\n",
    "\n",
    "Pliki w poszczególnych formatach możemy importować korzystając z następujących instrukcji:\n",
    "- wczytywanie danych w formacie csv: df = pd.read_csv('plik_z_danymi.csv')\n",
    "- wczytywanie danych w formacie json: df = pd.read_json('plik_z_danymi.json')\n",
    "- wczytywanie danych w formacie xlsx: df = pd.read_excel('plik_z_danymi.xlsx')"
   ]
  },
  {
   "cell_type": "code",
   "execution_count": null,
   "metadata": {},
   "outputs": [],
   "source": []
  },
  {
   "cell_type": "markdown",
   "metadata": {},
   "source": [
    "### Wyświetlanie i analiza danych\n",
    "\n",
    "Domyślnie wywołując zapełnioną ramkę danych zostanie zwrócone 5 pierwszych i 5 ostatnich wierszy. Wyświetlanie w innych formach odbywa się przy zastosowaniu metod:\n",
    "\n",
    "- head(n) - zwraca pierwsze n wierszy, domyślnie n=5\n",
    "- tail(n) - zwraca ostatnie n wierszy, domyślnie n=5\n",
    "\n",
    "Ramka danych posiada również metodę info(), która zwraca najważniejsze informacje dotyczące zbioru - wraz z informacją na temat występowania wartości typu null oraz non-null."
   ]
  },
  {
   "cell_type": "markdown",
   "metadata": {},
   "source": [
    "### Czyszczenie danych\n",
    "\n",
    "Przez czyszczenie danych rozumiemy naprawianie źle wprowadzonych (wadliwych) danych. Do wadliwych danych możemy zaliczyć m.in. puste komórki, dane w złym formacie, złe dane, duplikaty."
   ]
  },
  {
   "cell_type": "markdown",
   "metadata": {},
   "source": [
    "#### Puste komórki\n",
    "\n",
    "Powszechnym problemem wielu zbiorów danych są puste komórki. Nieobsłużone puste komówki mogą być przyczyną błędów w wyliczanych statystykach (np. przy wyliczaniu średniej, suma elementów będzie dzielona przez złą wartość). \n",
    "\n",
    "Jednym ze sposobów radzenia sobie z problemem pustych komórek jest ich usuwanie. Jeżeli zbiór danych jest duży - to rozwiązanie jest do zaakceptowania. \n",
    "\n",
    "Usuwanie pustych komórek wykonujemy poleceniem dropna(). Domyślnie - zawsze zwraca nową ramkę danych nie zmieniająć oryginału. \n",
    "\n",
    "Jeżeli chcemy podmienić oryginał, możemy skorzystać z argumentu inplace i nadać mu wartość True: dropna(inplace = True).\n",
    "\n",
    "Przykład:\n",
    "\n",
    "<pre>\n",
    "new_df = df.dropna()\n",
    "df.dropna(inplace = True)\n",
    "</pre>\n",
    "\n",
    "Komórki zawieracjące wartości NULL możemy również naprawić korzystając z metody dropna().\n",
    "\n",
    "Problem brakujących wartości możemy również rozwiązać poprzez zastępowanie pustych komórek. Ta metoda polega na wypełnieniu uszkodzonych komórek za pomocą polecenia fillna(), która jako pierwszy argument przyjmuje wartość do wstawienia. \n",
    "\n",
    "Argumentem metody fillna() może w szczególności być średnia, mediana lub dominanta. \n",
    "\n",
    "Przykład - usuwanie brakujących rekordów:\n",
    "\n",
    "<pre>\n",
    "import pandas as pd\n",
    "\n",
    "df = pd.read_csv('plik_z_danymi.csv')\n",
    "\n",
    "new_df = df.dropna()\n",
    "\n",
    "print(new_df.to_string())\n",
    "</pre>\n",
    "\n",
    "Przykład - usuwanie brakujących rekordów (nadpisywanie oryginalnej ramki):\n",
    "\n",
    "<pre>\n",
    "import pandas as pd\n",
    "\n",
    "df = pd.read_csv('plik_z_danymi.csv')\n",
    "\n",
    "df.dropna(inplace = True)\n",
    "\n",
    "print(df.to_string())\n",
    "</pre>\n",
    "\n",
    "Przykład - zastępowanie wartości NULL wartością 111:\n",
    "\n",
    "<pre>\n",
    "import pandas as pd\n",
    "\n",
    "df = pd.read_csv('plik_z_danymi.csv')\n",
    "\n",
    "df.fillna(130, inplace = True)\n",
    "</pre>\n",
    "\n",
    "Przykład - zastąpienie wartości NULL na wartość 111 tylko w zadanej kolumnie:\n",
    "\n",
    "<pre>\n",
    "import pandas as pd\n",
    "\n",
    "df = pd.read_csv('plik_z_danymi.csv')\n",
    "\n",
    "df[\"nazwa kolumny\"].fillna(111, inplace = True)\n",
    "</pre>\n",
    "\n",
    "Przykład - zastępowanie brakujących wartości w zadanej kolumnie z wykorzystaniem średniej:\n",
    "\n",
    "<pre>\n",
    "import pandas as pd\n",
    "\n",
    "df = pd.read_csv('plik_z_danymi.csv')\n",
    "\n",
    "x = df[\"nazwa kolumny\"].mean()\n",
    "\n",
    "df[\"nazwa kolumny\"].fillna(x, inplace = True)\n",
    "\n",
    "</pre>\n",
    "\n",
    "Przykład - zastępowanie brakujących wartości w zadanej kolumnie z wykorzystaniem mediany:\n",
    "\n",
    "<pre>\n",
    "import pandas as pd\n",
    "\n",
    "df = pd.read_csv('plik_z_danymi.csv')\n",
    "\n",
    "x = df[\"nazwa kolumny\"].median()\n",
    "\n",
    "df[\"nazwa kolumny\"].fillna(x, inplace = True)\n",
    "</pre>\n",
    "\n",
    "Przykład - zastępowanie brakujących wartości w zadanej kolumnie z wykorzystaniem dominanty (mody):\n",
    "\n",
    "<pre>\n",
    "import pandas as pd\n",
    "\n",
    "df = pd.read_csv('plik_z_danymi.csv')\n",
    "\n",
    "x = df[\"nazwa kolumny\"].mode()[0]\n",
    "\n",
    "df[\"nazwa kolumny\"].fillna(x, inplace = True)\n",
    "</pre>"
   ]
  },
  {
   "cell_type": "markdown",
   "metadata": {},
   "source": [
    "#### Błędny format danych\n",
    " \n",
    "Analiza danych zawierających komórki z błędami formatu może być bardzo kłopotliwa albo nawet niemożliwa. Poradzić sobie z tym problemem można na dwa sposoby: usunąć wiersze zawierające błędne formaty lub dokonać konwersji wszystkich komórek (np. w kolejnych kolumnach) na jednakowy format. \n",
    "\n",
    "Przykład - konwersja formatu (na format daty) w zadanej kolumnie za pomocą metody to_datetime():\n",
    "\n",
    "<pre>\n",
    "import pandas as pd\n",
    "\n",
    "df = pd.read_csv('plik_z_danymi.csv')\n",
    "\n",
    "df['Data'] = pd.to_datetime(df['Data'])\n",
    "\n",
    "print(df.to_string())\n",
    "</pre>\n",
    "\n",
    "Przykład - usuwanie wierszy zawierające dane nieokreślone (NaN, NaT, ...) za pomocą metody dropna():\n",
    "\n",
    "<pre>\n",
    "df.dropna(subset=['Date'], inplace = True)\n",
    "</pre>"
   ]
  },
  {
   "cell_type": "markdown",
   "metadata": {},
   "source": [
    "#### Złe dane\n",
    "\n",
    "Zdarza się, że tabela zawiera nie tyle braki czy dane w złym formacie, ale błędne wyniki. Dla przykładu - w momencie zbierania danych rejestrator pomylił miejsca po przecinku (tzw. błędy grube). Tego typu usterki naprawiamy wykonując podstawienia błędnych danych lub poprzez usuwanie wierszy.\n",
    "\n",
    "Przykład - podstawianie poprawionych danych do zlokalizowanej komórki z błędem:\n",
    "\n",
    "<pre>\n",
    "df.loc[7, 'Duration'] = 45\n",
    "for x in df.index: \n",
    "  if df.loc[x, \"Duration\"] > 120:\n",
    "    df.loc[x, \"Duration\"] = 120\n",
    "</pre>\n",
    "\n",
    "Przykład - usuwanie wierszy:\n",
    "\n",
    "<pre>\n",
    "for x in df.index: \n",
    "  if df.loc[x, \"Duration\"] > 120:\n",
    "    df.drop(x, inplace = True)\n",
    "</pre>"
   ]
  },
  {
   "cell_type": "markdown",
   "metadata": {},
   "source": [
    "#### Duplikaty\n",
    "Przez duplikat rozumiemy powtórzenie rekordu w tabeli. Pandas posiada metody zarówno do wyświetlania duplikatów jak również do ich usuwania.\n",
    "\n",
    "Przykład - wyszukiwanie duplikatów:\n",
    "<pre>\n",
    "print(df.duplicated())\n",
    "</pre>\n",
    "\n",
    "Przykład - usuwanie duplikatów:\n",
    "<pre>\n",
    "df.drop_duplicates(inplace = True)\n",
    "</pre>"
   ]
  },
  {
   "cell_type": "markdown",
   "metadata": {},
   "source": [
    "### Przegląd przydatnych instrukcji\n",
    "\n",
    "Poniżej zostały wymienione wybrane instrukcje przydatne w trakcie pracy z danymi za pomocą pakietu pandas w postaci ramki danych (tutaj przypisanej do zmiennej df):\n",
    "- df.info() - opis danych, zwraca opis zawartości poszczególnych kolumn\n",
    "- list(df) - zwraca listę kolumn w ramce danych\n",
    "- df.rename(columns={\"old name 1\" : \"new name 1\", \"old name 2\" : \"new name 2\"}) - zmiana nazw kolumn, nazwy do zamiany podawane są w postaci słownika\n",
    "- df.corr() - zwraca tablicę korelacji pomiędzy kolumnami w ramce danych\n",
    "- df[\"col1_name\"].corr(df[\"col2_name\"]) - zwraca współczynnik korelacji pomiędzy zadanymi kolumnami\n",
    "- df[\"col_name\"].unique() - zwraca unikatowe wartości w kolumnie\n",
    "- df.replace(to_replace=value_1, value=value_2, inplace=True) - podmienia wskazaną wartość w całej ramce danych\n",
    "- df.hist() - zwraca histogram ze wszystkich kolumn\n",
    "- df.insert(loc, column, value) - wstawia kolumnę do ramki danych\n",
    "- df.drop(columns = [\"col_1\", \"col_2\", \"col_3\"]) - usuwa z ramki danych wskazane kolumny\n",
    "\n",
    "Bogatym źródłem informacji dot. wszystkich dostępnych instrukcji jest strona internetowa biblioteki pandas: https://pandas.pydata.org/docs/reference/frame.html\n",
    "\n",
    "W czasie pracy z pandas (w szczególności na początku) warto wspierać się arkuszem informacyjnym przygotowanym przez twórców pakietu: https://pandas.pydata.org/Pandas_Cheat_Sheet.pdf"
   ]
  }
 ],
 "metadata": {
  "kernelspec": {
   "display_name": "Python 3",
   "language": "python",
   "name": "python3"
  },
  "language_info": {
   "codemirror_mode": {
    "name": "ipython",
    "version": 3
   },
   "file_extension": ".py",
   "mimetype": "text/x-python",
   "name": "python",
   "nbconvert_exporter": "python",
   "pygments_lexer": "ipython3",
   "version": "3.8.5"
  }
 },
 "nbformat": 4,
 "nbformat_minor": 5
}
