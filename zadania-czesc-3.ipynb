{
 "cells": [
  {
   "cell_type": "markdown",
   "metadata": {},
   "source": [
    "# Wyjątki\n",
    "\n",
    "Obsługa wyjątków pozwala zabezpieczyć program przed niespodziewanymi/niepożądanymi awariami na wypadek m.in.\n",
    "- wprowadzenia danych złego typu\n",
    "- wykroczenia poza zakres sekwencji\n",
    "- sytuacji dzielenia przez zero\n",
    "- … i wielu innych…\n",
    "\n",
    "Przykład:\n",
    "lista = [2, 5, 7]\n",
    "\n",
    "lista[3] - wyrzuci wyjątek\n",
    "\n",
    "Sposób 1:"
   ]
  },
  {
   "cell_type": "code",
   "execution_count": 6,
   "metadata": {},
   "outputs": [],
   "source": [
    "lista = [2, 7, 3]"
   ]
  },
  {
   "cell_type": "code",
   "execution_count": 7,
   "metadata": {},
   "outputs": [
    {
     "ename": "IndexError",
     "evalue": "list index out of range",
     "output_type": "error",
     "traceback": [
      "\u001b[0;31m---------------------------------------------------------------------------\u001b[0m",
      "\u001b[0;31mIndexError\u001b[0m                                Traceback (most recent call last)",
      "\u001b[0;32m<ipython-input-7-34a960744870>\u001b[0m in \u001b[0;36m<module>\u001b[0;34m\u001b[0m\n\u001b[0;32m----> 1\u001b[0;31m \u001b[0mlista\u001b[0m\u001b[0;34m[\u001b[0m\u001b[0;36m3\u001b[0m\u001b[0;34m]\u001b[0m\u001b[0;34m\u001b[0m\u001b[0;34m\u001b[0m\u001b[0m\n\u001b[0m",
      "\u001b[0;31mIndexError\u001b[0m: list index out of range"
     ]
    }
   ],
   "source": [
    "lista[3]"
   ]
  },
  {
   "cell_type": "code",
   "execution_count": 8,
   "metadata": {},
   "outputs": [],
   "source": [
    "# try:\n",
    "#     lista[3]\n",
    "# except:\n",
    "#     print(’’Poza zakresem listy’’)"
   ]
  },
  {
   "cell_type": "code",
   "execution_count": 8,
   "metadata": {},
   "outputs": [
    {
     "name": "stdout",
     "output_type": "stream",
     "text": [
      "Wykroczyłeś poza zakres listy\n"
     ]
    }
   ],
   "source": [
    "try:\n",
    "    lista[3]\n",
    "except:\n",
    "    print(\"Wykroczyłeś poza zakres listy\")"
   ]
  },
  {
   "cell_type": "markdown",
   "metadata": {},
   "source": [
    "Tym sposobem obsłużymy wszystkie wyjątki, ale nie wiemy jakiego typu wyjątek się pojawił.\n",
    "\n",
    "Sposób 2:"
   ]
  },
  {
   "cell_type": "code",
   "execution_count": null,
   "metadata": {},
   "outputs": [],
   "source": [
    "# try:\n",
    "#    lista[3]\n",
    "# except IndexError:\n",
    "#    print(\"Poza zakresem listy\")"
   ]
  },
  {
   "cell_type": "code",
   "execution_count": 11,
   "metadata": {},
   "outputs": [
    {
     "name": "stdout",
     "output_type": "stream",
     "text": [
      "Poza zakresem listy\n"
     ]
    }
   ],
   "source": [
    "try:\n",
    "    10/0\n",
    "except ZeroDivisionError:\n",
    "    print(\"Poza zakresem listy\")"
   ]
  },
  {
   "cell_type": "markdown",
   "metadata": {},
   "source": [
    "Korzystając z tej konstrukcji, ustawiliśmy program na wyłapanie konkretnego typu wyjątku.\n",
    "\n",
    "Sposób 3:"
   ]
  },
  {
   "cell_type": "code",
   "execution_count": 11,
   "metadata": {},
   "outputs": [],
   "source": [
    "# try:\n",
    "#     lista[3]\n",
    "# except IndexError:\n",
    "#     print(\"Poza zakresem listy\")\n",
    "# else:\n",
    "#     print(\"ta linia wykona się jeżeli blok try się powiedzie\")\n",
    "# finally:\n",
    "#     print(\"ta linia wykona się zawsze\")"
   ]
  },
  {
   "cell_type": "code",
   "execution_count": 15,
   "metadata": {},
   "outputs": [
    {
     "name": "stdout",
     "output_type": "stream",
     "text": [
      "Wykroczyłeś poza zakres listy\n",
      "ta linia wykona się zawsze\n"
     ]
    }
   ],
   "source": [
    "try:\n",
    "    lista[3]\n",
    "except:\n",
    "    print(\"Wykroczyłeś poza zakres listy\")\n",
    "else: \n",
    "    print(\"Try się powiodło\")\n",
    "finally:\n",
    "    print(\"ta linia wykona się zawsze\")"
   ]
  },
  {
   "cell_type": "markdown",
   "metadata": {},
   "source": [
    "Listę dostępnych wyjątków w języku Python można sprawdzić na stronie: https://docs.python.org/3/library/exceptions.html"
   ]
  },
  {
   "cell_type": "markdown",
   "metadata": {},
   "source": [
    "### Zadanie 3.1\n",
    "\n",
    "Stwórz kalkulator, który będzie odporny na niewłaściwe dane wprowadzane przez użytkownika. Program powinien pobierać pierwszą liczbę, drugą liczbę, znak operacji (+ - * /), wyświetlać wynik. Jeżeli użytkownik poda niepoprawną wartość, program pyta go ponownie o wpisanie właściwej informacji."
   ]
  },
  {
   "cell_type": "code",
   "execution_count": 19,
   "metadata": {},
   "outputs": [
    {
     "name": "stdout",
     "output_type": "stream",
     "text": [
      "Podaj pierwszą liczbę: 4\n",
      "Podaj drugą liczbę: 3\n",
      "podaj znak działania (+, -, *, /): f\n",
      "Nie ma takiej operacji!\n",
      "podaj znak działania (+, -, *, /): *\n",
      "wynik: 12\n"
     ]
    }
   ],
   "source": [
    "while(True):\n",
    "    try:\n",
    "        zm1 = int(input(\"Podaj pierwszą liczbę: \"))\n",
    "    except:\n",
    "        print(\"Podana wartość nie jest liczbą!\")\n",
    "    else:\n",
    "        break\n",
    "\n",
    "while(True):\n",
    "    try:\n",
    "        zm2 = int(input(\"Podaj drugą liczbę: \"))\n",
    "    except:\n",
    "        print(\"Podana wartość nie jest liczbą!\")\n",
    "    else:\n",
    "        break\n",
    "        \n",
    "wynik = 0\n",
    "\n",
    "while(True):\n",
    "    znak = input(\"podaj znak działania (+, -, *, /): \")\n",
    "    \n",
    "    if (znak == \"+\"):\n",
    "        wynik = zm1 + zm2\n",
    "        print(f\"wynik: {wynik}\")\n",
    "        break\n",
    "    \n",
    "    elif (znak == \"-\"):\n",
    "        wynik = zm1 - zm2\n",
    "        print(f\"wynik: {wynik}\")\n",
    "        break\n",
    "    \n",
    "    elif (znak == \"*\"):\n",
    "        wynik = zm1 * zm2\n",
    "        print(f\"wynik: {wynik}\")\n",
    "        break\n",
    "        \n",
    "    elif (znak == \"/\"):\n",
    "        try:\n",
    "            wynik = zm1/zm2\n",
    "            print(f\"wynik: {wynik}\")\n",
    "            break\n",
    "        except ZeroDivisionError: \n",
    "            print(\"wynik: niedozwolone dzielenie przez 0\")\n",
    "            break\n",
    "    else:\n",
    "        print(\"Nie ma takiej operacji!\")\n",
    "        \n",
    "    "
   ]
  },
  {
   "cell_type": "markdown",
   "metadata": {},
   "source": [
    "# Funkcje\n",
    "\n",
    "Funkcje umożliwiają wielokrotne wykorzystywanie raz napisanego już kodu i pomagają w porządkowaniu programu. Działanie funkcji można przyrównać do funkcji w matematyce, w której po dostarczeniu danych (argumenty) otrzymujemy pewien wynik (wartości). \n",
    "\n",
    "Przykładami funkcji z których korzystaliśmy do tej pory były m. in. print() oraz len(). Na ich przykładzie możemy zauważyć, że funkcja:\n",
    "- posiada nazwę,\n",
    "- może przyjmować argumenty,\n",
    "- może zwracać dane (wyniki operacji).\n",
    "\n",
    "Składnia funkcji w języku Python jest następująca:"
   ]
  },
  {
   "cell_type": "code",
   "execution_count": 20,
   "metadata": {},
   "outputs": [],
   "source": [
    "lista = [1, 2, 3]"
   ]
  },
  {
   "cell_type": "code",
   "execution_count": 21,
   "metadata": {},
   "outputs": [
    {
     "data": {
      "text/plain": [
       "3"
      ]
     },
     "execution_count": 21,
     "metadata": {},
     "output_type": "execute_result"
    }
   ],
   "source": [
    "len(lista)"
   ]
  },
  {
   "cell_type": "code",
   "execution_count": 22,
   "metadata": {},
   "outputs": [
    {
     "name": "stdout",
     "output_type": "stream",
     "text": [
      "Hello World!\n"
     ]
    }
   ],
   "source": [
    "print(\"Hello World!\")"
   ]
  },
  {
   "cell_type": "code",
   "execution_count": null,
   "metadata": {},
   "outputs": [],
   "source": [
    "# def nazwa_funkcji(argumenty):\n",
    "#     <instrukcje do wykonania>\n",
    "#     return dane"
   ]
  },
  {
   "cell_type": "markdown",
   "metadata": {},
   "source": [
    "Funkcja:\n",
    "- funkcja może przyjmować argumenty wybranego typu, jeśli podamy ich nazwy w nawiasie ( … ), ale nie jest to wymagane,\n",
    "- może wykonywać pewne operacje, łącznie z wyświetlaniem komunikatów w konsoli, zapisywaniem plików, tworzeniem wykresów czy wyświetlaniem obrazów,\n",
    "- może zwracać określoną wartość (lub wiele wartości) wybranego typu, przy użyciu instrukcji „return”, ale nie jest to wymagane.\n",
    "\n",
    "Przykład funkcji przyjmującej argumenty „a” i „b” i zwracającej wartość „c”:"
   ]
  },
  {
   "cell_type": "code",
   "execution_count": 1,
   "metadata": {},
   "outputs": [],
   "source": [
    "# def nazwa_funkcji(a, b):\n",
    "#     c = a + b\n",
    "#     return c"
   ]
  },
  {
   "cell_type": "code",
   "execution_count": 32,
   "metadata": {},
   "outputs": [],
   "source": [
    "def dodawanie(a=0, b=0):\n",
    "    c = a+b\n",
    "    d = a-b\n",
    "    print(\"Działania zostały wykonane!\")\n",
    "    return c, d"
   ]
  },
  {
   "cell_type": "code",
   "execution_count": 33,
   "metadata": {},
   "outputs": [
    {
     "name": "stdout",
     "output_type": "stream",
     "text": [
      "Działania zostały wykonane!\n"
     ]
    },
    {
     "data": {
      "text/plain": [
       "(0, 0)"
      ]
     },
     "execution_count": 33,
     "metadata": {},
     "output_type": "execute_result"
    }
   ],
   "source": [
    "dodawanie()"
   ]
  },
  {
   "cell_type": "code",
   "execution_count": 26,
   "metadata": {},
   "outputs": [
    {
     "data": {
      "text/plain": [
       "1100"
      ]
     },
     "execution_count": 26,
     "metadata": {},
     "output_type": "execute_result"
    }
   ],
   "source": [
    "wynik"
   ]
  },
  {
   "cell_type": "markdown",
   "metadata": {},
   "source": [
    "Argumenty funkcji mogą posiadać początkowo ustalone wartości. Wówczas jeżeli użytkownik nie wprowadzi wartości argumentów do funkcji, funkcja skorzysta z wartości domyślnych."
   ]
  },
  {
   "cell_type": "code",
   "execution_count": 3,
   "metadata": {},
   "outputs": [],
   "source": [
    "# def nazwa_funkcji(a = wartosc_1, b = wartosc_2):\n",
    "#     c = a + b\n",
    "#     return c"
   ]
  },
  {
   "cell_type": "markdown",
   "metadata": {},
   "source": [
    "Funkcja może zwracać więcej niż jedną wartość w miejscu return"
   ]
  },
  {
   "cell_type": "code",
   "execution_count": 4,
   "metadata": {},
   "outputs": [],
   "source": [
    "# def nazwa_funkcji(a = wartosc_1, b = wartosc_2):\n",
    "#     c = a + b\n",
    "#     d = a - b \n",
    "#     return c, d"
   ]
  },
  {
   "cell_type": "markdown",
   "metadata": {},
   "source": [
    "### Zadanie 3.2\n",
    "\n",
    "Napisz funkcję bez argumetu, która wypisze w konsoli komunikat \"Witaj świecie!\""
   ]
  },
  {
   "cell_type": "code",
   "execution_count": 34,
   "metadata": {},
   "outputs": [],
   "source": [
    "def witaj_swiecie():\n",
    "    print(\"Witaj Świecie!\")"
   ]
  },
  {
   "cell_type": "code",
   "execution_count": 35,
   "metadata": {},
   "outputs": [
    {
     "name": "stdout",
     "output_type": "stream",
     "text": [
      "Witaj Świecie!\n"
     ]
    }
   ],
   "source": [
    "witaj_swiecie()"
   ]
  },
  {
   "cell_type": "markdown",
   "metadata": {},
   "source": [
    "### Zadanie 3.3\n",
    "\n",
    "Napisz funkcję, która przyjmie od użytkownika liczbę całkowitą i zwróci informację, czy jest parzysta, czy nie."
   ]
  },
  {
   "cell_type": "code",
   "execution_count": 36,
   "metadata": {},
   "outputs": [],
   "source": [
    "def czy_parzysta(liczba):\n",
    "    if (liczba%2==0):\n",
    "        print(f\"liczba {liczba} jest parzysta\")\n",
    "    else:\n",
    "        print(f\"liczba {liczba} jest nieparzysta\")"
   ]
  },
  {
   "cell_type": "code",
   "execution_count": 38,
   "metadata": {},
   "outputs": [
    {
     "name": "stdout",
     "output_type": "stream",
     "text": [
      "liczba 10 jest parzysta\n"
     ]
    }
   ],
   "source": [
    "czy_parzysta(10)"
   ]
  },
  {
   "cell_type": "markdown",
   "metadata": {},
   "source": [
    "### Zadanie 3.4\n",
    "\n",
    "Napisz funkcję, która przyjmie od użytkownika dwie liczby i zwróci wynik ich dodawania, odejmowania, mnożenia i dzielenia."
   ]
  },
  {
   "cell_type": "code",
   "execution_count": 39,
   "metadata": {},
   "outputs": [],
   "source": [
    "def dzialania(a, b):\n",
    "    dodawanie = a+b\n",
    "    odejmowanie = a-b\n",
    "    mnozenie = a*b\n",
    "    if(b!=0):\n",
    "        dzielenie=a/b\n",
    "    else:\n",
    "        dzielenie=\"NaN\"\n",
    "    \n",
    "    return dodawanie, odejmowanie, mnozenie, dzielenie"
   ]
  },
  {
   "cell_type": "code",
   "execution_count": 41,
   "metadata": {},
   "outputs": [
    {
     "data": {
      "text/plain": [
       "(3, 3, 0, 'NaN')"
      ]
     },
     "execution_count": 41,
     "metadata": {},
     "output_type": "execute_result"
    }
   ],
   "source": [
    "dzialania(3, 0)"
   ]
  },
  {
   "cell_type": "markdown",
   "metadata": {},
   "source": [
    "### Zadanie 3.5\n",
    "\n",
    "Napisz funkcję, która przyjmie listę liczb i zwróci sumę z tych liczb."
   ]
  },
  {
   "cell_type": "code",
   "execution_count": 42,
   "metadata": {},
   "outputs": [],
   "source": [
    "def suma_listy(lista):\n",
    "    suma = 0\n",
    "    for item in lista:\n",
    "        suma = suma+item\n",
    "    return suma"
   ]
  },
  {
   "cell_type": "code",
   "execution_count": 43,
   "metadata": {},
   "outputs": [],
   "source": [
    "lista=[1, 2, 3]"
   ]
  },
  {
   "cell_type": "code",
   "execution_count": 44,
   "metadata": {},
   "outputs": [
    {
     "data": {
      "text/plain": [
       "6"
      ]
     },
     "execution_count": 44,
     "metadata": {},
     "output_type": "execute_result"
    }
   ],
   "source": [
    "suma_listy(lista)"
   ]
  },
  {
   "cell_type": "markdown",
   "metadata": {},
   "source": [
    "### Zadanie 3.6\n",
    "\n",
    "Związek między temperaturą w skali Celsjusza, a temperaturą w skali Fahrenheita ma postać:\n",
    "- C = (F-32)*(5/9) (przy przeliczaniu skali Fahrenheita na Celsjusza),\n",
    "- F = (C*(9/5)) + 32 (przy przeliczanniu skali Celsjusza na skalę Fahrenheita).\n",
    "\n",
    "Napisz dwie funkcje do przeliczania temperatur między poszczególnymi skalami."
   ]
  },
  {
   "cell_type": "code",
   "execution_count": 45,
   "metadata": {},
   "outputs": [],
   "source": [
    "def f_na_c(f):\n",
    "    temp = (f-32)*(5/9)\n",
    "    return temp\n",
    "\n",
    "def c_na_f(c):\n",
    "    temp = c*(9/5)+32\n",
    "    return temp"
   ]
  },
  {
   "cell_type": "code",
   "execution_count": 47,
   "metadata": {},
   "outputs": [
    {
     "data": {
      "text/plain": [
       "-17.77777777777778"
      ]
     },
     "execution_count": 47,
     "metadata": {},
     "output_type": "execute_result"
    }
   ],
   "source": [
    "f_na_c(0)"
   ]
  },
  {
   "cell_type": "markdown",
   "metadata": {},
   "source": [
    "### Zadanie 3.7\n",
    "\n",
    "Trójmian kwadratowy wyraża się wzorem $y=ax^2 + bx + c$. Utwórz funkcję, która będzie przyjmować jako argumenty współczynniki $a, b, c$ trójmianu kwadratowego, a zwracać będzie miejsca zerowe oraz współrzędne wierzchołka funkcji. Funckja powinna obsługiwać sytuację braku rozwiązań rzeczywistych. \n",
    "\n",
    "Uzupełnienie matematyczne: Obliczenia opierają się na wyróżniku funkcji kwadratowej, $\\Delta = b^2 - 4ac$. Wówczas kolejne pierwiastki wyrażają się wzorem: $x_{1, 2} = \\frac{- b \\pm \\sqrt{\\Delta}}{2a}$, natomiast współprzędne wierzchołka: $p=\\frac{-b}{2a}$, $q=\\frac{-\\Delta}{4a}$."
   ]
  },
  {
   "cell_type": "code",
   "execution_count": 48,
   "metadata": {},
   "outputs": [],
   "source": [
    "def trojmian(a, b, c):\n",
    "    delta = b*b-4*a*c\n",
    "    if(delta>0):\n",
    "        x1 = (-b+delta**0.5)/(2*a)\n",
    "        x2 = (-b-delta**0.5)/(2*a)\n",
    "    elif(delta==0):\n",
    "        x1 = -b/(2*a)\n",
    "        x2 = x1\n",
    "    else:\n",
    "        x1=\"NaN\"\n",
    "        x2=\"NaN\"\n",
    "    p=(-b)/(2*a)\n",
    "    q=(-delta)/(4*a)\n",
    "    \n",
    "    return x1, x2, p, q"
   ]
  },
  {
   "cell_type": "code",
   "execution_count": 51,
   "metadata": {},
   "outputs": [
    {
     "data": {
      "text/plain": [
       "('NaN', 'NaN', -0.5, 0.5)"
      ]
     },
     "execution_count": 51,
     "metadata": {},
     "output_type": "execute_result"
    }
   ],
   "source": [
    "trojmian(2, 2, 1)"
   ]
  },
  {
   "cell_type": "markdown",
   "metadata": {},
   "source": [
    "### Zadanie 3.8\n",
    "\n",
    "Napisz program z funkcją, która pobierze od użytkownika jego imię oraz liczbę naturalną n, a następnie wyświetli na ekranie podane imię n razy. Jeżeli użytkownik nie poda żadnego imienia ani liczby, niech domyślnie funkcja ustawia wartości „Adam” oraz 7."
   ]
  },
  {
   "cell_type": "code",
   "execution_count": 52,
   "metadata": {},
   "outputs": [],
   "source": [
    "def wyswietl(imie=\"Adam\", n=7):\n",
    "    for i in range(n):\n",
    "        print(imie)"
   ]
  },
  {
   "cell_type": "code",
   "execution_count": 59,
   "metadata": {},
   "outputs": [
    {
     "name": "stdout",
     "output_type": "stream",
     "text": [
      "Adam\n",
      "Adam\n",
      "Adam\n"
     ]
    }
   ],
   "source": [
    "wyswietl(n=3)"
   ]
  },
  {
   "cell_type": "markdown",
   "metadata": {},
   "source": [
    "### Zadanie 3.9\n",
    "\n",
    "Napisz funkcję, która jako argument przyjmie listę liczb, a zwróci ich średnią."
   ]
  },
  {
   "cell_type": "code",
   "execution_count": 61,
   "metadata": {},
   "outputs": [],
   "source": [
    "def srednia(lista):\n",
    "    suma = 0\n",
    "    for item in lista:\n",
    "        suma=suma+item\n",
    "        \n",
    "    srednia = suma/len(lista)\n",
    "    \n",
    "    return srednia"
   ]
  },
  {
   "cell_type": "code",
   "execution_count": 62,
   "metadata": {},
   "outputs": [
    {
     "data": {
      "text/plain": [
       "2.0"
      ]
     },
     "execution_count": 62,
     "metadata": {},
     "output_type": "execute_result"
    }
   ],
   "source": [
    "srednia([1, 2, 3])"
   ]
  },
  {
   "cell_type": "markdown",
   "metadata": {},
   "source": [
    "### Zadanie 3.10\n",
    "\n",
    "Napisz funkcję, która jako argument przyjmie listę liczb, a zwróci odchylenie standardowe. Wzór na odchylenie standadrowe: $\\sigma = \\sum_{i=1}^{n} \\sqrt{\\frac{(x_i - \\bar{x})^2}{n}}$."
   ]
  },
  {
   "cell_type": "markdown",
   "metadata": {},
   "source": [
    "### Zadanie 3.11\n",
    "\n",
    "Napisz funkcję, która przyjmie jako argument dwie listy liczb rzeczywistych, a zwróci odpowiadający im współczynnik korelacji Pearsona. Wzór na współczynnik korelacji Pearsona: $r_{xy} = \\frac{\\sum_{i=1}^{n}(x_i - \\bar{x})(y_i - \\bar{y})}{\\sqrt{\\sum_{1}^{n}(x_i - \\bar{x})^2}\\sqrt{\\sum_{i=1}^{n}(y_i - \\bar{y})}}$."
   ]
  },
  {
   "cell_type": "markdown",
   "metadata": {},
   "source": [
    "### Zadanie 3.12\n",
    "\n",
    "Napisz funkcję, która przyjmie jako argument dwie listy liczb rzeczywistych, a zwróci odpowiadające im współczynniki regresji liniowej. Wzory na współczynniki regresji liniowej: $a=\\frac{\\sum_{i=1}^{n} (x_i - \\bar{x})(y_i - \\bar{y})}{\\sum_{i=1}^{n}(x_i - \\bar{x})^2}$, $b=\\bar{y}-a\\bar{x}$."
   ]
  },
  {
   "cell_type": "markdown",
   "metadata": {},
   "source": [
    "### Zadanie 3.13\n",
    "\n",
    "Utwórz program (z wykorzystaniem funkcji) do obliczania pól figur płaskich, który:\n",
    "- pozwoli użytkownikowi wybrać figurę, której pole chce obliczyć,\n",
    "- pobierze z klawiatury odpowiednie dane,\n",
    "- wyświetli właściwy wynik,\n",
    "- pozwoli użytkownikowi podjąć decyzję, czy chce uruchomić program ponownie, czy nie.\n",
    "\n",
    "Program powinien zawierać funkcje do obliczania pól następujących figur: trójkąt, prostokąt, koło, trapez, kwadrat, trójkąt równoboczny.\n"
   ]
  },
  {
   "cell_type": "code",
   "execution_count": 64,
   "metadata": {},
   "outputs": [
    {
     "name": "stdout",
     "output_type": "stream",
     "text": [
      "Pole jakiej figury chcesz policzyć? (t-trójkąt, p-prostokąt, k-koło, trp-trapez, kw-kwadrat, trr-trójkąt równoboczny): t\n",
      "Podaj podstawę trójkąta: 2\n",
      "Podaj wysokość trójkąta: 3\n",
      "pole wybranej figury wynosi: 3.0\n",
      "Czy chcesz wykonać program jeszcze raz? (t-tak, n-nie) t\n",
      "Pole jakiej figury chcesz policzyć? (t-trójkąt, p-prostokąt, k-koło, trp-trapez, kw-kwadrat, trr-trójkąt równoboczny): kw\n",
      "Podaj bok: 10\n",
      "pole wybranej figury wynosi: 100.0\n",
      "Czy chcesz wykonać program jeszcze raz? (t-tak, n-nie) n\n"
     ]
    }
   ],
   "source": [
    "def pole_trojkata(a, h):\n",
    "    pole = 0.5*a*h\n",
    "    return pole\n",
    "\n",
    "def pole_prostokata(a, b):\n",
    "    pole = a*b\n",
    "    return pole\n",
    "\n",
    "def pole_kola(r):\n",
    "    pole = 3.1415*r*r\n",
    "    return pole\n",
    "\n",
    "def pole_trapezu(a, b, h):\n",
    "    pole = 0.5*(a+b)*h\n",
    "    return pole\n",
    "\n",
    "def pole_kwadratu(a):\n",
    "    pole = a*a\n",
    "    return pole\n",
    "\n",
    "def pole_trojkata_rownobocznego(a): #a^2 * sqrt(3)/4\n",
    "    pole = 0.25*a*a*3**0.5\n",
    "    return pole\n",
    "\n",
    "decyzja = \"t\"\n",
    "\n",
    "while(decyzja==\"t\"):\n",
    "    odp = input(\"Pole jakiej figury chcesz policzyć? (t-trójkąt, p-prostokąt, k-koło, trp-trapez, kw-kwadrat, trr-trójkąt równoboczny): \") \n",
    "    if(odp==\"t\"):\n",
    "        a=float(input(\"Podaj podstawę trójkąta: \"))\n",
    "        h=float(input(\"Podaj wysokość trójkąta: \"))\n",
    "        wynik = pole_trojkata(a, h)\n",
    "    elif(odp==\"p\"):\n",
    "        a=float(input(\"Podaj pierwszy bok: \"))\n",
    "        b=float(input(\"Podaj drugi bok: \"))\n",
    "        wynik = pole_prostokata(a, b)\n",
    "    elif(odp==\"k\"):\n",
    "        r=float(input(\"Podaj promień: \"))\n",
    "        wynik = pole_kola(r)\n",
    "    elif(odp==\"trp\"):\n",
    "        a=float(input(\"Podaj pierwszą podstawę: \"))\n",
    "        b=float(input(\"Podaj drugą podstawę: \"))\n",
    "        h=float(input(\"Podaj wysokość: \"))\n",
    "        wynik = pole_trapezu(a, b, h)\n",
    "    elif(odp==\"kw\"):\n",
    "        a=float(input(\"Podaj bok: \"))\n",
    "        wynik = pole_kwadratu(a)\n",
    "    elif(odp==\"trr\"):\n",
    "        a=float(input(\"Podaj bok: \"))\n",
    "        wynik = pole_trojkata_rownobocznego(a)\n",
    "    else:\n",
    "        print(\"nie ma takiej figury w bazie\")\n",
    "        \n",
    "    print(f\"pole wybranej figury wynosi: {wynik}\")\n",
    "        \n",
    "    decyzja = input(\"Czy chcesz wykonać program jeszcze raz? (t-tak, n-nie) \")\n",
    "    \n",
    "    "
   ]
  },
  {
   "cell_type": "markdown",
   "metadata": {},
   "source": [
    "### Zadanie 3.14\n",
    "\n",
    "Utwórz program (z wykorzystaniem funkcji) do obliczania objętości brył przestrzennych, który:\n",
    "- pozwoli użytkownikowi wybrać bryłę, której objętość chce obliczyć,\n",
    "- pobierze z klawiatury odpowiednie dane,\n",
    "- wyświetli właściwy wynik,\n",
    "- pozwoli użytkownikowi podjąć decyzję, czy chce uruchomić program ponownie, czy nie.\n",
    "\n",
    "Program powinien zawierać funkcje do obliczania objętości minimum trzech brył - kuli, graniastosłupa, stożka.\n"
   ]
  },
  {
   "cell_type": "markdown",
   "metadata": {},
   "source": [
    "### Zadanie 3.15\n",
    "\n",
    "Korzystając z biblioteki turtle utwórz funkcję, która będzie rysować:\n",
    "- trójkąt\n",
    "- kwadrat\n",
    "- prostokąt\n",
    "- pięciokąt\n",
    "- gwiazdę\n",
    "\n",
    "Argumentami powinna być pozycja obrazka, kolor linii oraz jej grubość i wielkość kształtu."
   ]
  },
  {
   "cell_type": "code",
   "execution_count": 65,
   "metadata": {},
   "outputs": [],
   "source": [
    "def rysuj_kwadrat(x, y, d):\n",
    "    from mobilechelonian import Turtle\n",
    "    t = Turtle()\n",
    "    t.speed(5)\n",
    "    t.penup()\n",
    "    t.setposition(x, y)\n",
    "    t.pendown()\n",
    "    for i in range(4):\n",
    "        t.forward(d)\n",
    "        t.right(90)"
   ]
  },
  {
   "cell_type": "code",
   "execution_count": 68,
   "metadata": {},
   "outputs": [
    {
     "data": {
      "application/vnd.jupyter.widget-view+json": {
       "model_id": "836c271ad199437598138f998c91efc4",
       "version_major": 2,
       "version_minor": 0
      },
      "text/plain": [
       "Turtle()"
      ]
     },
     "metadata": {},
     "output_type": "display_data"
    }
   ],
   "source": [
    "rysuj_kwadrat(200, 200, 100)"
   ]
  },
  {
   "cell_type": "markdown",
   "metadata": {},
   "source": [
    "# Funkcje anonimowe (wyrażenia lamda)\n",
    "\n",
    "W języku Python mamy możliwość tworzenia funkcji anonimowych (nazywanych też wyrażeniami lambda), które nie są powiązane z identyfikatorem (czyli w pewnym sensie nie mają nazwy). Służą do tworzenia funkcjonalności, którym nie powinniśmy nadawać nazw i/lub są potrzebne na krótkotrwały użytek.\n",
    "\n",
    "W języku Python wyrażenia lambda mają następującą składnię:\n",
    "\n",
    "lambda <zestaw argumentów>: <wyrażenie zwrotne>\n",
    "\n",
    "Tak utworzone wyrażenie lambda wydaje się bezużyteczne, ponieważ nie widać w nim jak do utworzonego wyrażenia wstawić argumenty. W języku Python istnieje wiele sposobów wstawiania argumentów do wyrażenia lambda. My skupimy się na dwóch:\n",
    "- wywołanie wyrażenia od razu w tworzącej instrukcji: (lambda <zestaw argumentów>: <wyrażenie zwrotne>)(argumenty)\n",
    "- przypisanie wyrażenia lambda do zmiennej: wyrazenie = lambda <zestaw argumentów>: <wyrażenie zwrotne>, wyrazenie(argumenty)\n",
    "\n",
    "Przykład:"
   ]
  },
  {
   "cell_type": "code",
   "execution_count": 18,
   "metadata": {},
   "outputs": [
    {
     "name": "stdout",
     "output_type": "stream",
     "text": [
      "10\n",
      "10\n"
     ]
    }
   ],
   "source": [
    "zm1 = (lambda x, y: x+y)(7, 3)\n",
    "print(zm1)\n",
    "\n",
    "wyrazenie = lambda x, y: x+y\n",
    "zm2 = wyrazenie(7, 3)\n",
    "print(zm2)"
   ]
  },
  {
   "cell_type": "markdown",
   "metadata": {},
   "source": [
    "### Zadanie 3.16\n",
    "\n",
    "Utwórz wyrażenie lambda do potęgowania (wyrażenie przyjmuje dwie liczby - potęgowaną wartość i wykładnik)."
   ]
  },
  {
   "cell_type": "code",
   "execution_count": 69,
   "metadata": {},
   "outputs": [
    {
     "name": "stdout",
     "output_type": "stream",
     "text": [
      "1024\n"
     ]
    }
   ],
   "source": [
    "potega = lambda a, n: a**n\n",
    "wynik = potega(2, 10)\n",
    "print(wynik)"
   ]
  },
  {
   "cell_type": "code",
   "execution_count": 70,
   "metadata": {},
   "outputs": [
    {
     "data": {
      "text/plain": [
       "1048576"
      ]
     },
     "execution_count": 70,
     "metadata": {},
     "output_type": "execute_result"
    }
   ],
   "source": [
    "potega(2, 20)"
   ]
  },
  {
   "cell_type": "markdown",
   "metadata": {},
   "source": [
    "### Zadanie 3.17\n",
    "\n",
    "Utwórz wyrażenie lambda do składania dwóch łańcuchów znaków (wyrażenie przyjmuje dwa napisy i zwraca jeden będący sumą argumentów)."
   ]
  },
  {
   "cell_type": "code",
   "execution_count": 72,
   "metadata": {},
   "outputs": [
    {
     "name": "stdout",
     "output_type": "stream",
     "text": [
      "12\n"
     ]
    }
   ],
   "source": [
    "skladanie = lambda s1, s2: str(s1)+str(s2)\n",
    "wynik = skladanie(1, 2)\n",
    "print(wynik)"
   ]
  },
  {
   "cell_type": "markdown",
   "metadata": {},
   "source": [
    "### Zadanie 3.18\n",
    "\n",
    "Utwórz wyrażenie lambda zwiększające argument o liczbę 13."
   ]
  },
  {
   "cell_type": "code",
   "execution_count": 74,
   "metadata": {},
   "outputs": [
    {
     "name": "stdout",
     "output_type": "stream",
     "text": [
      "23\n"
     ]
    }
   ],
   "source": [
    "zwiekszanie = lambda x: x+13\n",
    "wynik = zwiekszanie(10)\n",
    "print(wynik)"
   ]
  },
  {
   "cell_type": "markdown",
   "metadata": {},
   "source": [
    "### Zadanie 3.19\n",
    "\n",
    "Utwórz wyrażenie lambda przyjmujące dwa argumenty (liczby rzeczywiste) i wykonujące na nich kwadrat sumy."
   ]
  },
  {
   "cell_type": "code",
   "execution_count": 76,
   "metadata": {},
   "outputs": [
    {
     "name": "stdout",
     "output_type": "stream",
     "text": [
      "256\n"
     ]
    }
   ],
   "source": [
    "kwadrat_sumy = lambda x, y: (x+y)**2\n",
    "wynik = kwadrat_sumy(6, 10)\n",
    "print(wynik)"
   ]
  },
  {
   "cell_type": "markdown",
   "metadata": {},
   "source": [
    "### Zadanie 3.20\n",
    "\n",
    "Utwórz wyrażenie lambda przyjmujące dwa argumenty (liczby rzeczywiste) i wykonujące na nich kwadrat różnicy."
   ]
  },
  {
   "cell_type": "code",
   "execution_count": 77,
   "metadata": {},
   "outputs": [
    {
     "name": "stdout",
     "output_type": "stream",
     "text": [
      "16\n"
     ]
    }
   ],
   "source": [
    "kwadrat_roznicy = lambda x, y: (x-y)**2\n",
    "wynik = kwadrat_roznicy(6, 10)\n",
    "print(wynik)"
   ]
  },
  {
   "cell_type": "markdown",
   "metadata": {},
   "source": [
    "# Programowanie obiektowe\n",
    "\n",
    "Do tej pory dane na których pracowaliśmy miały określony typ:\n",
    "- liczby całkowite (int)\n",
    "- liczby rzeczywiste (float)\n",
    "- łańcuchy znaków (str)\n",
    "- itd.\n",
    "\n",
    "Typ determinuje jakie wartości mogą być przechowywane w danej zmiennej oraz jakie opracje można na niej wykonać (podobnie jak w matematyce - zbiory liczbowe były określone przez ich elementy oraz operacje jakie można na chych wykonywać). \n",
    "\n",
    "W praktycze programistycznej okazuje się jednak, że często podstawowe typy danych są niewystarczające i stoimy przed koniecznością tworzenia własnych \"typów\". Tak własne utworzone typy nazywamy klasami, a programowanie wykorzystujące takie podejście - programowaniem obiektowym. \n",
    "\n",
    "Każdy reprezentant (instancja) danej klasy to obiekt. Obiekty są opisywane pewnymi liczbami/wartościami (pola/atrybuty) i można wykonywać na nich konkretne działania (metody).\n",
    "\n",
    "Warto pamiętać, że:\n",
    "- programowanie obiektowe umożliwia tworzenie nowych typów danych,\n",
    "- każdy obiekt można (jego własności) opisać za pomocą liczb i funkcji jakie można na nich wykonać, są to tzw. pola i metody,\n",
    "- obiekty o tych samych własnościach nazywamy klasą.\n",
    "\n",
    "W podejściu obiektowym program stanowi zbiór obiektów, które komunikują się między sobą w celu wykonywania zadań. Takie podejście różni się znacznie od podejścia proceduralnego.\n",
    "\n",
    "Programowanie obiektowe opiera się na następujących paradygmatach:\n",
    "- Abstrakcja\n",
    "- Hermetyzacja\n",
    "- Dziedziczenie\n",
    "- Polimorfizm\n",
    "\n",
    "Najważniejsze pojęcia:\n",
    "- Klasa\n",
    "- Konstruktor\n",
    "- Pola (atrybuty)\n",
    "- Metody\n",
    "- Obiekty\n",
    "\n",
    "Składnia klasy:"
   ]
  },
  {
   "cell_type": "code",
   "execution_count": 19,
   "metadata": {},
   "outputs": [],
   "source": [
    "# class NazwaKlasy:\n",
    "#     <pola>\n",
    "#     ...\n",
    "#     <metody>\n",
    "#     ..."
   ]
  },
  {
   "cell_type": "markdown",
   "metadata": {},
   "source": [
    "Budowa obiektu:\n",
    "- zmienne przechowujące dane dotyczące obiektu to pola\n",
    "- funkcje związane z obiektem to metody\n",
    "\n",
    "Deklarowanie obiektu:"
   ]
  },
  {
   "cell_type": "code",
   "execution_count": 20,
   "metadata": {},
   "outputs": [],
   "source": [
    "# NazwaObiektu = NazwaKlasy(argumenty)"
   ]
  },
  {
   "cell_type": "markdown",
   "metadata": {},
   "source": [
    "Notacja obiektowa opiera się na wykorzystaniu operatora „.”\n",
    "\n",
    "dostęp do pól:\n",
    "nazwaObiektu.nazwaPola\n",
    "\n",
    "\n",
    "nazwaObiektu.nazwaMetody()\n",
    "nazwaObiektu.nazwaMetody(argumenty)"
   ]
  },
  {
   "cell_type": "code",
   "execution_count": null,
   "metadata": {},
   "outputs": [],
   "source": [
    "# nazwaObiektu.nazwaPola"
   ]
  },
  {
   "cell_type": "markdown",
   "metadata": {},
   "source": [
    "dostęp do metod:"
   ]
  },
  {
   "cell_type": "code",
   "execution_count": null,
   "metadata": {},
   "outputs": [],
   "source": [
    "# nazwaObiektu.nazwaMetody()\n",
    "\n",
    "# lub \n",
    "\n",
    "# nazwaObiektu.nazwaMetody(argumenty)"
   ]
  },
  {
   "cell_type": "markdown",
   "metadata": {},
   "source": [
    "Ważne słowa:\n",
    "\n",
    "- self - w obrębie metod self odnosi się do samego obiektu i posiadamy dostęp do pól i metod obiektu. Zasięg zmiennych obejmuje całą klasę.\n",
    "\n",
    "- init - ważna metoda, która umożliwia utworzenie konstruktora klasy. Jej zadaniem jest zainicjowanie nowego obiektu (m. in. najważniejszych lub wszystkich pól)\n",
    "\n",
    "- metody - definiujemy wewnątrz klasy:"
   ]
  },
  {
   "cell_type": "code",
   "execution_count": 21,
   "metadata": {},
   "outputs": [],
   "source": [
    "# class NazwaKlasy:\n",
    "#     def NazwaMetody(self, argumenty)\n",
    "#         cialo_metody"
   ]
  },
  {
   "cell_type": "markdown",
   "metadata": {},
   "source": [
    "Metoda __str__ - można ją wywołać przez wbudowane funkcje str() lub print(). Pozwala wygenerować informacje na temat obiektu."
   ]
  },
  {
   "cell_type": "code",
   "execution_count": 22,
   "metadata": {},
   "outputs": [],
   "source": [
    "# class Vector:\n",
    "#     def __str__(self):\n",
    "#     self.a = x\n",
    "#     self.b = y\n",
    "#     print(self.a, self.b)"
   ]
  },
  {
   "cell_type": "code",
   "execution_count": 90,
   "metadata": {},
   "outputs": [],
   "source": [
    "class Kot:\n",
    "    \n",
    "    def __init__(self, x, y):\n",
    "    \n",
    "        self.lapy = x\n",
    "        self.ogon = y\n",
    "    \n",
    "    def dajGlos(self):\n",
    "        print(\"Miau\")\n",
    "    \n",
    "filemon = Kot(2, False)\n"
   ]
  },
  {
   "cell_type": "code",
   "execution_count": 93,
   "metadata": {},
   "outputs": [
    {
     "name": "stdout",
     "output_type": "stream",
     "text": [
      "Miau\n"
     ]
    }
   ],
   "source": [
    "filemon.dajGlos()"
   ]
  },
  {
   "cell_type": "markdown",
   "metadata": {},
   "source": [
    "Konstruktor to metoda przypisująca początkowe wartości do pól nowo tworzonego obiektu. Konstruktor tworzymy za pomocą słowa kluczowego __init__. (zaczyna się i kończy podwójnym podkreśleniem).\n",
    "\n",
    "Przykład:"
   ]
  },
  {
   "cell_type": "code",
   "execution_count": 24,
   "metadata": {},
   "outputs": [],
   "source": [
    "# klasa Vector\n",
    "\n",
    "# class Vector:\n",
    "#     def __init__(self, x, y):\n",
    "#         self.a = x\n",
    "#         self.b = y\n",
    "#         print(„utworzono wektor”)\n",
    "\n",
    "#utworzenie obiektu    \n",
    "# w = Vector(2, 5) "
   ]
  },
  {
   "cell_type": "markdown",
   "metadata": {},
   "source": [
    "### Zadanie 3.21\n",
    "\n",
    "Utwórz klasę Ulamek - klasa powinna zawierać takie pola jak licznik i mianownik, metody zwracające wartość licznika i mianownika oraz metody umożliwiające dodawanie, odejmowanie, dzielenie i mnożenie obiektów klasy Ulamek."
   ]
  },
  {
   "cell_type": "code",
   "execution_count": 136,
   "metadata": {},
   "outputs": [],
   "source": [
    "class Ulamek:\n",
    "    def __init__(self, licznik = 0, mianownik = 1):\n",
    "        self.licznik = licznik\n",
    "        self.mianownik = mianownik\n",
    "        \n",
    "    def wyswietl(self):\n",
    "        print(f\"{self.licznik}/{self.mianownik}\")\n",
    "        \n",
    "    def dodajUlamek(self, b):\n",
    "        self.licznik = self.licznik*b.mianownik + b.licznik*self.mianownik\n",
    "        self.mianownik = self.mianownik*b.mianownik\n",
    "        \n",
    "    def odejmijUlamek(self, b):\n",
    "        self.licznik = self.licznik*b.mianownik - b.licznik*self.mianownik\n",
    "        self.mianownik = self.mianownik*b.mianownik\n",
    "        \n",
    "    def pomnozPrzezLiczbe(self, x):\n",
    "        self.licznik = self.licznik * x\n",
    "        \n",
    "    def odwroc(self):\n",
    "        kopia_licznik = self.licznik\n",
    "        kopia_mianownik = self.mianownik\n",
    "        self.licznik = kopia_mianownik\n",
    "        self.mianownik = kopia_licznik\n",
    "        \n",
    "    def poteguj(self, n):\n",
    "        self.licznik = int(self.licznik**n)\n",
    "        self.mianownik = int(self.mianownik**n)\n",
    "        \n",
    "    def przeciwnosc(self):\n",
    "        delf.licznik = (-1)*self.licznik\n",
    "        \n",
    "    def pomnoz(self, b):    \n",
    "        self.licznik = self.licznik * b.licznik\n",
    "        self.mianownik = self.mianownik * b.mianownik\n",
    "        \n",
    "    def pomnoz(self, b):    \n",
    "        self.licznik = self.licznik * b.licznik\n",
    "        self.mianownik = self.mianownik * b.mianownik\n",
    "        \n",
    "    def podziel(self, b):    \n",
    "        self.licznik = self.licznik * b.mianownik\n",
    "        self.mianownik = self.mianownik * b.licznik\n",
    "        \n",
    "        \n",
    "        \n",
    "    "
   ]
  },
  {
   "cell_type": "code",
   "execution_count": 137,
   "metadata": {},
   "outputs": [],
   "source": [
    "a = Ulamek(2,3)\n",
    "b = Ulamek(1,3)"
   ]
  },
  {
   "cell_type": "code",
   "execution_count": 140,
   "metadata": {},
   "outputs": [],
   "source": [
    "a.podziel(b)"
   ]
  },
  {
   "cell_type": "code",
   "execution_count": 141,
   "metadata": {},
   "outputs": [
    {
     "name": "stdout",
     "output_type": "stream",
     "text": [
      "6/9\n"
     ]
    }
   ],
   "source": [
    "a.wyswietl()"
   ]
  },
  {
   "cell_type": "markdown",
   "metadata": {},
   "source": [
    "### Zadanie 3.22\n",
    "\n",
    "Napisz program do obliczania BMI zawodnika. Program powinien zawierać klasę Zawodnik o polach imię, wzrost, waga oraz metodę do obliczania BMI. Utwórz obiekt reprezentujący zawodnika i wywołaj metodę, która obliczy i wyświetli wartość BMI."
   ]
  },
  {
   "cell_type": "code",
   "execution_count": 142,
   "metadata": {},
   "outputs": [
    {
     "name": "stdout",
     "output_type": "stream",
     "text": [
      "30.864197530864196\n"
     ]
    }
   ],
   "source": [
    "class Zawodnik:\n",
    "    def __init__(self, imie=\"Unknown\", wzrost=1, waga=1):\n",
    "        self.imie = imie\n",
    "        self.wzrost = wzrost\n",
    "        self.waga = waga\n",
    "        \n",
    "    def bmi(self):\n",
    "        bmi = self.waga/(self.wzrost*self.wzrost)\n",
    "        print(bmi)\n",
    "        \n",
    "Hieronim = Zawodnik(\"Hieronim\", 1.8, 100)\n",
    "Hieronim.bmi()\n",
    "    \n",
    "    "
   ]
  },
  {
   "cell_type": "markdown",
   "metadata": {},
   "source": [
    "### Zadanie 3.23\n",
    "\n",
    "Utwórz klasę Vector2D do reprezentowania i wykonywania działań na wektorach. Klasa powinna zawierać takie metody jak: \n",
    "- dodawanie (zwiększanie) wekotrów, \n",
    "- odejmowanie (zmniejszanie) wektorów, \n",
    "- skalowanie, (ax, ay -> k*ax, k*ay)\n",
    "- zwracanie modułu, pierwiastek(x**2 + y**2)\n",
    "- iloczyn skalarny, (ax*bx+ay*by)\n",
    "- wyświetlanie współrzędnych."
   ]
  },
  {
   "cell_type": "code",
   "execution_count": 155,
   "metadata": {},
   "outputs": [],
   "source": [
    "class Vector2D:\n",
    "    \n",
    "    def __init__(self, x=0, y=0):\n",
    "        self.x = x\n",
    "        self.y = y\n",
    "        \n",
    "    def display(self):\n",
    "        print(f\"x={self.x}, y={self.y}\")\n",
    "        \n",
    "    def add(self, other):\n",
    "        self.x = self.x + other.x\n",
    "        self.y = self.y + other.y\n",
    "        \n",
    "    def substr(self, other):\n",
    "        self.x = self.x - other.x\n",
    "        self.y = self.y - other.y\n",
    "        \n",
    "    def multByNumber(self, a):\n",
    "        self.x = self.x*a\n",
    "        self.y = self.y*a\n",
    "        \n",
    "    def modulus(self):\n",
    "        return (self.x**2 + self.y**2)**0.5\n",
    "    \n",
    "    def dotProd(self, other):\n",
    "        return self.x*other.x + self.y*other.y\n",
    "    \n",
    "    def opposite(self):\n",
    "        self.x = -self.x\n",
    "        self.y = -self.y\n",
    "    \n",
    "        \n",
    "    "
   ]
  },
  {
   "cell_type": "code",
   "execution_count": 156,
   "metadata": {},
   "outputs": [
    {
     "name": "stdout",
     "output_type": "stream",
     "text": [
      "x=20, y=10\n",
      "70\n"
     ]
    }
   ],
   "source": [
    "a=Vector2D(10, 5)\n",
    "b=Vector2D(2, 3)\n",
    "a.multByNumber(2)\n",
    "a.display()\n",
    "\n",
    "print(a.dotProd(b))"
   ]
  },
  {
   "cell_type": "markdown",
   "metadata": {},
   "source": [
    "### Zadanie 3.24\n",
    "\n",
    "Utwórz program, który umożliwi dodawanie pracowników w postaci obiektów do listy w zakresie danych: imię, nazwisko, email, telefon. Następnie program wyświetli elementy listy obiektów wprowadzonych do listy. "
   ]
  },
  {
   "cell_type": "code",
   "execution_count": 159,
   "metadata": {},
   "outputs": [
    {
     "name": "stdout",
     "output_type": "stream",
     "text": [
      "D-dodaj, P-pokaż, Z-zmień, U-usuń, K-konie: P\n",
      "D-dodaj, P-pokaż, Z-zmień, U-usuń, K-konie: D\n",
      "Podaj imię: Adam\n",
      "Podaj nazwisko: Kowalski\n",
      "Podaj telefon: 999888777\n",
      "Podaj email: kowal@wp.pl\n",
      "D-dodaj, P-pokaż, Z-zmień, U-usuń, K-konie: P\n",
      "imię: Adam, nazwisko: Kowalski, email: kowal@wp.pl, telefon: 999888777\n",
      "D-dodaj, P-pokaż, Z-zmień, U-usuń, K-konie: Z\n",
      "Podaj nazwisko do zmiany: Kowalski\n",
      "Podaj nowe nazwisko: Nowak\n",
      "D-dodaj, P-pokaż, Z-zmień, U-usuń, K-konie: P\n",
      "imię: Adam, nazwisko: Nowak, email: kowal@wp.pl, telefon: 999888777\n",
      "D-dodaj, P-pokaż, Z-zmień, U-usuń, K-konie: U\n",
      "Podaj nazwisko do usunięcia: Nowak\n",
      "D-dodaj, P-pokaż, Z-zmień, U-usuń, K-konie: P\n",
      "D-dodaj, P-pokaż, Z-zmień, U-usuń, K-konie: K\n"
     ]
    }
   ],
   "source": [
    "class Pracownik:\n",
    "    def __init__(self, imie, nazwisko, email, telefon):\n",
    "        self.imie = imie\n",
    "        self.nazwisko = nazwisko\n",
    "        self.email = email\n",
    "        self.telefon = telefon\n",
    "        \n",
    "    def wyswietl(self):\n",
    "        print(f\"imię: {self.imie}, nazwisko: {self.nazwisko}, email: {self.email}, telefon: {self.telefon}\")\n",
    "        \n",
    "pracownicy = []\n",
    "\n",
    "while(True):\n",
    "    menu = input(\"D-dodaj, P-pokaż, Z-zmień, U-usuń, K-koniec: \").upper()\n",
    "    \n",
    "    if(menu==\"D\"):\n",
    "        imie = input(\"Podaj imię: \")\n",
    "        nazwisko = input(\"Podaj nazwisko: \")\n",
    "        telefon = input(\"Podaj telefon: \")\n",
    "        email = input(\"Podaj email: \")\n",
    "        pracownik = Pracownik(imie, nazwisko, email, telefon)\n",
    "        pracownicy.append(pracownik)\n",
    "        \n",
    "    elif(menu==\"P\"):\n",
    "        \n",
    "        for item in pracownicy:\n",
    "            item.wyswietl()\n",
    "            \n",
    "    elif(menu == \"K\"):\n",
    "        break\n",
    "        \n",
    "    elif(menu==\"Z\"):\n",
    "        nazwisko = input(\"Podaj nazwisko do zmiany: \")\n",
    "        nowe_nazwisko = input(\"Podaj nowe nazwisko: \")\n",
    "        for i in pracownicy:\n",
    "            if(i.nazwisko == nazwisko):\n",
    "                i.nazwisko = nowe_nazwisko\n",
    "                break\n",
    "    \n",
    "    elif(menu == \"U\"):\n",
    "        nazwisko = input(\"Podaj nazwisko do usunięcia: \")\n",
    "        for i in pracownicy:\n",
    "            if(i.nazwisko == nazwisko):\n",
    "                pracownicy.remove(i)\n",
    "                break\n",
    "    \n",
    "    \n",
    "    else:\n",
    "        print(\"Nierozpoznana opcja menu\")\n",
    "    "
   ]
  },
  {
   "cell_type": "markdown",
   "metadata": {},
   "source": [
    "### Zadanie 3.25\n",
    "\n",
    "Utwórz program do przechowywania listy ocen studentów z egzaminu. Program powinien zawierać klasę Student o polach: imię, nazwisko, oceny; i metodach: dodajOcene, wypiszOceny, obliczSrednia. Program powinien posiadać opcje: D-dodaj studenta, U-usuń studenta, O-dodaj ocenę studentowi, W-wypisz oceny studenta, S-średnia studenta."
   ]
  },
  {
   "cell_type": "code",
   "execution_count": 161,
   "metadata": {},
   "outputs": [
    {
     "name": "stdout",
     "output_type": "stream",
     "text": [
      "D-dodaj studenta, U-usuń studenta, L-lista studentów, O-dodaj ocenę studentowi, W-wypisz oceny studenta, S-średnia studenta, K-koniec: D\n",
      "Podaj imię: Adam\n",
      "Podaj nazwisko: Kowalski\n",
      "D-dodaj studenta, U-usuń studenta, L-lista studentów, O-dodaj ocenę studentowi, W-wypisz oceny studenta, S-średnia studenta, K-koniec: Jan\n",
      "Nierozpoznana operacja menu\n",
      "D-dodaj studenta, U-usuń studenta, L-lista studentów, O-dodaj ocenę studentowi, W-wypisz oceny studenta, S-średnia studenta, K-koniec: D\n",
      "Podaj imię: Jan\n",
      "Podaj nazwisko: Nowak\n",
      "D-dodaj studenta, U-usuń studenta, L-lista studentów, O-dodaj ocenę studentowi, W-wypisz oceny studenta, S-średnia studenta, K-koniec: L\n",
      "imię: Adam, nazwisko: Kowalski\n",
      "imię: Jan, nazwisko: Nowak\n",
      "D-dodaj studenta, U-usuń studenta, L-lista studentów, O-dodaj ocenę studentowi, W-wypisz oceny studenta, S-średnia studenta, K-koniec: O\n",
      "Podaj imię: Adam\n",
      "Podaj nazwisko: Kowalski\n",
      "Podaj ocenę: 5\n",
      "D-dodaj studenta, U-usuń studenta, L-lista studentów, O-dodaj ocenę studentowi, W-wypisz oceny studenta, S-średnia studenta, K-koniec: o\n",
      "Podaj imię: Adam\n",
      "Podaj nazwisko: Kowalski\n",
      "Podaj ocenę: 4\n",
      "D-dodaj studenta, U-usuń studenta, L-lista studentów, O-dodaj ocenę studentowi, W-wypisz oceny studenta, S-średnia studenta, K-koniec: W\n",
      "Podaj imię: Adam\n",
      "Podaj nazwisko: Kowalski\n",
      "5.0 4.0 \n",
      "D-dodaj studenta, U-usuń studenta, L-lista studentów, O-dodaj ocenę studentowi, W-wypisz oceny studenta, S-średnia studenta, K-koniec: S\n",
      "Podaj imię: Adam\n",
      "Podaj nazwisko: Kowalski\n",
      "Średnia to: 4.5\n",
      "D-dodaj studenta, U-usuń studenta, L-lista studentów, O-dodaj ocenę studentowi, W-wypisz oceny studenta, S-średnia studenta, K-koniec: K\n"
     ]
    }
   ],
   "source": [
    "listaStudentow = []\n",
    "\n",
    "class Student:\n",
    "    \n",
    "    def __init__(self, imie, nazwisko):\n",
    "        self.imie = imie\n",
    "        self.nazwisko = nazwisko\n",
    "        self.oceny = []\n",
    "        \n",
    "    def dodajOcene(self, ocena):\n",
    "        self.oceny.append(ocena)\n",
    "        \n",
    "    def wypiszOceny(self):\n",
    "        for i in self.oceny:\n",
    "            print(i, end=\" \")\n",
    "        print()\n",
    "        \n",
    "    def policzSrednia(self):\n",
    "        suma = 0\n",
    "        for s in self.oceny:\n",
    "            suma = suma+s\n",
    "        \n",
    "        srednia = suma/len(self.oceny)\n",
    "        print(f\"Średnia to: {srednia}\")\n",
    "        \n",
    "    def wyswietlStudenta(self):\n",
    "        print(f\"imię: {self.imie}, nazwisko: {self.nazwisko}\")\n",
    "        \n",
    "while(True):\n",
    "    \n",
    "    menu = input(\"D-dodaj studenta, U-usuń studenta, L-lista studentów, O-dodaj ocenę studentowi, W-wypisz oceny studenta, S-średnia studenta, K-koniec: \").upper()\n",
    "    \n",
    "    if(menu==\"D\"):\n",
    "        imie = input(\"Podaj imię: \")\n",
    "        nazwisko = input(\"Podaj nazwisko: \")\n",
    "        student = Student(imie, nazwisko)\n",
    "        listaStudentow.append(student)\n",
    "        \n",
    "    elif(menu == \"K\"):\n",
    "        break\n",
    "        \n",
    "    elif(menu == \"U\"):\n",
    "        nazwisko = input(\"Podaj nazwisko do usunięcia: \")\n",
    "        for item in listaStudentow:\n",
    "            if(item.nazwisko == nazwisko):\n",
    "                listaStudentow.remove(item)\n",
    "                break\n",
    "    \n",
    "    elif(menu == \"L\"):\n",
    "        for item in listaStudentow:\n",
    "            item.wyswietlStudenta()\n",
    "    \n",
    "    elif(menu==\"O\"):\n",
    "        imie = input(\"Podaj imię: \")\n",
    "        nazwisko = input(\"Podaj nazwisko: \")\n",
    "        ocena = float(input(\"Podaj ocenę: \"))\n",
    "        for item in listaStudentow:\n",
    "            if(item.nazwisko == nazwisko and item.imie == imie):\n",
    "                item.dodajOcene(ocena)\n",
    "                break\n",
    "                \n",
    "    elif(menu==\"W\"):\n",
    "        imie = input(\"Podaj imię: \")\n",
    "        nazwisko = input(\"Podaj nazwisko: \")\n",
    "        for item in listaStudentow:\n",
    "            if(item.nazwisko == nazwisko and item.imie == imie):\n",
    "                item.wypiszOceny()\n",
    "                break\n",
    "                \n",
    "    elif(menu==\"S\"):\n",
    "        imie = input(\"Podaj imię: \")\n",
    "        nazwisko = input(\"Podaj nazwisko: \")\n",
    "        for item in listaStudentow:\n",
    "            if(item.nazwisko == nazwisko and item.imie == imie):\n",
    "                item.policzSrednia()\n",
    "                break\n",
    "                \n",
    "    else:\n",
    "        print(\"Nierozpoznana operacja menu\")"
   ]
  },
  {
   "cell_type": "markdown",
   "metadata": {},
   "source": [
    "### 3.26\n",
    "Utwórz klasę Koszyk, która będzie stanowić podstawowy element aplikacji sklepu internetowego. Koszyk powinien posiadać pole zakupy, które będzie przechowywać słownik par produkt-ilość. Klasa powinna zawierać dwie metody: dodajProdukt i odejmijProdukt służące do dodawania i odejmowania produktów w koszyku w zadanej ilości. "
   ]
  },
  {
   "cell_type": "markdown",
   "metadata": {},
   "source": [
    "### Enkapsulacja\n",
    "\n",
    "Dzięki enkapsulacji:\n",
    "- Szczegóły implementacji są ukryte\n",
    "- Nie można zmienić stanu wewnętrznego obiektu spoza niej\n",
    "- Tylko wewnętrzne metody obiektu mogą zmieniać stan obiektu\n",
    "\n",
    "Pola prywatne - ich nazwa posiada podwójne podkreślenie"
   ]
  },
  {
   "cell_type": "code",
   "execution_count": 27,
   "metadata": {},
   "outputs": [],
   "source": [
    "# class Informacje:\n",
    "#     def __init__(self):\n",
    "#         self.__nazwisko = „Kowalski”\n",
    "#         obiekt = Informacje()\n",
    "\n",
    "# print(obj.__nazwisko) # wywoła błąd"
   ]
  },
  {
   "cell_type": "markdown",
   "metadata": {},
   "source": [
    "Metody również mogą mieć charakter prywatny - nazwy takich metod posiadają dwa podkreślenia z przodu."
   ]
  },
  {
   "cell_type": "code",
   "execution_count": 28,
   "metadata": {},
   "outputs": [],
   "source": [
    "# class Informacje:\n",
    "#     def __drukuj(self):\n",
    "#         print(„Cześć!”)\n",
    "\n",
    "# obiekt = Informacje()\n",
    "# obj.__drukuj() # wywoła błąd"
   ]
  },
  {
   "cell_type": "markdown",
   "metadata": {},
   "source": [
    "### Polimorfizm\n",
    "\n"
   ]
  },
  {
   "cell_type": "markdown",
   "metadata": {},
   "source": [
    "Polimorfizm - wielopostaciowość (z greckiego). W programowaniu polega na korzystaniu z tych samych i funkcji dla różnych obiektów. \n",
    "\n",
    "Przykład - pies i kot to przedstawiciele dwóch różbych klas, przy czym każda z nich może posiadać metodę \"machajOgonem()\". \n",
    "\n",
    "Często zdarza się, że dla poszczególnych obiektów wykonanie danej metody znaczy coś zupełnie innego. Interpreter na szczęście nie ma z tym problemu. \n",
    "\n",
    "Z przykładami polimorfizmu w Pythonie mieliśmy już do czynienia wielokrotnie. Interpreter sam wiedział jak wykonać daną funkcję. Przykłady: \n",
    "- 2+2 oraz \"2\"+\"2\" (dodawanie liczb całkowitych oraz liter)\n",
    "- korzystanie z funkcji len() (możemy ją zastosować zarówno na listach, napisach, krotkach itd.)\n",
    "- korzystanie z funkcji print() (jako argument możemy wstawić zarówno napis, zmienne, listy itd.)\n",
    "\n",
    "Przykład - polimorficzna funkcja dodawania:"
   ]
  },
  {
   "cell_type": "code",
   "execution_count": 1,
   "metadata": {},
   "outputs": [
    {
     "name": "stdout",
     "output_type": "stream",
     "text": [
      "12\n",
      "7\n"
     ]
    }
   ],
   "source": [
    "def dodaj(x, y, z=0):\n",
    "    return x+y+z\n",
    "\n",
    "print(dodaj(3, 4, 5))\n",
    "print(dodaj(3, 4))"
   ]
  },
  {
   "cell_type": "markdown",
   "metadata": {},
   "source": [
    "Polimorfizm pozwala nam korzystać z różnych obiektów w ten sam sposób.\n",
    "\n",
    "Przykład - wywoływanie tej samej metody w pętli dla różnych obiektów:"
   ]
  },
  {
   "cell_type": "code",
   "execution_count": 6,
   "metadata": {},
   "outputs": [
    {
     "name": "stdout",
     "output_type": "stream",
     "text": [
      "nazwa: Polska\n",
      "Warszawa\n",
      "Polski\n",
      "Kraj już prawie rozwinięty\n",
      "\n",
      "nazwa: Niemcy\n",
      "Berlin\n",
      "Niemiecki\n",
      "Kraj rozwinięty\n",
      "\n",
      "nazwa: Francja\n",
      "Paryż\n",
      "Francuski\n",
      "Kraj rozwinięty\n",
      "\n"
     ]
    }
   ],
   "source": [
    "class Polska():\n",
    "    nazwa = \"Polska\"\n",
    "    \n",
    "    def stolica(self):\n",
    "        print(\"Warszawa\")\n",
    " \n",
    "    def jezyk(self):\n",
    "        print(\"Polski\")\n",
    " \n",
    "    def poziomRozwoju(self):\n",
    "        print(\"Kraj już prawie rozwinięty\")\n",
    "        \n",
    "class Niemcy():\n",
    "    nazwa = \"Niemcy\"\n",
    "    \n",
    "    def stolica(self):\n",
    "        print(\"Berlin\")\n",
    " \n",
    "    def jezyk(self):\n",
    "        print(\"Niemiecki\")\n",
    " \n",
    "    def poziomRozwoju(self):\n",
    "        print(\"Kraj rozwinięty\")\n",
    "\n",
    "class Francja():\n",
    "    nazwa = \"Francja\"\n",
    "    \n",
    "    def stolica(self):\n",
    "        print(\"Paryż\")\n",
    " \n",
    "    def jezyk(self):\n",
    "        print(\"Francuski\")\n",
    " \n",
    "    def poziomRozwoju(self):\n",
    "        print(\"Kraj rozwinięty\")\n",
    "\n",
    "obPl = Polska()\n",
    "obNm = Niemcy()\n",
    "obFr = Francja()\n",
    "\n",
    "kraje = [obPl, obNm, obFr]\n",
    "\n",
    "for kraj in kraje:\n",
    "    print(f\"nazwa: {kraj.nazwa}\")\n",
    "    kraj.stolica()\n",
    "    kraj.jezyk()\n",
    "    kraj.poziomRozwoju()\n",
    "    print(\"\")"
   ]
  },
  {
   "cell_type": "markdown",
   "metadata": {},
   "source": [
    "Polimorfizm pozwala również na definiowanie funkcji, których argumentami mogą być obiekty. \n",
    "\n",
    "Przykład:"
   ]
  },
  {
   "cell_type": "code",
   "execution_count": 8,
   "metadata": {},
   "outputs": [
    {
     "name": "stdout",
     "output_type": "stream",
     "text": [
      "nazwa: Polska\n",
      "Warszawa\n",
      "Polski\n",
      "Kraj już prawie rozwinięty\n",
      "\n",
      "nazwa: Niemcy\n",
      "Berlin\n",
      "Niemiecki\n",
      "Kraj rozwinięty\n",
      "\n",
      "nazwa: Francja\n",
      "Paryż\n",
      "Francuski\n",
      "Kraj rozwinięty\n",
      "\n"
     ]
    }
   ],
   "source": [
    "def funkcja(obiekt):\n",
    "    print(f\"nazwa: {obiekt.nazwa}\")\n",
    "    obiekt.stolica()\n",
    "    obiekt.jezyk()\n",
    "    obiekt.poziomRozwoju()\n",
    "    print(\"\")\n",
    "\n",
    "obPl = Polska()\n",
    "obNm = Niemcy()\n",
    "obFr = Francja()\n",
    "  \n",
    "funkcja(obPl)\n",
    "funkcja(obNm)\n",
    "funkcja(obFr)"
   ]
  },
  {
   "cell_type": "markdown",
   "metadata": {},
   "source": [
    "### Dziedziczenie\n",
    "\n",
    "Dziedziczenie to mechanizm pozwalający jednej klasie (klasie \"dziecko\", klasa pochodna) przejmować atrybuty i metody drugiej klasy lub klas (klasa \"rodzic\", klasa bazowa). Jest to mechanizm współdzielenia funkcjonalności między klasami. Pozwala m. in. na sprawną rozbudowę funkcjonalności nowych klas. \n",
    "\n",
    "Ponieważ w takiej sytuacji między klasami zachodzi relacja przypominająca relacje rodzinne (i związane z nimi przejmowanie cech, ról, funkcji, stanu posiadania) mechanizm ten jest nazywany właśnie dziedziczeniem.\n",
    "\n",
    "Można powiedzieć, że dziedziczenie umożliwia tworzenie nowej klasy na bazie innej - już istniejącej. Do najważniejszych zalet mechanizmu dziedziczenia można zaliczyć: \n",
    "- oszczędność pracy, \n",
    "- możliwość ponownego wykorzystania wcześniej zbudowanych klas,\n",
    "- możliwość lepszej organizacji całej struktury projektu.  \n",
    "\n",
    "W języku Python istnieje możliwość tworzenia nowych klas na podstawie więcej niż jednej klasy - taki mechanizm nazywamy dziedziczeniem wielokrotnym albo wielodziedziczeniem.\n",
    "\n",
    "Będziemy wykorzystywać dziedziczenie do rozszerzania funkcjonalności wcześniej utworzonych klas.\n",
    "\n",
    "Składnia w języku Python: "
   ]
  },
  {
   "cell_type": "code",
   "execution_count": 1,
   "metadata": {},
   "outputs": [],
   "source": [
    "# class KlasaBazowa:\n",
    "#    <instrukcje>\n",
    "\n",
    "# class KlasaPochodna(KlasaBazowa):\n",
    "#    <instrukcje>   "
   ]
  },
  {
   "cell_type": "markdown",
   "metadata": {},
   "source": [
    "Tworząc nową klasę wykorzystując mechanizm <b>dziedziczenia</b> (oraz <b>polimorfizm</b>) możemy rozszerzyć działanie klasy bazowej poprzez dodawanie nowych metod do klasy pochodnej. Mamy również możliwość, aby przedefiniować działanie dziedziczonych metod (przesłanianie metod). Po wykonaniu przesłonienia metody, możemy nadal odnosić się do metod klasy bazowej wykorzystując instrukcję super(). Instrukcja super() pozwala wywoływać wszystkie metody klasy bazowej - łącznie z jej konstruktorem. Należy jednak pamiętać, że jeżeli w klasie bazowej konstruktor posiada parametry (argumenty), to w klasie potomnej wywołanie kostruktora klasy bazowej wymaga zastosowania instrukcji super().__init__(self, argumenty...) z odpowiednimi argumentami (konstruktora klasy bazowej.)\n",
    "\n",
    "Dziedziczenie nie wpływa na budowę i działanie klasy bazowej."
   ]
  },
  {
   "cell_type": "code",
   "execution_count": 6,
   "metadata": {},
   "outputs": [
    {
     "name": "stdout",
     "output_type": "stream",
     "text": [
      "ko, ko, ko...\n",
      "ćwir, ćwir...\n",
      "Jakiś odgłos\n"
     ]
    }
   ],
   "source": [
    "# Przykład - przesłanianie metod\n",
    "\n",
    "class Ptak:\n",
    "    def spiewaj(self):\n",
    "        print(\"Jakiś odgłos\")\n",
    "\n",
    "class Kura(Ptak):\n",
    "    def spiewaj(self): \n",
    "        print(\"ko, ko, ko...\")\n",
    "\n",
    "class Wrobel(Ptak):\n",
    "    def spiewaj(self): \n",
    "        print(\"ćwir, ćwir...\")\n",
    "    \n",
    "class Sowa(Ptak):\n",
    "    zdolnosc = \"widzenie w ciemności\"\n",
    "    \n",
    "obiektA = Kura()\n",
    "obiektA.spiewaj()\n",
    "\n",
    "obiektB = Wrobel()\n",
    "obiektB.spiewaj()\n",
    "\n",
    "obiektC = Sowa()\n",
    "obiektC.spiewaj()"
   ]
  },
  {
   "cell_type": "markdown",
   "metadata": {},
   "source": [
    "### Zadanie 3.26\n",
    "\n",
    "Utwórz klasę bazową Ssak, po której dziedziczyć będą dwie klasy potomne - pies i krowa. Wszystkie klasy mają posiadać metodę dajGlos. Zastosuj w klasach pochodnych mechanizm przesłaniania."
   ]
  },
  {
   "cell_type": "code",
   "execution_count": 4,
   "metadata": {},
   "outputs": [
    {
     "name": "stdout",
     "output_type": "stream",
     "text": [
      "ko, ko, ko...\n",
      "ćwir, ćwir...\n",
      "Jakiś odgłos\n"
     ]
    }
   ],
   "source": [
    "# Przykład - wykorzystanie instrukcji super()\n",
    "\n",
    "class Ptak:\n",
    "    def spiew(self):\n",
    "        print(\"Jakiś odgłos\")\n",
    "\n",
    "class Kura(Ptak):\n",
    "    def spiew(self): \n",
    "        print(\"ko, ko, ko...\")\n",
    "\n",
    "class Wrobel(Ptak):\n",
    "    def spiew(self): \n",
    "        print(\"ćwir, ćwir...\")\n",
    "        super().spiew()\n",
    "    \n",
    "obiektA = Kura()\n",
    "obiektA.spiew()\n",
    "\n",
    "obiektB = Wrobel()\n",
    "obiektB.spiew()"
   ]
  },
  {
   "cell_type": "code",
   "execution_count": 8,
   "metadata": {},
   "outputs": [
    {
     "name": "stdout",
     "output_type": "stream",
     "text": [
      "Jakiś tekst\n",
      "ko, ko, ko...\n",
      "abcd\n",
      "ćwir, ćwir...\n"
     ]
    }
   ],
   "source": [
    "class Ptak:\n",
    "    def __init__(self, jakies_dane):\n",
    "        print(jakies_dane)\n",
    "    def spiewaj(self):\n",
    "        print(\"Jakiś odgłos\")\n",
    "\n",
    "class Kura(Ptak):\n",
    "    def __init__(self):\n",
    "        super().__init__(\"Jakiś tekst\")\n",
    "    def spiewaj(self): \n",
    "        print(\"ko, ko, ko...\")\n",
    "        \n",
    "class Wrobel(Ptak):\n",
    "    def __init__(self): \n",
    "        super().__init__(\"abcd\")\n",
    "    def spiewaj(self): \n",
    "        print(\"ćwir, ćwir...\")\n",
    "\n",
    "obiektA = Kura()\n",
    "obiektA.spiewaj()\n",
    "obiektB = Wrobel()\n",
    "obiektB.spiewaj()\n",
    "        "
   ]
  },
  {
   "cell_type": "markdown",
   "metadata": {},
   "source": [
    "### Zadanie 3.27\n",
    "\n",
    "Utwórz klasę bazową Ssak, po której dziedziczyć będą dwie klasy potomne - pies i krowa. Klasa bazowa ma posiadać konstruktor, w którym polu ile_konczyn zostanie przyporządkowana wartość 4. Wszystkie klasy mają wywoływać konstruktor klasy bazowej."
   ]
  },
  {
   "cell_type": "markdown",
   "metadata": {},
   "source": [
    "### Wielodziedziczenie\n",
    "\n",
    "Klasa może dziedziczyć więcej niż po jednej klasie bazowej (więcej niż po jednym rodzicu). Wówczas klasa pochodna przejmuje wszystkie funkcjonalności obu \"rodziców\". Co jednak w sytuacji, kiedy klasy bazowe mają takie same nazwy atrybutów lub metod? W takim wypadku liczy się kolejność dziedziczenia (pozycja w nawiasie przy definicji klasy potomnej). Istnieje jednak możliwość odniesienia się do metody konkretnego \"rodzica\" poprzez wskazanie nazwy klasy z której dana metoda (lub atrybut) ma być pobrana (nazwa_klasy.nazwa_metody(self)).\n",
    "\n",
    "Wielodziedziczenie wprowadza w programie wiele komplikacji i dodatkowych zależności, dlatego często odradza się korzystania z tego mechanizmu na początkowym etapie nauki programowania. \n"
   ]
  },
  {
   "cell_type": "code",
   "execution_count": 15,
   "metadata": {},
   "outputs": [
    {
     "name": "stdout",
     "output_type": "stream",
     "text": [
      "Jakiś odgłos 1\n",
      "Jakiś odgłos 2\n"
     ]
    }
   ],
   "source": [
    "class Ptak1:\n",
    "    def spiewaj(self):\n",
    "        print(\"Jakiś odgłos 1\")\n",
    "\n",
    "class Ptak2:\n",
    "    def spiewaj(self):\n",
    "        print(\"Jakiś odgłos 2\")\n",
    "\n",
    "        \n",
    "class Kura(Ptak1, Ptak2):\n",
    "    pass\n",
    "    #def spiewaj(self):\n",
    "    #    Ptak2.spiewaj(self)\n",
    "        \n",
    "class Wrobel(Ptak2, Ptak1):\n",
    "    pass\n",
    "    #def spiewaj(self):\n",
    "    #    Ptak2.spiewaj(self)\n",
    "  \n",
    "\n",
    "    \n",
    "obiektA = Kura()\n",
    "obiektA.spiewaj()\n",
    "\n",
    "obiektB = Wrobel()\n",
    "obiektB.spiewaj()\n"
   ]
  },
  {
   "cell_type": "code",
   "execution_count": 14,
   "metadata": {},
   "outputs": [
    {
     "name": "stdout",
     "output_type": "stream",
     "text": [
      "Jakiś odgłos 2\n",
      "Jakiś odgłos 2\n"
     ]
    }
   ],
   "source": [
    "class Ptak1:\n",
    "    def spiewaj(self):\n",
    "        print(\"Jakiś odgłos 1\")\n",
    "\n",
    "class Ptak2:\n",
    "    def spiewaj(self):\n",
    "        print(\"Jakiś odgłos 2\")\n",
    "        \n",
    "class Kura(Ptak1, Ptak2):\n",
    "    def spiewaj(self):\n",
    "        Ptak2.spiewaj(self)\n",
    "        \n",
    "class Wrobel(Ptak2, Ptak1):\n",
    "    def spiewaj(self):\n",
    "        super().spiewaj()\n",
    "    \n",
    "obiektA = Kura()\n",
    "obiektA.spiewaj()\n",
    "\n",
    "obiektB = Wrobel()\n",
    "obiektB.spiewaj()"
   ]
  },
  {
   "cell_type": "markdown",
   "metadata": {},
   "source": [
    "### Zadanie 3.28\n",
    "\n",
    "Zbuduj dowolne dwie klasy bazowe, a następnie dwie dziedziczące po nich klasy potomne. Klasy niech bazowe posiadają po jednej, tak samo nazwanej metodzie (np. przedstawSie która będzie drukować w konsoli dowolny tekst). Sprawdź:\n",
    "- w jaki sposób przebiega dziedziczenie, w zależności od kolejności odwołania do klas bazowych\n",
    "- w jaki sposób działa instrukcja super()\n",
    "- w jaki sposób wymusić odwołanie do konkretnej metody konkretnej klasy bazowej (podpowiedź - należy wykorzystać nazwę klasy bazowej i operator \".\")."
   ]
  },
  {
   "cell_type": "markdown",
   "metadata": {},
   "source": [
    "### Zadanie 3.29\n",
    "\n",
    "Wykorzystując mechanizm dziedziczenia napisz program, który będzie zawierać:\n",
    "- bazową klasę Produkt z konstruktorem i polami: nazwa, cena\n",
    "- klasę SystemOperacyjny rozszerzającą klasę Produkt z konstruktorem i polami: dystrybucja, wersja\n",
    "- klasę Szkolenie rozszerzającą klasę SystemOperacyjny zawierającą konstruktor i pole: liczbaSpotkan"
   ]
  },
  {
   "cell_type": "markdown",
   "metadata": {},
   "source": [
    "### Zadanie 3.30\n",
    "\n",
    "Korzystając z mechanizmów dziedziczenia i polimorfizmu oraz z biblioteki processing-py utwórz:\n",
    "- klasę bazową \"punkt\" (klasa posiada dwa pola odpowiadające pozycji oraz metodę do wyświetlenia punktu),\n",
    "- klasę \"koło\" rozszerzającą klasę punkt, która dodatkowo będzie posiadać atrybut \"promień\" oraz stosowną metodę do wyświetlania figury na ekranie,\n",
    "- klasę \"elipsa\" rozszerzającą klasę punkt, która dodatkowo będzie posiadać atrybuty \"szerokosc\" i \"wysokosc\" oraz stosowną metodę do wyświetlania figury na ekranie,\n",
    "- klasę \"kwadrat\" rozszerzającą klasę punkt, kóra będzie posiadać atrybut \"szerokosc\" oraz stosowną metodę do wyświetlania figury na ekranie,\n",
    "- klasę \"prostokąt\" rozszerzającą klasę punkt, kóra będzie posiadać atrybut \"szerokosc\" i \"wysokosc\" oraz stosowną metodę do wyświetlania figury na ekranie.\n"
   ]
  },
  {
   "cell_type": "code",
   "execution_count": null,
   "metadata": {},
   "outputs": [],
   "source": []
  }
 ],
 "metadata": {
  "kernelspec": {
   "display_name": "Python 3 (ipykernel)",
   "language": "python",
   "name": "python3"
  },
  "language_info": {
   "codemirror_mode": {
    "name": "ipython",
    "version": 3
   },
   "file_extension": ".py",
   "mimetype": "text/x-python",
   "name": "python",
   "nbconvert_exporter": "python",
   "pygments_lexer": "ipython3",
   "version": "3.8.5"
  }
 },
 "nbformat": 4,
 "nbformat_minor": 4
}
