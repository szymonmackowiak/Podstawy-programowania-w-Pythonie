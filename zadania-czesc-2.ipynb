{
 "cells": [
  {
   "cell_type": "markdown",
   "metadata": {},
   "source": [
    "# Typy sekwencyjne\n",
    "\n",
    "Typy sekwencyjne pozwalają na zapis w jednej zmiennej wielu wartości. Do najważniejszych typów sekwencyjnych należą:\n",
    "- listy\n",
    "- krotki\n",
    "- łańcuchy znaków\n",
    "- słowniki\n",
    "- zbiory\n",
    "\n",
    "Poszczególne typy sekwencyne różnią się szczegółami technicznymi oraz potencjalnymi zastosowaniami. Do najważniejszych różnic zaliczyć można:\n",
    "- różne sposoby dostępu do poszczególnych wartości (indeks lub klucz), \n",
    "- możliwość późniejszych modyfikacji przechowywaia wartości lub dodawania nowych,\n",
    "- typami danych jakie przechowują (możliwość przechowywania danych o różnych lub o identycznych typach).\n",
    "\n",
    "# Listy\n",
    "\n",
    "Lista - przechowuje wiele wartości, do których posiadamy dostęp przez tzw. indeks.\n",
    "Przykład:\n",
    "a = [3, 7, 2, 8, 10]\n",
    "\n",
    "Pierwszy element ma indeks 0. Do ostatniego elementu tablicy możemy uzyskać dostęp wprowadzając jako indeks długość listy pomniejszoną o 1 (len(nazwa_listy)-1). Indeksy mogą mieć wartości ujemne - wówczas -1 odnosci się do ostatniego elementu tablicy. Zakres elementów (podzbiór z listy) wyświetlamy korzystając z dwukropka (składnia: nazwa_listy[0:3] - instrukcja zwróci pierwsze 3 wartości przechowywane w liście).\n",
    "\n",
    "Przegląd najważniejszych metod i funkcji działających na listach:\n",
    "\n",
    "- append() - dodawanie elementu do listy (składnia: nazwa_listy.append(wartosc))\n",
    "- del - usuwanie elementu listy (składnia: del nazwa_listy[indeks])\n",
    "- insert() - wstawianie elementu do listy przed wskazany indeks(składnia: nazwa_listy.insert(przed_który_indeks, wartosc)) \n",
    "- remove() - usuwanie wskazanej wartości (składnia: nazwa_listy.remove(wartosc))\n",
    "- count() - zliczanie wskazanej wartości (składnia: nazwa_listy.count(wartosc))\n",
    "- reverse() - odwracanie kolejności elementów (składnia: nazwa_listy.reverse())\n",
    "- pop() - wyciąganie, wyświetlanie i usuwanie z listy wskazanego elementu (składnia: nazwa_listy.pop(i))\n",
    "- len() - funkcja zwracająca długość listy (składnia: len(nazwa_listy))\n",
    "- sort() - sortowanie listy (składnia: nazwa_listy.sort())\n",
    "- in - instrukcja umożliwiająca sprawdzenie czy w liście znajduje się wskazana wartość. Zwrata w wyniku logiczną prawdę lub fałsz (składnia: wartosc in lista)\n",
    "- list() - funkcja konwertująca wskazaną sekwencję na listę (składnia: list(sekwencja)).\n",
    "\n",
    "Po utworzeniu i zainicjowaniu wartości listy nadal posiadamy możliwość zmiany wprowadzoych wartości oraz dodawania nowych wartości do listy. \n",
    "\n",
    "Dane w liście mogą być różnych typów, np. a = [1, '2', 3]\n",
    "\n",
    "Przydatne instrukcje:\n",
    "- tworzenie pustej listy: jakas_zmienna = []\n",
    "- wyświetlanie pozbioru listy: jakas_lista[indeks_poczatkowy:indeks_koncowy]"
   ]
  },
  {
   "cell_type": "markdown",
   "metadata": {},
   "source": [
    "### Zadanie 2.1\n",
    "\n",
    "Napisz program, który poprosi użytkownika o podanie swojego imienia 5 razy. Program zapisze odpowiedzi do listy, następnie wyświetli komunikat \"Cześć {imie}!!\"."
   ]
  },
  {
   "cell_type": "code",
   "execution_count": 1,
   "metadata": {},
   "outputs": [
    {
     "name": "stdout",
     "output_type": "stream",
     "text": [
      "Witaj w programie do seryjnego podawania imienia!\n",
      "Podaj swoje imię po raz 1: Szymon\n",
      "Podaj swoje imię po raz 2: Szymon\n",
      "Podaj swoje imię po raz 3: Szymon\n",
      "Podaj swoje imię po raz 4: Szymon\n",
      "Podaj swoje imię po raz 5: Szymon\n",
      "Wprowadzone imiona to: \n",
      "1. Szymon\n",
      "2. Szymon\n",
      "3. Szymon\n",
      "4. Szymon\n",
      "5. Szymon\n"
     ]
    }
   ],
   "source": [
    "imiona = []\n",
    "\n",
    "print(\"Witaj w programie do seryjnego podawania imienia!\")\n",
    "imie = input(\"Podaj swoje imię po raz 1: \")\n",
    "imiona.append(imie)\n",
    "\n",
    "imie = input(\"Podaj swoje imię po raz 2: \")\n",
    "imiona.append(imie)\n",
    "\n",
    "imie = input(\"Podaj swoje imię po raz 3: \")\n",
    "imiona.append(imie)\n",
    "\n",
    "imie = input(\"Podaj swoje imię po raz 4: \")\n",
    "imiona.append(imie)\n",
    "\n",
    "imie = input(\"Podaj swoje imię po raz 5: \")\n",
    "imiona.append(imie)\n",
    "\n",
    "print(\"Wprowadzone imiona to: \")\n",
    "print(f\"1. {imiona[0]}\")\n",
    "print(f\"2. {imiona[1]}\")\n",
    "print(f\"3. {imiona[2]}\")\n",
    "print(f\"4. {imiona[3]}\")\n",
    "print(f\"5. {imiona[4]}\")\n"
   ]
  },
  {
   "cell_type": "markdown",
   "metadata": {},
   "source": [
    "### Zadanie 2.2\n",
    "\n",
    "Napisz program, który przyjmie od użytkownika 5 wartości, wprowadzi je do listy, a następnie wyświetli pierwszy i ostatni element. Zaproponuj dwa sposoby wykonania tego zadania."
   ]
  },
  {
   "cell_type": "code",
   "execution_count": 3,
   "metadata": {},
   "outputs": [
    {
     "name": "stdout",
     "output_type": "stream",
     "text": [
      "Podaj wartość nr 1: 6\n",
      "Podaj wartość nr 2: 4\n",
      "Podaj wartość nr 3: 3\n",
      "Podaj wartość nr 4: 9\n",
      "Podaj wartość nr 5: 1\n",
      "\n",
      "Pierwszy element: 6\n",
      "Ostatni element (sposób I): 1\n",
      "Ostatni element (sposób II): 1\n"
     ]
    }
   ],
   "source": [
    "wartosci = []\n",
    "\n",
    "zm = input(\"Podaj wartość nr 1: \")\n",
    "wartosci.append(zm)\n",
    "\n",
    "zm = input(\"Podaj wartość nr 2: \")\n",
    "wartosci.append(zm)\n",
    "\n",
    "zm = input(\"Podaj wartość nr 3: \")\n",
    "wartosci.append(zm)\n",
    "\n",
    "zm = input(\"Podaj wartość nr 4: \")\n",
    "wartosci.append(zm)\n",
    "\n",
    "zm = input(\"Podaj wartość nr 5: \")\n",
    "wartosci.append(zm)\n",
    "\n",
    "print(\"\")\n",
    "print(f\"Pierwszy element: {wartosci[0]}\")\n",
    "print(f\"Ostatni element (sposób I): {wartosci[len(wartosci)-1]}\")\n",
    "print(f\"Ostatni element (sposób II): {wartosci[-1]}\")"
   ]
  },
  {
   "cell_type": "markdown",
   "metadata": {},
   "source": [
    "### Zadanie 2.3\n",
    "\n",
    "Utwórz program, który pobierze od użytkownika 5 wartości, zapisze je do listy, następnie obliczy ich sumę i średnią i wypisze je na ekranie."
   ]
  },
  {
   "cell_type": "code",
   "execution_count": 9,
   "metadata": {},
   "outputs": [
    {
     "name": "stdout",
     "output_type": "stream",
     "text": [
      "Witaj w programie do obliczania sumy i średniej z 5 wartości!\n",
      "Poda wartość nr 1: 3\n",
      "Poda wartość nr 2: 4\n",
      "Poda wartość nr 3: 5\n",
      "Poda wartość nr 4: 6\n",
      "Poda wartość nr 5: 4\n",
      "\n",
      "Suma wprowadzonych wartości (sposób I): 22.0\n",
      "Średnia z wprowadzonych wartości (sposób I): 4.4\n",
      "\n",
      "Suma wprowadzonych wartości (sposób II): 22.0\n",
      "Średnia z wprowadzonych wartości (sposób II): 4.4\n"
     ]
    }
   ],
   "source": [
    "wartosci = []\n",
    "\n",
    "suma1 = 0\n",
    "\n",
    "print(\"Witaj w programie do obliczania sumy i średniej z 5 wartości!\")\n",
    "\n",
    "zm = float(input(\"Poda wartość nr 1: \"))\n",
    "wartosci.append(zm)\n",
    "suma1 = suma1 + zm\n",
    "\n",
    "zm = float(input(\"Poda wartość nr 2: \"))\n",
    "wartosci.append(zm)\n",
    "suma1 = suma1 + zm\n",
    "\n",
    "zm = float(input(\"Poda wartość nr 3: \"))\n",
    "wartosci.append(zm)\n",
    "suma1 = suma1 + zm\n",
    "\n",
    "zm = float(input(\"Poda wartość nr 4: \"))\n",
    "wartosci.append(zm)\n",
    "suma1 = suma1 + zm\n",
    "\n",
    "zm = float(input(\"Poda wartość nr 5: \"))\n",
    "wartosci.append(zm)\n",
    "suma1 = suma1 + zm\n",
    "\n",
    "srednia1 = suma1/len(wartosci)\n",
    "\n",
    "suma2 = wartosci[0] + wartosci[1] + wartosci[2] + wartosci[3] + wartosci[4]\n",
    "srednia2 = suma2/len(wartosci)\n",
    "\n",
    "print(\"\")\n",
    "print(f\"Suma wprowadzonych wartości (sposób I): {suma1}\")\n",
    "print(f\"Średnia z wprowadzonych wartości (sposób I): {srednia1}\")\n",
    "\n",
    "print(\"\")\n",
    "print(f\"Suma wprowadzonych wartości (sposób II): {suma2}\")\n",
    "print(f\"Średnia z wprowadzonych wartości (sposób II): {srednia2}\")\n",
    " \n",
    "\n"
   ]
  },
  {
   "cell_type": "markdown",
   "metadata": {},
   "source": [
    "### Zadanie 2.4\n",
    "\n",
    "Napisz program, w którym do listy przypisane zostaną 4 zmienne różnych typów, a następnie zostaną wyświetlone na ekranie."
   ]
  },
  {
   "cell_type": "code",
   "execution_count": 14,
   "metadata": {},
   "outputs": [
    {
     "name": "stdout",
     "output_type": "stream",
     "text": [
      "['hdjhk', 1, 3.1, [1, 2, 3]]\n"
     ]
    },
    {
     "data": {
      "text/plain": [
       "['hdjhk', 1, 3.1]"
      ]
     },
     "execution_count": 14,
     "metadata": {},
     "output_type": "execute_result"
    }
   ],
   "source": [
    "lista = [\"hdjhk\", 1, 3.1, [1, 2, 3]]\n",
    "print(lista)\n",
    "\n",
    "lista[0:3]"
   ]
  },
  {
   "cell_type": "code",
   "execution_count": 25,
   "metadata": {},
   "outputs": [
    {
     "name": "stdout",
     "output_type": "stream",
     "text": [
      "Długość listy wynosi: 14\n"
     ]
    },
    {
     "data": {
      "text/plain": [
       "[1, 1, 3, -100, 2, 4, 6, 5, 3, 2, 1, 6, 50, 2, 3]"
      ]
     },
     "execution_count": 25,
     "metadata": {},
     "output_type": "execute_result"
    }
   ],
   "source": [
    "dane = [1, 1, 3, 2, 4, 6, 5, 3, 2, 1, 6, 50, 2, 3]\n",
    "\n",
    "print(f\"Długość listy wynosi: {len(dane)}\")\n",
    "\n",
    "dane.insert(3, -100)\n",
    "dane"
   ]
  },
  {
   "cell_type": "markdown",
   "metadata": {},
   "source": [
    "### Zadanie 2.5 \n",
    "\n",
    "Rozważ następującą listę: \n",
    "\n",
    "dane = [1, 1, 3, 2, 4, 6, 5, 3, 2, 1, 6, 50, 2, 3]\n",
    "\n",
    "Napisz program, który:\n",
    "- wyświetli utworzoną listę\n",
    "- określi i wyświetli długość listy (liczbę przechowywanych elementów) (funkcja len()),\n",
    "- wyświetli 4 pierwsze wartości (operator :),\n",
    "- zliczy i wyświetli ile w liście znajduje się wartości 1, 2 i 3 (metoda count()),\n",
    "- sprawdzi czy lista zawiera wartość 6 (instrukcja in),\n",
    "- wstawi na miejsce po trzecim elemencie wartość -100 (metoda insert()) i wyświetli zaktualizowaną listę,\n",
    "- usunie ostatni element w liście (instrukcja del) i wyświetli zaktualizowaną listę,\n",
    "- usunie wartość 50 (metoda remove()) i wyświetli zaktualizowaną listę,\n",
    "- wyciągnie pierwszy element z listy (metoda pop()) i wyświetli zaktualizowaną listę,\n",
    "- utworzy kopię listy dane i odwróci ich kolejność (metoda reverse()) i wyświetli otrzymaną listę,\n",
    "- utworzy kopię listy dane i posortuje jej elementy (metoda sort()) i wyświetli otrzymaną listę."
   ]
  },
  {
   "cell_type": "code",
   "execution_count": 26,
   "metadata": {},
   "outputs": [
    {
     "name": "stdout",
     "output_type": "stream",
     "text": [
      "Dane: [1, 1, 3, 2, 4, 6, 5, 3, 2, 1, 6, 50, 2, 3]\n",
      "Długość listy: 14\n",
      "Pierwsze 4 elementy: [1, 1, 3, 2]\n",
      "Wartość 1 występuje 3 razy\n",
      "Wartość 2 występuje 3 razy\n",
      "Wartość 3 występuje 3 razy\n",
      "Czy lista zawiera wartość 6? True\n",
      "Lista po wstawieniu wartości -100: [1, 1, 3, -100, 2, 4, 6, 5, 3, 2, 1, 6, 50, 2, 3]\n",
      "Lista po usunięciu ostatniego elementu: [1, 1, 3, -100, 2, 4, 6, 5, 3, 2, 1, 6, 50, 2]\n",
      "Lista po usunięciu wartości 50: [1, 1, 3, -100, 2, 4, 6, 5, 3, 2, 1, 6, 2]\n",
      "Pierwszy element 1, lista po wyciągnięciu pierwszego elementu [1, 3, -100, 2, 4, 6, 5, 3, 2, 1, 6, 2]\n",
      "Odwrócona kolejność elementów: [2, 6, 1, 2, 3, 5, 6, 4, 2, -100, 3, 1]\n",
      "Posortowane dane: [-100, 1, 1, 2, 2, 2, 3, 3, 4, 5, 6, 6]\n"
     ]
    }
   ],
   "source": [
    "dane = [1, 1, 3, 2, 4, 6, 5, 3, 2, 1, 6, 50, 2, 3]\n",
    "\n",
    "print(f\"Dane: {dane}\")\n",
    "print(f\"Długość listy: {len(dane)}\")\n",
    "print(f\"Pierwsze 4 elementy: {dane[0:4]}\")\n",
    "print(f\"Wartość 1 występuje {dane.count(1)} razy\")\n",
    "print(f\"Wartość 2 występuje {dane.count(2)} razy\")\n",
    "print(f\"Wartość 3 występuje {dane.count(3)} razy\")\n",
    "print(f\"Czy lista zawiera wartość 6? {6 in dane}\")\n",
    "dane.insert(3, -100)\n",
    "print(f\"Lista po wstawieniu wartości -100: {dane}\")\n",
    "del dane[-1]\n",
    "print(f\"Lista po usunięciu ostatniego elementu: {dane}\")\n",
    "dane.remove(50)\n",
    "print(f\"Lista po usunięciu wartości 50: {dane}\")\n",
    "pierwszy = dane.pop(0)\n",
    "print(f\"Pierwszy element {pierwszy}, lista po wyciągnięciu pierwszego elementu {dane}\")\n",
    "dane_kopia_1 = dane.copy()\n",
    "dane_kopia_1.reverse()\n",
    "print(f\"Odwrócona kolejność elementów: {dane_kopia_1}\")\n",
    "dane_kopia_2 = dane.copy()\n",
    "dane_kopia_2.sort()\n",
    "print(f\"Posortowane dane: {dane_kopia_2}\")"
   ]
  },
  {
   "cell_type": "markdown",
   "metadata": {},
   "source": [
    "# Krotki\n",
    "\n",
    "Krotki (tuples) to kolejny typ sekwencyjny - podobny do listy, posiadający jednak pewne istotne różnice:\n",
    "- krotkę tworzymy korzystając z nawiasów okrągłych (a nie kwadratowych jak w przypadku list),\n",
    "- zasadniczo wartości przechowywanych w krotkach nie można zmieniać. Nie można również dodawać elementów do ktorek,\n",
    "- krotki służą do przechowywania niezmiennych elementów \n",
    "\n",
    "Krotki mogą być przydatne wówczas, gdy chcemy dzielić z innymi użytkownikami (lub procesami) dane, ale nie chcemy zezwolić na ich modyfikację. \n",
    "\n",
    "Mechanizm ochorony danych w krotkach można jednak obejść poprzez nadpisywanie na dotychczasowej krotce nowej krotki. \n",
    "\n",
    "Do elementów krotki mamy dostęp (tak jak w przypadku list) za pośrednictwem indeksu. \n",
    "\n",
    "Krotki mogą przechowywać dane różnych typów. \n",
    "\n",
    "Przegląd najważniejszych metod i funkcji działających na krotkach:\n",
    "- count() - zlicza wystąpienia wskazanej wartości w krotce\n",
    "- index() - zwraca indeks pierwszej wskazanej wartości w krotce"
   ]
  },
  {
   "cell_type": "markdown",
   "metadata": {},
   "source": [
    "### Zadanie 2.6 \n",
    "\n",
    "Napisz program, w którym utworzysz krotkę, przechowującą zestaw pięciu czteroznakowych kluczy dostępu. Wyświetl pierwszy i ostatni element. Spróbuj podmienić lub usunąć wartość dowolnego elementu w krotce (korzystając np. z instrukcji krotka[indeks] = inna_wartosc oraz z del krotka[indeks]).   "
   ]
  },
  {
   "cell_type": "code",
   "execution_count": 32,
   "metadata": {},
   "outputs": [
    {
     "name": "stdout",
     "output_type": "stream",
     "text": [
      "Pierwszy element krotki: AABB\n",
      "Ostatni element krotki: FFAA\n"
     ]
    }
   ],
   "source": [
    "klucze = (\"AABB\", \"1234\", \"CCCC\", \"1111\", \"FFAA\")\n",
    "\n",
    "print(f\"Pierwszy element krotki: {klucze[0]}\")\n",
    "print(f\"Ostatni element krotki: {klucze[-1]}\")"
   ]
  },
  {
   "cell_type": "code",
   "execution_count": 33,
   "metadata": {},
   "outputs": [
    {
     "ename": "TypeError",
     "evalue": "'tuple' object does not support item assignment",
     "output_type": "error",
     "traceback": [
      "\u001b[0;31m---------------------------------------------------------------------------\u001b[0m",
      "\u001b[0;31mTypeError\u001b[0m                                 Traceback (most recent call last)",
      "\u001b[0;32m<ipython-input-33-705f84da5705>\u001b[0m in \u001b[0;36m<module>\u001b[0;34m\u001b[0m\n\u001b[0;32m----> 1\u001b[0;31m \u001b[0mklucze\u001b[0m\u001b[0;34m[\u001b[0m\u001b[0;36m0\u001b[0m\u001b[0;34m]\u001b[0m\u001b[0;34m=\u001b[0m\u001b[0;34m\"DDDD\"\u001b[0m\u001b[0;34m\u001b[0m\u001b[0;34m\u001b[0m\u001b[0m\n\u001b[0m",
      "\u001b[0;31mTypeError\u001b[0m: 'tuple' object does not support item assignment"
     ]
    }
   ],
   "source": [
    "klucze[0]=\"DDDD\""
   ]
  },
  {
   "cell_type": "code",
   "execution_count": 34,
   "metadata": {},
   "outputs": [
    {
     "ename": "TypeError",
     "evalue": "'tuple' object doesn't support item deletion",
     "output_type": "error",
     "traceback": [
      "\u001b[0;31m---------------------------------------------------------------------------\u001b[0m",
      "\u001b[0;31mTypeError\u001b[0m                                 Traceback (most recent call last)",
      "\u001b[0;32m<ipython-input-34-dd0a3f8fa6be>\u001b[0m in \u001b[0;36m<module>\u001b[0;34m\u001b[0m\n\u001b[0;32m----> 1\u001b[0;31m \u001b[0;32mdel\u001b[0m \u001b[0mklucze\u001b[0m\u001b[0;34m[\u001b[0m\u001b[0;36m0\u001b[0m\u001b[0;34m]\u001b[0m\u001b[0;34m\u001b[0m\u001b[0;34m\u001b[0m\u001b[0m\n\u001b[0m",
      "\u001b[0;31mTypeError\u001b[0m: 'tuple' object doesn't support item deletion"
     ]
    }
   ],
   "source": [
    "del klucze[0]"
   ]
  },
  {
   "cell_type": "code",
   "execution_count": 31,
   "metadata": {},
   "outputs": [
    {
     "ename": "NameError",
     "evalue": "name 'klucze' is not defined",
     "output_type": "error",
     "traceback": [
      "\u001b[0;31m---------------------------------------------------------------------------\u001b[0m",
      "\u001b[0;31mNameError\u001b[0m                                 Traceback (most recent call last)",
      "\u001b[0;32m<ipython-input-31-42feb4135eb7>\u001b[0m in \u001b[0;36m<module>\u001b[0;34m\u001b[0m\n\u001b[0;32m----> 1\u001b[0;31m \u001b[0mklucze\u001b[0m\u001b[0;34m\u001b[0m\u001b[0;34m\u001b[0m\u001b[0m\n\u001b[0m",
      "\u001b[0;31mNameError\u001b[0m: name 'klucze' is not defined"
     ]
    }
   ],
   "source": [
    "klucze"
   ]
  },
  {
   "cell_type": "markdown",
   "metadata": {},
   "source": [
    "### Zadanie 2.7\n",
    "\n",
    "Napisz program, w którym utworzysz krotkę:\n",
    "\n",
    "dane = (1, 1, 3, 2, 4, 6, 5, 3, 2, 1, 6, 50, 2, 3)\n",
    "\n",
    "Sprawdź:\n",
    "- jaka jest długość krotki,\n",
    "- ile razy występują w niej wartości 1, 2, 3,\n",
    "- czy krotka zawiera wartość 50.\n",
    "\n",
    "Zaproponuj sposób wstawienia do krotki dane po czwartym elemencie (liczba 2) kolejnych wartości 100, 200, 300."
   ]
  },
  {
   "cell_type": "code",
   "execution_count": 11,
   "metadata": {},
   "outputs": [
    {
     "name": "stdout",
     "output_type": "stream",
     "text": [
      "Długość krotki wynosi 14\n",
      "1 występuje 3 razy\n",
      "2 występuje 3 razy\n",
      "3 występuje 3 razy\n",
      "Czy krotka zawiera 50? True\n",
      "Nowa krotka: (1, 1, 3, 2, 100, 200, 300, 4, 6, 5, 3, 2, 1, 6, 50, 2, 3)\n"
     ]
    }
   ],
   "source": [
    "dane = (1, 1, 3, 2, 4, 6, 5, 3, 2, 1, 6, 50, 2, 3)\n",
    "print(f\"Długość krotki wynosi {len(dane)}\")\n",
    "print(f\"1 występuje {dane.count(1)} razy\")\n",
    "print(f\"2 występuje {dane.count(2)} razy\")\n",
    "print(f\"3 występuje {dane.count(3)} razy\")\n",
    "print(f\"Czy krotka zawiera 50? {50 in dane}\")\n",
    "\n",
    "dane = dane[0:4] + (100, 200, 300) + dane[4:len(dane)]\n",
    "print(f\"Nowa krotka: {dane}\")"
   ]
  },
  {
   "cell_type": "code",
   "execution_count": 9,
   "metadata": {},
   "outputs": [
    {
     "data": {
      "text/plain": [
       "(2, 3, 4, 3, 2)"
      ]
     },
     "execution_count": 9,
     "metadata": {},
     "output_type": "execute_result"
    }
   ],
   "source": [
    "(2, 3, 4) + (3, 2)"
   ]
  },
  {
   "cell_type": "code",
   "execution_count": 5,
   "metadata": {},
   "outputs": [
    {
     "data": {
      "text/plain": [
       "True"
      ]
     },
     "execution_count": 5,
     "metadata": {},
     "output_type": "execute_result"
    }
   ],
   "source": [
    "50 in dane"
   ]
  },
  {
   "cell_type": "markdown",
   "metadata": {},
   "source": [
    "# Typ napisowy (String)\n",
    "\n",
    "Napis (string) to sekwencja znaków alfanumerycznych. W odróżnieniu od poznanych wcześniej list i krotek - wszystkie elementy napisu mają ten sam typ - str. Do kolejnych elementów sekwencji mamy dostęp za pośrednictwem indeksu. Zasadniczo typ napisowy przechowuje teksty, a w języku Python mamy bogaty zasób metod edytujących tekst. Poszczególne elementy sekwencji jak i sama sekwencja mogą być zmieniane.\n",
    "\n",
    "Typ napisowy inicjalizujemy korzystając z cudzysłowu. \n",
    "Przykład:\n",
    "napis = \"Ala ma kota\"\n",
    "\n",
    "Przgląd najważniejszych metod:\n",
    "- capitalize() - zmiana pierwszej litery sekwencji na wielką (składnia: napis.capitalize()),\n",
    "- islower() - sprawdzenie, czy wszystkie znaki w napisie to małe litery (składnia: napis.islower()),\n",
    "- isupper() - sprawdzenie, czy wszystkie znaki w napisie to wielkie litery (składnia: napis.isupper()),\n",
    "- count(podciag) - zliczanie wystąpień podciągu znaków w pierwotnym napisie (składnia napis.count()),\n",
    "- isdigit() - sprawdzenie, czy znaki w napisie są liczbami (składnia: napis.isdigit()),\n",
    "- replace(old_str, new_str) - podmiana starej sekwencji nową (składnia: napis.replace(stara_sek, nowa_sek)),\n",
    "- strip() - usuwanie początkowych i końcowych białych znaków,\n",
    "- len() - funkcja zwracająca długość (liczbę znaków) w napisie (składnia: len(napis))."
   ]
  },
  {
   "cell_type": "code",
   "execution_count": 14,
   "metadata": {},
   "outputs": [
    {
     "data": {
      "text/plain": [
       "False"
      ]
     },
     "execution_count": 14,
     "metadata": {},
     "output_type": "execute_result"
    }
   ],
   "source": [
    "napis = \"Jakiś tekst\"\n",
    "napis.islower()"
   ]
  },
  {
   "cell_type": "markdown",
   "metadata": {},
   "source": [
    "### Zadanie 2.8 \n",
    "\n",
    "Napisz program, którzy przyjmie od użytkownika dowolne zdanie. Następnie program wyświetli ile znaków zawiera wprowadzony tekst oraz ile zjaduje się w nim spacji."
   ]
  },
  {
   "cell_type": "code",
   "execution_count": 13,
   "metadata": {},
   "outputs": [
    {
     "name": "stdout",
     "output_type": "stream",
     "text": [
      "Podaj dowolne zdanie: \"Litwo, Ojczyzno moja...\"\n",
      "Liczba znaków: 25, liczba spacji: 2.\n"
     ]
    }
   ],
   "source": [
    "zdanie = input(\"Podaj dowolne zdanie: \")\n",
    "ile_znakow = len(zdanie)\n",
    "ile_spacji = zdanie.count(\" \")\n",
    "print(f\"Liczba znaków: {ile_znakow}, liczba spacji: {ile_spacji}.\")"
   ]
  },
  {
   "cell_type": "markdown",
   "metadata": {},
   "source": [
    "### Zadanie 2.9\n",
    "\n",
    "Napisz program, który pobierze od użytkownika dowolny tekst, a następnie:\n",
    "- wyświetli informację, czy wszystkie litery w tekście są wielkie,\n",
    "- wyświetli informację, czy wszystkie litery w tekście są małe,\n",
    "- zastąpi pierwsze 3 znaki słowem \"ABC\"."
   ]
  },
  {
   "cell_type": "code",
   "execution_count": 26,
   "metadata": {},
   "outputs": [
    {
     "name": "stdout",
     "output_type": "stream",
     "text": [
      "Podaj dowolne zdanie: HJHjshdjhjhajk. HJKhjkahd \n",
      "Czy wszystkie litery są wielkie? False\n",
      "Czy wszystkie litery są małe? False\n",
      "Nowa wersja zdania: ABCjshdjhjhajk. HJKhjkahd \n"
     ]
    }
   ],
   "source": [
    "zdanie = input(\"Podaj dowolne zdanie: \")\n",
    "print(f\"Czy wszystkie litery są wielkie? {zdanie.isupper()}\")\n",
    "print(f\"Czy wszystkie litery są małe? {zdanie.islower()}\")\n",
    "zdanie2 = zdanie.replace(zdanie[0:3], \"ABC\")\n",
    "print(f\"Nowa wersja zdania: {zdanie2}\")"
   ]
  },
  {
   "cell_type": "markdown",
   "metadata": {},
   "source": [
    "### Zadanie 2.10\n",
    "\n",
    "Napisz program, w którym do zmiennej napis przypiszesz tekst \"Dzisiaj znowu poznajemy Pythona!\". Następnie:\n",
    "- zamień słowo \"Pythona\" na \"interesujące techniki programowania\",\n",
    "- zlicz wystąpienia litery \"i\",\n",
    "- wyświetl długość nowego tekstu."
   ]
  },
  {
   "cell_type": "code",
   "execution_count": 28,
   "metadata": {},
   "outputs": [
    {
     "name": "stdout",
     "output_type": "stream",
     "text": [
      "Nowe zdanie: Dzisiaj znowu poznajemy interesujące techniki programowania!\n",
      "Wystąpienia litery i: 6, długość tekstu: 60\n"
     ]
    }
   ],
   "source": [
    "napis = \"Dzisiaj znowu poznajemy Pythona!\"\n",
    "napis2 = napis.replace(\"Pythona\", \"interesujące techniki programowania\")\n",
    "print(f\"Nowe zdanie: {napis2}\")\n",
    "ile_i = napis2.count(\"i\")\n",
    "dlugosc = len(napis2)\n",
    "print(f\"Wystąpienia litery i: {ile_i}, długość tekstu: {dlugosc}\")"
   ]
  },
  {
   "cell_type": "markdown",
   "metadata": {},
   "source": [
    "# Słowniki\n",
    "\n",
    "Słownik (dictionary) to struktura danych zawierająca przypisane do siebie pary klucz : wartość. W obrębie słownika do przechowywanych elementów mamy dostęp nie za pośrednictwem indeksu, ale za pośrednictwem tzw. klucza. Klucz w słowniku nie może się powtarzać. Elementy w słowniku nie są uporządkowane (nie są ułożone po kolei tak jak to było w listach, krotkach i napisach). Innymi słowy - kolejność nie ma znaczenia. Elementy słownika mogą mieć różne typy. Dotyczy to rówież klucza (wszystko może być kluczem bądź wartością). Słowniki możemy edytować - dodawać do nich elementy oraz je modyfikować. Słowniki inicjalizujemy korzystając ze znaku klamer {}, pary kluczy i wartości są łączone drukropkiem, kolejne elementy słownika rozdzielane przecinkiem.\n",
    "\n",
    "Przykład:\n",
    "\n",
    "slownik = {klucz1 : wartosc1, klucz2 : wartosc2, klucz3 : wartosc3}\n",
    "\n",
    "Kolejne elementy do słownika możemy prowadzać odnosząc się do nazwy słownika, w nawiasie kwadratowym wprowadzić nowy klucz a po operatorze przypisania podać wartość.\n",
    "\n",
    "Przykład:\n",
    "\n",
    "slownik[wartosc4] = klucz4\n",
    "\n",
    "Przegląd najważniejszych metod działających na słownikach:\n",
    "- clear() - usuwa wszystkie elementy ze słownika (składnia: slownik.clear()),\n",
    "- copy() - zwraca kopię słownika (składnia slownik.copy()),\n",
    "- fromkeys(keys, values) - zwraca słownik na postawie podanych zbiorów kluczy i wartości (składnia: slownik.fromkeys(klucze, wartosci)),\n",
    "- get() - zwraca wartość dla danego klucza (składnia: slownik.get()),\n",
    "- items() - zwraca listę krotek wszystkich par kluczy i wartości (składnia: slownik.items()),\n",
    "- pop(key) - wyciąga i usuwa wskazaną wartość (na podstawie klucza) (skladnia: slownik.pop(klucz)),\n",
    "- popitem() - wyciąga i usuwa ostatnią wprowadzoną parę klucz-wartość (składnia: slownik.popitem()),\n",
    "- setdefault(key) - zwraca wartość dla danego klucza. Jeżeli klucz nie istnieje - wstawia klucz (ten, który został wywołany) (składnia: slownik.setdefault(klucz)),\n",
    "- update(key: value) - pozwala na dodawanie do słownika kolejnych pad klucz-wartość (składnia: slownik.update({klucz: wartość)}),\n",
    "- values() - zwraca wszystkie wartości ze słownika (składnia: słownik.values()).\n"
   ]
  },
  {
   "cell_type": "code",
   "execution_count": 43,
   "metadata": {},
   "outputs": [],
   "source": [
    "slownik = {5:\"A\", 12:\"B\", 32:\"C\", 5:\"F\"}"
   ]
  },
  {
   "cell_type": "code",
   "execution_count": 45,
   "metadata": {},
   "outputs": [
    {
     "data": {
      "text/plain": [
       "dict_values(['F', 'B', 'C'])"
      ]
     },
     "execution_count": 45,
     "metadata": {},
     "output_type": "execute_result"
    }
   ],
   "source": [
    "slownik.values()"
   ]
  },
  {
   "cell_type": "markdown",
   "metadata": {},
   "source": [
    "### Zadanie 2.11\n",
    "\n",
    "Utwórz program, który wykorzystując słownik, będzie pobierać od użytkownika numer miesiąca, a będzie wyświetlać na ekranie jego nazwę w formie tekstowej."
   ]
  },
  {
   "cell_type": "code",
   "execution_count": 48,
   "metadata": {
    "scrolled": true
   },
   "outputs": [
    {
     "name": "stdout",
     "output_type": "stream",
     "text": [
      "Podaj numer (liczba całkowita) miesiąca, którego nazwę chcesz wyświetlić: 3\n",
      "Nazwa 3-go miesiąca: marzec\n"
     ]
    }
   ],
   "source": [
    "slownik = {1:\"styczeń\", 2:\"luty\", 3:\"marzec\", 4:\"kwiecień\", 5:\"maj\", 6:\"czerwiec\", 7:\"lipiec\", 8:\"sierpień\", \\\n",
    "          9:\"wrzesień\", 10:\"październik\", 11:\"listopad\", 12:\"grudzień\"}\n",
    "\n",
    "miesiac = int(input(\"Podaj numer (liczba całkowita) miesiąca, którego nazwę chcesz wyświetlić: \"))\n",
    "odp = slownik[miesiac]\n",
    "\n",
    "print(f\"Nazwa {miesiac}-go miesiąca: {odp}\")"
   ]
  },
  {
   "cell_type": "markdown",
   "metadata": {},
   "source": [
    "### Zadanie 2.12\n",
    "\n",
    "Utwórz program, który wykorzystując słownik, będzie tłumaczyć liczby 0-10 na słowa."
   ]
  },
  {
   "cell_type": "code",
   "execution_count": 49,
   "metadata": {},
   "outputs": [
    {
     "name": "stdout",
     "output_type": "stream",
     "text": [
      "Podaj liczbę (0-10), której wersję tekstową chcesz wyświetlić: 5\n",
      "Liczba: 5 - wersja tekstowa: pięć\n"
     ]
    }
   ],
   "source": [
    "slownik = {0:\"zero\", 1:\"jeden\", 2:\"dwa\", 3:\"trzy\", 4:\"cztery\", 5:\"pięć\", 6:\"sześć\", 7:\"siedem\", 8:\"osiem\", \\\n",
    "          9:\"dziewięć\", 10:\"dziesięć\"}\n",
    "\n",
    "liczba = int(input(\"Podaj liczbę (0-10), której wersję tekstową chcesz wyświetlić: \"))\n",
    "odp = slownik[liczba]\n",
    "\n",
    "print(f\"Liczba: {liczba} - wersja tekstowa: {odp}\")\n"
   ]
  },
  {
   "cell_type": "markdown",
   "metadata": {},
   "source": [
    "### Zadanie 2.13\n",
    "\n",
    "Korzystając z informacji zawartych na stronie: https://pl.wikipedia.org/wiki/Rzymski_system_zapisywania_liczb utwórz program, który zamieni cyfrę rzymską na arabską (do 1000)."
   ]
  },
  {
   "cell_type": "code",
   "execution_count": 51,
   "metadata": {},
   "outputs": [
    {
     "name": "stdout",
     "output_type": "stream",
     "text": [
      "Podaj cyfrę rzymską: D\n",
      "D = 500\n"
     ]
    }
   ],
   "source": [
    "slownik = {\"I\":1, \"II\":2, \"III\":3, \"IV\":4, \"V\":5, \"VI\":6, \"VII\":7, \"VIII\":8, \"IX\":9, \"X\":10, \"XX\":20, \\\n",
    "          \"XXX\":30, \"XL\":40, \"L\":50, \"LX\":60, \"LXX\":70, \"LXXX\":80, \"XC\":90, \"C\":100, \"CC\":200, \"CCC\":300, \\\n",
    "          \"CD\":400, \"D\":500, \"DC\":600, \"DCC\":700, \"DCCC\":800, \"CM\":900, \"M\":1000}\n",
    "\n",
    "liczba = input(\"Podaj cyfrę rzymską: \")\n",
    "odp = slownik[liczba]\n",
    "\n",
    "print(f\"{liczba} = {odp}\")"
   ]
  },
  {
   "cell_type": "markdown",
   "metadata": {},
   "source": [
    "### Zadanie 2.14\n",
    "\n",
    "Napisz program, który wprowadzoną przez użytkownika liczbę 5-cyfrową wyświetli w formie słownej (np. 12345 - jeden dwa trzy cztery pięć)."
   ]
  },
  {
   "cell_type": "code",
   "execution_count": 57,
   "metadata": {},
   "outputs": [
    {
     "name": "stdout",
     "output_type": "stream",
     "text": [
      "Podaj liczbę pięciocyfrową: 12345\n",
      "12345 - jeden dwa trzy cztery pięć\n"
     ]
    }
   ],
   "source": [
    "slownik = {0:\"zero\", 1:\"jeden\", 2:\"dwa\", 3:\"trzy\", 4:\"cztery\", 5:\"pięć\", 6:\"sześć\", 7:\"siedem\", 8:\"osiem\", \\\n",
    "          9:\"dziewięć\"}\n",
    "\n",
    "liczba = input(\"Podaj liczbę pięciocyfrową: \")\n",
    "\n",
    "print(f\"{liczba} - {slownik[int(liczba[0])]} {slownik[int(liczba[1])]} {slownik[int(liczba[2])]} \\\n",
    "{slownik[int(liczba[3])]} {slownik[int(liczba[4])]}\")"
   ]
  },
  {
   "cell_type": "markdown",
   "metadata": {},
   "source": [
    "### Zadanie 2.15\n",
    "\n",
    "Napisz program, w którym zamieścisz następujący słownik:\n",
    "\n",
    "slownik = {\"m1\": \"Ford\", \"m2\": \"Fiat\", \"m3\": \"Opel\", \"m4\": \"Skoda\", \"m5\": \"Wołga\", \"m6\": \"Dacia\"}\n",
    "\n",
    "następnie:\n",
    "- wykonaj kopię słownika (metoda copy()),\n",
    "- zwróć listę krotek wszystkich par kluczy i wartości (metoda items()),\n",
    "- dodaj parę \"m7\": \"FSO\" (metoda update()),\n",
    "- wykonaj kolejną kopię słownika i wyczyść jego zawartość (metody copy() i clear())."
   ]
  },
  {
   "cell_type": "code",
   "execution_count": 66,
   "metadata": {},
   "outputs": [
    {
     "name": "stdout",
     "output_type": "stream",
     "text": [
      "Lista krotek klucz-wartosc: dict_items([('m1', 'Ford'), ('m2', 'Fiat'), ('m3', 'Opel'), ('m4', 'Skoda'), ('m5', 'Wołga'), ('m6', 'Dacia')])\n",
      "Zawartość słownika przed czyszczeniem: {'m1': 'Ford', 'm2': 'Fiat', 'm3': 'Opel', 'm4': 'Skoda', 'm5': 'Wołga', 'm6': 'Dacia', 'm7': 'FSO'}\n",
      "Zawartość słownika po czyszczeniu: {}\n"
     ]
    }
   ],
   "source": [
    "slownik = {\"m1\": \"Ford\", \"m2\": \"Fiat\", \"m3\": \"Opel\", \"m4\": \"Skoda\", \"m5\": \"Wołga\", \"m6\": \"Dacia\"}\n",
    "\n",
    "slownik_kopia_1 = slownik.copy()\n",
    "lista = slownik_kopia_1.items()\n",
    "print(f\"Lista krotek klucz-wartosc: {lista}\")\n",
    "slownik_kopia_1.update({\"m7\": \"FSO\"})\n",
    "slownik_kopia_2 = slownik_kopia_1.copy()\n",
    "print(f\"Zawartość słownika przed czyszczeniem: {slownik_kopia_2}\")\n",
    "slownik_kopia_2.clear()\n",
    "print(f\"Zawartość słownika po czyszczeniu: {slownik_kopia_2}\")"
   ]
  },
  {
   "cell_type": "code",
   "execution_count": 64,
   "metadata": {},
   "outputs": [
    {
     "data": {
      "text/plain": [
       "dict_items([('m1', 'Ford'), ('m2', 'Fiat'), ('m3', 'Opel'), ('m4', 'Skoda'), ('m5', 'Wołga'), ('m6', 'Dacia')])"
      ]
     },
     "execution_count": 64,
     "metadata": {},
     "output_type": "execute_result"
    }
   ],
   "source": [
    "lista"
   ]
  },
  {
   "cell_type": "markdown",
   "metadata": {},
   "source": [
    "# Zbiory\n",
    "\n",
    "Zbiór to kolejny typ sekwencyjny. Posiada ważną własność - jego elementy nie mogą się powtarzać. Podobnie jak słowniki - są nieuporządkowane (kolejność elementów jest bez znaczenia). Zbiory są edytowalne - możemy dodawać bądź usuwać elementy ze zbioru. Zbiory inicjalizujemy z wykorzystaniem funkcji set() lub wprowadzająć zestaw danych otoczonych klamrami {}. Kolejne elementy zbioru są rozdzielone przecinkiem. Mogą przechowywać elementy dowolnych typów. Nie mamy możliwości wywoływania określonych elementów - zbiory nie posiadają ani indeksów ani kluczy. Możemy za to wykonywać działania na zbiorach. \n",
    "\n",
    "Przykład\n",
    "\n",
    "a = {1, 2, 3, 2.1, 2, 3, 4, \"4\"}\n",
    "\n",
    "Przegląd najważniejszych metod i funkcji działających na zbiorach:\n",
    "- add() - dodaje element do zbioru (składnia: zbior.add(element)),\n",
    "- clear() - usuwa wszystkie elementy ze zbioru (składnia: zbior.clear()),\n",
    "- copy() - zwraca kopię zbioru (składnia: zbior.copy()),\n",
    "- difference() - zwraca różnicę zbiorów (składnia: zbior1.difference(zbior2)),\n",
    "- difference_update() - usuwa elementy ze zbioru, które są obecne w drugim zbiorze (składnia: zbior1.difference_update(zbior2)),\n",
    "- discard() - usuwa wskazany element (składnia: zbior.discard(element))\n",
    "- intersection() - zwraca część wspólną zbiorów (składnia: zbior1.intersection(zbior2)),\n",
    "- intersection_update() - usuwa ze zbioru elementy nieobecne w drugim (składnia: zbior1.intersection_update(zbior2)),\n",
    "- isdisjoint() - zwraca informację czy zbiory posiadają część wspólną czy nie (składnia: zbior1.isdisjoint(zbior2)),\n",
    "- issubset() - zwraca informację czy zbiór jest podzbiorem drugiego (składnia: zbior1.issubset(zbior2)),\n",
    "- issuperset() - zwraca informację czy zbiór zawiera się w drugim (składnia: zbior1.issuperset(zbior2)),\n",
    "- pop() - zwraca i usuwa pewien element ze zbioru (składnia: zbior.pop()),\n",
    "- remove() - usuwa wskazany element ze zbioru (składnia: zbior.remove(element)),\n",
    "- symmetric_difference() - zwraca różnicę symetryczną zbiorów (składnia: zbior1.symmetric_difference(zbior2)),\n",
    "- symmetric_difference_update() - usuwa elementy obecne w obu zbiorach oraz wstawia elementy, które nie są obecne w obu zbiorach (składnia: zbior1.symmetric_difference_update(zbior2)),\n",
    "- union() - zwraca zbiór zawierający wszystkie elementy z pierwszego i drugiego zbioru(składnia: zbior1.union(zbior2)),\n",
    "- update() - wstawia elementy jednego zbioru do drugiego zbioru (składnia: zbior1.update(zbior2))."
   ]
  },
  {
   "cell_type": "code",
   "execution_count": 75,
   "metadata": {},
   "outputs": [],
   "source": [
    "zbior.add(1000)"
   ]
  },
  {
   "cell_type": "code",
   "execution_count": 78,
   "metadata": {},
   "outputs": [
    {
     "data": {
      "text/plain": [
       "{1, 100, 1000}"
      ]
     },
     "execution_count": 78,
     "metadata": {},
     "output_type": "execute_result"
    }
   ],
   "source": [
    "zbior"
   ]
  },
  {
   "cell_type": "code",
   "execution_count": 68,
   "metadata": {},
   "outputs": [
    {
     "data": {
      "text/plain": [
       "set"
      ]
     },
     "execution_count": 68,
     "metadata": {},
     "output_type": "execute_result"
    }
   ],
   "source": [
    "type(zbior)"
   ]
  },
  {
   "cell_type": "markdown",
   "metadata": {},
   "source": [
    "### Zadanie 2.16\n",
    "\n",
    "Napisz program, w którym użytkownik poda po 4 elementy (liczby całkowite) do dwóch różnych zbiorów. Natępnie program wyświetli: \n",
    "- sumę zbiorów\n",
    "- różnicę zbiorów\n",
    "- część wspólną zbiorów."
   ]
  },
  {
   "cell_type": "code",
   "execution_count": 79,
   "metadata": {},
   "outputs": [
    {
     "name": "stdout",
     "output_type": "stream",
     "text": [
      "Podaj wartość nr 1 do zbioru nr 1: 1\n",
      "Podaj wartość nr 2 do zbioru nr 1: 2\n",
      "Podaj wartość nr 3 do zbioru nr 1: 3\n",
      "Podaj wartość nr 4 do zbioru nr 1: 4\n",
      "Podaj wartość nr 1 do zbioru nr 2: 3\n",
      "Podaj wartość nr 2 do zbioru nr 2: 4\n",
      "Podaj wartość nr 3 do zbioru nr 2: 5\n",
      "Podaj wartość nr 4 do zbioru nr 2: 6\n",
      "Suma: {1, 2, 3, 4, 5, 6}\n",
      "Różnica: {1, 2}\n",
      "Część wspóna: {3, 4}\n"
     ]
    }
   ],
   "source": [
    "zbior1 = set()\n",
    "zbior2 = set()\n",
    "\n",
    "zm = int(input(f\"Podaj wartość nr 1 do zbioru nr 1: \"))\n",
    "zbior1.add(zm)\n",
    "\n",
    "zm = int(input(f\"Podaj wartość nr 2 do zbioru nr 1: \"))\n",
    "zbior1.add(zm)\n",
    "\n",
    "zm = int(input(f\"Podaj wartość nr 3 do zbioru nr 1: \"))\n",
    "zbior1.add(zm)\n",
    "\n",
    "zm = int(input(f\"Podaj wartość nr 4 do zbioru nr 1: \"))\n",
    "zbior1.add(zm)\n",
    "\n",
    "zm = int(input(f\"Podaj wartość nr 1 do zbioru nr 2: \"))\n",
    "zbior2.add(zm)\n",
    "\n",
    "zm = int(input(f\"Podaj wartość nr 2 do zbioru nr 2: \"))\n",
    "zbior2.add(zm)\n",
    "\n",
    "zm = int(input(f\"Podaj wartość nr 3 do zbioru nr 2: \"))\n",
    "zbior2.add(zm)\n",
    "\n",
    "zm = int(input(f\"Podaj wartość nr 4 do zbioru nr 2: \"))\n",
    "zbior2.add(zm)\n",
    "\n",
    "suma = zbior1.union(zbior2)\n",
    "roznica = zbior1.difference(zbior2)\n",
    "cz_wspolna = zbior1.intersection(zbior2)\n",
    "\n",
    "print(f\"Suma: {suma}\")\n",
    "print(f\"Różnica: {roznica}\")\n",
    "print(f\"Część wspóna: {cz_wspolna}\")"
   ]
  },
  {
   "cell_type": "markdown",
   "metadata": {},
   "source": [
    "# Konwersja typów sekwencyjnych\n",
    "\n",
    "Aby dokonać konwersji jednego typu sekwencyjnego na drugi korzystami z instrukcji:\n",
    "- konwersja na listę: list(krotka albo zbiór)\n",
    "- konwersja na zbiór: set(krotka albo lista)\n",
    "- konwersja na krotkę: tuple(lista albo zbiór)"
   ]
  },
  {
   "cell_type": "markdown",
   "metadata": {},
   "source": [
    "# Instrukcje warunkowe\n",
    "\n",
    "Instrukcje warunkowe umożliwiają podzielenie programu na bloki, których realizacja zależy od spełnienia tzw. warunków logicznych. Dzięki temu wynik działania programu może zależeć od wprowadzanych do niego wartości. Działanie instrukcji warunkowych można obrazowo porównać do zwrotnic na torach kolejowych - w zależności od ustawienia zwrotnicy pociąg (podobnie jak program) pojedzie \"w lewo\" lub \"w prawo\" na schemacie algorytmu naszego programu.\n",
    "\n",
    "Słowa kluczowe: \n",
    "- if - za pomocą tej instrukcji rozpoczynamy blok warunku\n",
    "- elif - pozwala uwzględnić alternatywne warunki do sprawdzenia\n",
    "- else - obsługuje sytuacje \"wszystkie inne\" niż te, zdefiniowane przy insktrukcjach if oraz elif.\n",
    "\n",
    "W języku Python składnia instrukcji warunkowych jest następująca:"
   ]
  },
  {
   "cell_type": "code",
   "execution_count": 53,
   "metadata": {},
   "outputs": [],
   "source": [
    "# Składnia instrukcji warunkowych:\n",
    "\n",
    "# if (warunki logiczne):\n",
    "#    <instrukcje>\n",
    "\n",
    "# --- lub ---\n",
    "\n",
    "# if (warunki logiczne):\n",
    "#    <instrukcje>\n",
    "# else:\n",
    "#     <instrukcje>\n",
    "\n",
    "# --- lub ---\n",
    "\n",
    "# if (warunki logiczne):\n",
    "#    <instrukcje>\n",
    "# elif (warunki logiczne):\n",
    "#     <instrukcje>\n",
    "# ......\n",
    "\n",
    "# --- lub ---\n",
    "\n",
    "# if (warunki logiczne):\n",
    "#    <instrukcje>\n",
    "# elif (warunki logiczne):\n",
    "#     <instrukcje>\n",
    "# ......\n",
    "# else:\n",
    "#     <instrukcje>"
   ]
  },
  {
   "cell_type": "code",
   "execution_count": 70,
   "metadata": {},
   "outputs": [],
   "source": [
    "decyzja = \"n\"\n",
    "\n",
    "if(decyzja==\"t\"):\n",
    "    print(\"Sukces\")"
   ]
  },
  {
   "cell_type": "markdown",
   "metadata": {},
   "source": [
    "### Zadanie 2.17\n",
    "\n",
    "Napisz program, który sprawdza, czy wprowadzona przez użytkownika liczba jest parzysta czy nie oraz wyświetla w konsoli stosowny komunikat."
   ]
  },
  {
   "cell_type": "code",
   "execution_count": 74,
   "metadata": {},
   "outputs": [
    {
     "name": "stdout",
     "output_type": "stream",
     "text": [
      "Podaj liczbę: 34\n",
      "Liczba jest parzysta\n"
     ]
    }
   ],
   "source": [
    "zm = int(input(\"Podaj liczbę: \"))\n",
    "\n",
    "if(zm%2 == 0):\n",
    "    print(\"Liczba jest parzysta\")\n",
    "    \n",
    "elif(zm%2 ==1):\n",
    "    print(\"Liczba jest NIEparzysta\")\n",
    "    "
   ]
  },
  {
   "cell_type": "markdown",
   "metadata": {},
   "source": [
    "### Zadanie 2.18\n",
    "\n",
    "Napisz program, który wczyta liczbę wprowadzoną przez użytkownika, a następnie dokona klasyfikacji: liczba ujemna, liczba dodatnia, liczba równa zeru."
   ]
  },
  {
   "cell_type": "code",
   "execution_count": 77,
   "metadata": {},
   "outputs": [
    {
     "name": "stdout",
     "output_type": "stream",
     "text": [
      "Podaj liczbę: 0\n",
      "Liczba jest równa zeru\n"
     ]
    }
   ],
   "source": [
    "zm = int(input(\"Podaj liczbę: \"))\n",
    "\n",
    "if(zm > 0):\n",
    "    print(\"Liczba jest dodatnia\")\n",
    "    \n",
    "elif(zm < 0):\n",
    "    print(\"Liczba jest ujemna\")\n",
    "\n",
    "else:\n",
    "    print(\"Liczba jest równa zeru\")"
   ]
  },
  {
   "cell_type": "markdown",
   "metadata": {},
   "source": [
    "### Zadanie 2.19\n",
    "\n",
    "Trójmian kwadratowy wyraża się wzorem: $y=ax^2 + bx + c$. Napisz program, w którym użytkownik wprowadza współczynniki trójmianu kwadratowego (a, b, c), a następnie sprawdza, czy trójmian o podanych współczynnikach ma 2, 1 czy 0 rozwiązań w zbiorze liczb rzeczywistych. \n",
    "\n",
    "Uzupełnienie matematyczne: Należy sprawdzić znak delty: $\\Delta = b^2 - 4ac$. \n",
    "Jeżeli:\n",
    "- $\\Delta > 0$ - trójmian ma 2 pierwiastki, \n",
    "- $\\Delta = 0$ - trójmian ma 1 pierwiastek,\n",
    "- $\\Delta < 0$ - trójmian nie ma pierwiastków rzeczywistych.  "
   ]
  },
  {
   "cell_type": "code",
   "execution_count": 79,
   "metadata": {},
   "outputs": [
    {
     "name": "stdout",
     "output_type": "stream",
     "text": [
      "Podaj a: -4\n",
      "Podaj b: 2\n",
      "Podaj c: 3\n",
      "2 pierwiastki\n"
     ]
    }
   ],
   "source": [
    "a = float(input(\"Podaj a: \"))\n",
    "b = float(input(\"Podaj b: \"))\n",
    "c = float(input(\"Podaj c: \"))\n",
    "\n",
    "delta = b*b-4*a*c\n",
    "\n",
    "if(delta>0):\n",
    "    print(\"2 pierwiastki\")\n",
    "elif(delta == 0):\n",
    "    print(\"1 pierwiastek\")\n",
    "else:\n",
    "    print(\"brak pierwiastków\")"
   ]
  },
  {
   "cell_type": "markdown",
   "metadata": {},
   "source": [
    "### Zadanie 2.20\n",
    "\n",
    "Napisz program, który przyjmie od użytkownika dwie wartości, a następnie wskaże wartość większą. Do rozwiązania zadania wykorzystaj instrukcje warunkowe."
   ]
  },
  {
   "cell_type": "markdown",
   "metadata": {},
   "source": [
    "### Zadanie 2.21\n",
    "\n",
    "Napisz program, który przyjmie od użytkownika dwie wartości, a następnie wskaże wartość mniejszą. Do rozwiązania zadania wykorzystaj instrukcje warunkowe."
   ]
  },
  {
   "cell_type": "markdown",
   "metadata": {},
   "source": [
    "### Zadanie 2.22\n",
    "\n",
    "Napisz program, który przyjmie 3 wartości, a następnie wskaże wartość najmniejszą i największą. Do rozwiązania zadania wykorzystaj instrukcje warunkowe."
   ]
  },
  {
   "cell_type": "markdown",
   "metadata": {},
   "source": [
    "### Zadanie 2.23\n",
    "\n",
    "Napisz program, który przyjmie 6 wartości, a następnie wskaże wartość najmniejszą i największą. Do rozwiązania zadania wykorzystaj instrukcje warunkowe."
   ]
  },
  {
   "cell_type": "markdown",
   "metadata": {},
   "source": [
    "### Zadanie 2.24\n",
    "\n",
    "Napisz program, w którym utworzysz i nadasz dowolne wartości liczbowe trzem zmiennym, natomiast program wypisze te wartości od najmniejszej do największej (wykona sortowanie). Do rozwiązania zadania wykorzystaj instrukcje warunkowe."
   ]
  },
  {
   "cell_type": "markdown",
   "metadata": {},
   "source": [
    "### Zadanie 2.25\n",
    "\n",
    "Napisz program do obliczania współczynnika BMI. Użytkownik podaje swoją wagę (w kilogramach) i wzrost (w metrach). Następnie program wykonuje obliczenia współczynnika zgodnie ze wzorem: $BMI = \\frac{waga}{wzrost^2}$. Jeżeli wynik mieści się w przedziale (18.5-24.9) program wyświetla komunikat \"waga jest prawidłowa\". Jeżeli wynik jest poniżej wartości 18.5 to wyświetla komunikat \"niedowaga\". Jeżeli z kolei wynik jest powyżej wartości 24.9 to program wyświetla komunikat \"nadwaga\"."
   ]
  },
  {
   "cell_type": "code",
   "execution_count": 80,
   "metadata": {},
   "outputs": [
    {
     "name": "stdout",
     "output_type": "stream",
     "text": [
      "Podaj wagę [kg]: 50\n",
      "Podaj wzrost [m]: 1.5\n",
      "waga prawidłowa\n"
     ]
    }
   ],
   "source": [
    "waga = float(input(\"Podaj wagę [kg]: \"))\n",
    "wzrost = float(input(\"Podaj wzrost [m]: \"))\n",
    "\n",
    "BMI = waga/(wzrost**2)\n",
    "\n",
    "if(BMI>= 18.5 and BMI < 24.9):\n",
    "    print(\"waga prawidłowa\")\n",
    "    \n",
    "elif(BMI<18.5):\n",
    "    print(\"niedowaga\")\n",
    "    \n",
    "else:\n",
    "    print(\"nadwaga\")"
   ]
  },
  {
   "cell_type": "markdown",
   "metadata": {},
   "source": [
    "### Zadanie 2.26\n",
    "\n",
    "Napisz program, który przyjmie od użytkownika długości trzech boków trójkąta, a następnie sprawdzi czy z podanych boków możliwe jest utworzenie jakiegokolwiek trójkąta. Wyświetl stosowny komunikat."
   ]
  },
  {
   "cell_type": "code",
   "execution_count": 82,
   "metadata": {},
   "outputs": [
    {
     "name": "stdout",
     "output_type": "stream",
     "text": [
      "Podaj bok a: 2\n",
      "Podaj bok b: 10\n",
      "Podaj bok c: 2\n",
      "nie da się\n"
     ]
    }
   ],
   "source": [
    "a = float(input(\"Podaj bok a: \"))\n",
    "b = float(input(\"Podaj bok b: \"))\n",
    "c = float(input(\"Podaj bok c: \"))\n",
    "\n",
    "# suma dowolnych dwóch boków musi być więsza/równa trzeciemu\n",
    "\n",
    "if(a+b>=c and a+c>=b and b+c>=a):\n",
    "    print(\"da się\")\n",
    "else:\n",
    "    print(\"nie da się\")"
   ]
  },
  {
   "cell_type": "markdown",
   "metadata": {},
   "source": [
    "### Zadanie 2.27\n",
    "\n",
    "Napisz program, który przyjmie od użytkownika długości trzech boków trójkąta, a następnie wyświetli komunikat, czy z takich boków można zbudować trójkąt prostokątny."
   ]
  },
  {
   "cell_type": "code",
   "execution_count": 86,
   "metadata": {},
   "outputs": [
    {
     "name": "stdout",
     "output_type": "stream",
     "text": [
      "Podaj bok a: 1\n",
      "Podaj bok b: 2\n",
      "Podaj bok c: 3\n",
      "nie da się\n"
     ]
    }
   ],
   "source": [
    "a = float(input(\"Podaj bok a: \"))\n",
    "b = float(input(\"Podaj bok b: \"))\n",
    "c = float(input(\"Podaj bok c: \"))\n",
    "\n",
    "# suma dowolnych dwóch boków musi być więsza/równa trzeciemu\n",
    "\n",
    "if(c**2 == a**2 + b**2 or a**2 == c**2 + b**2 or b**2 == a**2 + c**2):\n",
    "    print(\"da się\")\n",
    "else:\n",
    "    print(\"nie da się\")"
   ]
  },
  {
   "cell_type": "markdown",
   "metadata": {},
   "source": [
    "### Zadanie 2.28\n",
    "\n",
    "Utwórz program, w którym użytkownik może dokonać wyboru czy chce obliczyć pole czy obwód koła. Następnie program pobierze od użytkownika długości promienia, wykona obliczenia i wyświetli wynik na ekranie."
   ]
  },
  {
   "cell_type": "markdown",
   "metadata": {},
   "source": [
    "### Zadanie 2.29\n",
    "\n",
    "Napisz program umożliwiający wykonywanie działań prostego kalkulatora. Program powinien pracować na zmiennych rzeczywistych. Użytkownik wprowadza pierwszą liczbę, znak działania (+, -, *, /) i drugą liczbę, natomiast program oblicza i wyświetla wynik działania na ekranie (w konsoli)."
   ]
  },
  {
   "cell_type": "code",
   "execution_count": 90,
   "metadata": {},
   "outputs": [
    {
     "name": "stdout",
     "output_type": "stream",
     "text": [
      "Pierwsza liczba: 30\n",
      "działanie (+, -, *, /): /\n",
      "Druga liczba: 0\n",
      "niedozwolone dzielnie przez 0\n",
      "30.0 / 0.0 = brak wyniku\n"
     ]
    }
   ],
   "source": [
    "zm1 = float(input(\"Pierwsza liczba: \"))\n",
    "\n",
    "znak = input(\"działanie (+, -, *, /): \")\n",
    "\n",
    "zm2 = float(input(\"Druga liczba: \"))\n",
    "\n",
    "if(znak ==\"+\"):\n",
    "    wynik = zm1+zm2\n",
    "elif(znak == \"-\"):\n",
    "    wynik = zm1-zm2\n",
    "elif(znak == \"*\"):\n",
    "    wynik = zm1*zm2\n",
    "elif(znak == \"/\" and zm2 != 0):\n",
    "    wynik = zm1/zm2\n",
    "elif(znak == \"/\" and zm2 == 0):\n",
    "    print(\"niedozwolone dzielnie przez 0\")\n",
    "    wynik = \"brak wyniku\"\n",
    "    \n",
    "print(f\"{zm1} {znak} {zm2} = {wynik}\")\n",
    "    \n",
    "\n"
   ]
  },
  {
   "cell_type": "markdown",
   "metadata": {},
   "source": [
    "### Zadanie 2.30\n",
    "\n",
    "Napisz program do nauki tabliczki mnożenia. Program losuje dwie liczby z przedziału (1-10), wykonuje mnożenie i pyta użytkownika o wynik. Następnie użytkownik wprowadza wynik, a program udziela odpowiedzi czy jest poprawny czy nie."
   ]
  },
  {
   "cell_type": "code",
   "execution_count": 115,
   "metadata": {},
   "outputs": [
    {
     "name": "stdout",
     "output_type": "stream",
     "text": [
      "Ile to jest 8 * 3? 83\n",
      "Niestety Twoja odpowiedź jest błędna. Poprawna odpowiedź to: 24\n"
     ]
    }
   ],
   "source": [
    "from random import randint\n",
    "\n",
    "zm1 = randint(1, 10)\n",
    "zm2 = randint(1, 10)\n",
    "\n",
    "wynik = zm1*zm2\n",
    "\n",
    "odp = int(input(f\"Ile to jest {zm1} * {zm2}? \"))\n",
    "\n",
    "if(odp == wynik):\n",
    "    print(\"Brawo, Twoja odpowiedź jest prawidłowa!\")\n",
    "else:\n",
    "    print(f\"Niestety Twoja odpowiedź jest błędna. Poprawna odpowiedź to: {wynik}\")"
   ]
  },
  {
   "cell_type": "code",
   "execution_count": 110,
   "metadata": {},
   "outputs": [
    {
     "data": {
      "text/plain": [
       "10"
      ]
     },
     "execution_count": 110,
     "metadata": {},
     "output_type": "execute_result"
    }
   ],
   "source": [
    "randint(1, 10)"
   ]
  },
  {
   "cell_type": "markdown",
   "metadata": {},
   "source": [
    "### Zadanie 2.31\n",
    "\n",
    "Napisz program, który będzie samodzielnie losować dwie liczby całkowite (0-100) i znak operacji (+, -, *), a następnie wyświetli utworzone równanie i zada pytanie o wynik. Użytkownik udziela odpowiedzi, a komputer ocenia czy czy odpowiedź jest dobra czy zła i wyświetla ją na ekranie (w konsoli)."
   ]
  },
  {
   "cell_type": "markdown",
   "metadata": {},
   "source": [
    "### Zadanie 2.32\n",
    "\n",
    "Napisz program, który będzie dokonywać oceny hałasu na podstawie wprowadzonej wartości poziomu natężenia dźwięku. Przyjmij następujące zakresy: poziomu natężenia dźwięku pomiędzy: 0 a 50 dB - niski hałas, 50 a 100 dB - średni hałas, powyżej 100 dB - wysoki hałas."
   ]
  },
  {
   "cell_type": "markdown",
   "metadata": {},
   "source": [
    "### Zadanie 2.33\n",
    "\n",
    "Napisz program do wystawiania ocen. Uczniowie pisali sprawdzian, na którym maksylanie można było zdobyć 50 pkt. Użytkownik wprowadza uzyskaną liczbę punktów, a program zwraca ocenę jaką pownien uzyskać. Progi ocen są następujące: 0-39% - ndst, 40-49% - dop, 50-69% -dst, 70-84% - db, 85-99% bdb, 100% - cel."
   ]
  },
  {
   "cell_type": "code",
   "execution_count": 119,
   "metadata": {},
   "outputs": [
    {
     "name": "stdout",
     "output_type": "stream",
     "text": [
      "Podaj liczbę zdobytych punktów: 40\n",
      "Twoja ocena to: DB\n"
     ]
    }
   ],
   "source": [
    "punkty = int(input(\"Podaj liczbę zdobytych punktów: \"))\n",
    "\n",
    "maxp = 50\n",
    "\n",
    "if (punkty < 0 or punkty > maxp):\n",
    "    print(\"Twój wynik jest poza skalą\")\n",
    "else:\n",
    "    prc = round(100*(punkty/maxp))\n",
    "    if(prc >= 0 and prc < 40):\n",
    "        print(\"Twoja ocena to: NDST\")\n",
    "    elif(prc >= 40 and prc < 50):\n",
    "        print(\"Twoja ocena to: DOP\")\n",
    "    elif(prc >= 50 and prc < 70):\n",
    "        print(\"Twoja ocena to: DST\")\n",
    "    elif(prc >= 70 and prc < 85):\n",
    "        print(\"Twoja ocena to: DB\")\n",
    "    elif(prc >= 85 and prc < 100):\n",
    "        print(\"Twoja ocena to: BDB\")\n",
    "    elif(prc == 100):\n",
    "        print(\"Twoja ocena to: CEL\")\n",
    "    "
   ]
  },
  {
   "cell_type": "markdown",
   "metadata": {},
   "source": [
    "### Zadanie 2.34\n",
    "\n",
    "Napisz program do sprawdzania długości tekstu dla recenzentów prac dyplomowych. Recenzja musi składać się conajmniej z 500 znaków (bez spacji). Użytkownik podaje tekst, a pogram zwraca informację ile posiada znaków, ile posiada znaków bez spacji oraz czy spełnia wymogi formalne dotyczące liczby znaków bez spacji.  "
   ]
  },
  {
   "cell_type": "markdown",
   "metadata": {},
   "source": [
    "# Pętle\n",
    "\n",
    "Pętla umożliwia wykonanie danego fragmentu kodu więcej niż raz. Jeden cykl pętli jest nazywany iteracją. \n",
    "\n",
    "Najważniejsze pętle to:\n",
    "- pętla for - posiada wbudowany „licznik” (iterator)\n",
    "- pętla while - domyślnie nie posiada „licznika” ale można go dodać."
   ]
  },
  {
   "cell_type": "markdown",
   "metadata": {},
   "source": [
    "# Pętla for\n",
    "\n",
    "Pętla for - składnia dla dowolnych obiektów:"
   ]
  },
  {
   "cell_type": "code",
   "execution_count": 54,
   "metadata": {},
   "outputs": [],
   "source": [
    "# for i in range(liczba):\n",
    "#     <instrukcje>\n",
    "\n",
    "# for i in range(poczatek, koniec):\n",
    "#     <instrukcje>\n",
    "\n",
    "# for i in range(poczatek, koniec, skok):\n",
    "#     <instrukcje>"
   ]
  },
  {
   "cell_type": "code",
   "execution_count": 124,
   "metadata": {},
   "outputs": [
    {
     "name": "stdout",
     "output_type": "stream",
     "text": [
      "10\n",
      "15\n",
      "20\n",
      "25\n",
      "30\n",
      "35\n",
      "40\n",
      "45\n",
      "50\n"
     ]
    }
   ],
   "source": [
    "for i in range(10, 51, 5):\n",
    "    print(i)"
   ]
  },
  {
   "cell_type": "markdown",
   "metadata": {},
   "source": [
    "Pętla for dla typów sekwencyjnych:\n"
   ]
  },
  {
   "cell_type": "code",
   "execution_count": 56,
   "metadata": {},
   "outputs": [],
   "source": [
    "# lista = [8, 3, 4, 6, 1]\n",
    "\n",
    "# for element in lista:\n",
    "#     <instrukcje>\n",
    "\n",
    "# for indeks, element in enumerate(lista):\n",
    "#     <instrukcje>\n",
    "\n",
    "# slownik = {\"k1\" : \"v1\", \"k2\" : \"v2\"}\n",
    "\n",
    "# for key in slownik:\n",
    "#     <instrukcje>"
   ]
  },
  {
   "cell_type": "code",
   "execution_count": 127,
   "metadata": {},
   "outputs": [
    {
     "name": "stdout",
     "output_type": "stream",
     "text": [
      "0 8\n",
      "1 3\n",
      "2 4\n",
      "3 6\n",
      "4 1\n"
     ]
    }
   ],
   "source": [
    "lista = [8, 3, 4, 6, 1]\n",
    "\n",
    "for i, el in enumerate(lista):\n",
    "    print(i, el)"
   ]
  },
  {
   "cell_type": "markdown",
   "metadata": {},
   "source": [
    "### Zadanie 2.35\n",
    "\n",
    "Napisz program, który wyświetli 10 razy na ekranie numer wynonanej iteracji oraz napis: \"Ala ma kota\"."
   ]
  },
  {
   "cell_type": "code",
   "execution_count": 128,
   "metadata": {},
   "outputs": [
    {
     "name": "stdout",
     "output_type": "stream",
     "text": [
      "0 Ala ma kota\n",
      "1 Ala ma kota\n",
      "2 Ala ma kota\n",
      "3 Ala ma kota\n",
      "4 Ala ma kota\n",
      "5 Ala ma kota\n",
      "6 Ala ma kota\n",
      "7 Ala ma kota\n",
      "8 Ala ma kota\n",
      "9 Ala ma kota\n"
     ]
    }
   ],
   "source": [
    "for i in range(10):\n",
    "    print(i, \"Ala ma kota\")"
   ]
  },
  {
   "cell_type": "markdown",
   "metadata": {},
   "source": [
    "### Zadanie 2.36\n",
    "\n",
    "Napisz program, który z przedziału liczb od 1-1000 wyświetli liczby podzielne przez 37. Podpowiedź: podzielność możemy sprawdzać korzystając z operacji modulo (obliczanie reszty z dzielenia, symbol %)."
   ]
  },
  {
   "cell_type": "code",
   "execution_count": 129,
   "metadata": {},
   "outputs": [
    {
     "name": "stdout",
     "output_type": "stream",
     "text": [
      "37\n",
      "74\n",
      "111\n",
      "148\n",
      "185\n",
      "222\n",
      "259\n",
      "296\n",
      "333\n",
      "370\n",
      "407\n",
      "444\n",
      "481\n",
      "518\n",
      "555\n",
      "592\n",
      "629\n",
      "666\n",
      "703\n",
      "740\n",
      "777\n",
      "814\n",
      "851\n",
      "888\n",
      "925\n",
      "962\n",
      "999\n"
     ]
    }
   ],
   "source": [
    "for i in range(1, 1001):\n",
    "    if(i%37==0):\n",
    "        print(i)"
   ]
  },
  {
   "cell_type": "markdown",
   "metadata": {},
   "source": [
    "### Zadanie 2.37\n",
    "\n",
    "Napisz program wykonujący odliczanie do wystrzału rakiety. Na koniec odliczania program powinien wyświetlić komunikat \"BUM!!!\". "
   ]
  },
  {
   "cell_type": "markdown",
   "metadata": {},
   "source": [
    "### Zadanie 2.38\n",
    "\n",
    "Napisz program, który przyjmie od użytkownika zdanie, a następnie przeliteruje je w domyślnej i odwróconej kolejności."
   ]
  },
  {
   "cell_type": "code",
   "execution_count": 132,
   "metadata": {},
   "outputs": [
    {
     "name": "stdout",
     "output_type": "stream",
     "text": [
      "Podaj zdanie: Ala ma kota\n",
      "A\n",
      "l\n",
      "a\n",
      " \n",
      "m\n",
      "a\n",
      " \n",
      "k\n",
      "o\n",
      "t\n",
      "a\n",
      " \n",
      "a\n",
      "t\n",
      "o\n",
      "k\n",
      " \n",
      "a\n",
      "m\n",
      " \n",
      "a\n",
      "l\n",
      "A\n"
     ]
    }
   ],
   "source": [
    "zdanie = input(\"Podaj zdanie: \")\n",
    "\n",
    "for i in range(0, len(zdanie)):\n",
    "    print(zdanie[i])\n",
    "\n",
    "print(\" \")\n",
    "    \n",
    "for i in range(0, len(zdanie)):\n",
    "    print(zdanie[-i-1])"
   ]
  },
  {
   "cell_type": "code",
   "execution_count": 134,
   "metadata": {},
   "outputs": [
    {
     "name": "stdout",
     "output_type": "stream",
     "text": [
      "10\n",
      "9\n",
      "8\n",
      "7\n",
      "6\n",
      "5\n",
      "4\n",
      "3\n",
      "2\n",
      "1\n",
      "0\n"
     ]
    }
   ],
   "source": [
    "for i in range(10, -1, -1):\n",
    "    print(i)"
   ]
  },
  {
   "cell_type": "markdown",
   "metadata": {},
   "source": [
    "### Zadanie 2.39\n",
    "\n",
    "Napisz program obliczający dowolną potęgę zadanej liczby całkowitej (bez użycia operatora **). Użytkownik podaje liczbę całkowitą podnoszoną do potęgi (liczba całkowita) oraz potęgę (liczba całkowita). Program wykonuje obliczenia i wyświetla odpowiedź."
   ]
  },
  {
   "cell_type": "code",
   "execution_count": 135,
   "metadata": {},
   "outputs": [
    {
     "name": "stdout",
     "output_type": "stream",
     "text": [
      "Podaj podstawę: 2\n",
      "Podaj wykładnik: 10\n",
      "2^10 = 1024\n"
     ]
    }
   ],
   "source": [
    "a = int(input(\"Podaj podstawę: \"))\n",
    "n = int(input(\"Podaj wykładnik: \"))\n",
    "\n",
    "if (a>0 and n>0):\n",
    "    wynik = 1\n",
    "    for i in range(0, n):\n",
    "        wynik = wynik * a\n",
    "    print(f\"{a}^{n} = {wynik}\")\n",
    "elif (a>0 and n==0):\n",
    "    wynik = 1\n",
    "    print(f\"{a}^{n} = {wynik}\")\n",
    "else:\n",
    "    print(\"Niewłaściwe argumenty\")"
   ]
  },
  {
   "cell_type": "markdown",
   "metadata": {},
   "source": [
    "### Zadanie 2.40\n",
    "\n",
    "Napisz program obliczający silnię z zadanej liczby. Użytkownik podaje liczbę całkowitą. Program wykonuje obliczenia i wyświetla odpowiedź. Uwzględnij przypadek 0!=1."
   ]
  },
  {
   "cell_type": "markdown",
   "metadata": {},
   "source": [
    "### Zadanie 2.41\n",
    "\n",
    "Napisz program obliczający zadany wyraz ciągu Fibonacciego. Użytkownik podaje numer wyrazu, program wykonuje obliczenia i wyświetla wynik."
   ]
  },
  {
   "cell_type": "markdown",
   "metadata": {},
   "source": [
    "### Zadanie 2.42\n",
    "\n",
    "Napisz program z wykorzystaniem pętli, w którym użytkownik poda ile liczb chce dodać do siebie, program pobierze od niego dokładnie tyle liczb, obliczy ich sumę i wyświetli ją na ekranie. "
   ]
  },
  {
   "cell_type": "markdown",
   "metadata": {},
   "source": [
    "### Zadanie 2.43\n",
    "\n",
    "Napisz program, który przyjmie liczbę o dowolnej liczbie cyfr i wyświetli na ekranie sekwencję jej cyfr w formie słownej (np. 112 powinno dać w wyniku: jeden jeden dwa). "
   ]
  },
  {
   "cell_type": "markdown",
   "metadata": {},
   "source": [
    "# Pętla while\n",
    "\n",
    "Pętla while opiera się na istnieniu i spełnieniu pewnego warunku logicznego. Pętla while(warunek) nie posiada licznika. Jest wykonywana tak długo, jak długo jest spełniony jej warunek. Jego obecność umożliwia wprowadzenie licznika, ale również pozwala na stworzenie pętli nieskończonej. \n",
    "\n",
    "Składnia pętli while: "
   ]
  },
  {
   "cell_type": "code",
   "execution_count": 57,
   "metadata": {},
   "outputs": [],
   "source": [
    "# while(warunek):\n",
    "#     <instrukcje>"
   ]
  },
  {
   "cell_type": "code",
   "execution_count": 140,
   "metadata": {},
   "outputs": [
    {
     "name": "stdout",
     "output_type": "stream",
     "text": [
      "1\n",
      "2\n",
      "3\n",
      "4\n",
      "5\n",
      "6\n",
      "7\n",
      "8\n",
      "9\n",
      "10\n",
      "11\n",
      "12\n",
      "13\n",
      "14\n",
      "15\n",
      "16\n",
      "17\n",
      "18\n",
      "19\n",
      "20\n",
      "21\n",
      "22\n",
      "23\n",
      "24\n",
      "25\n",
      "26\n",
      "27\n",
      "28\n",
      "29\n",
      "31\n",
      "32\n",
      "33\n",
      "34\n",
      "35\n",
      "36\n",
      "37\n",
      "38\n",
      "39\n",
      "40\n",
      "41\n",
      "42\n",
      "43\n",
      "44\n",
      "45\n",
      "46\n",
      "47\n",
      "48\n",
      "49\n",
      "50\n"
     ]
    }
   ],
   "source": [
    "\n",
    "i = 0\n",
    "while(i<50):\n",
    "    i = i+1\n",
    "    if(i==30):\n",
    "        continue\n",
    "    \n",
    "    print(i)\n",
    "    "
   ]
  },
  {
   "cell_type": "markdown",
   "metadata": {},
   "source": [
    "Dodatkowe instrukcje:\n",
    "- continue - pominięcie instrukcji i przejście do kolejnego cyklu pętli\n",
    "- break - przerwanie działania pętli (wyjście) "
   ]
  },
  {
   "cell_type": "markdown",
   "metadata": {},
   "source": [
    "### Zadanie 2.44\n",
    "\n",
    "Rozbuduj program do nauki tabliczki mnożenia o menu które pojawi się po każdej próbie i pozwoli użytkownikowi wybrać czy chce grać dalej czy nie, oraz będzie zliczać jego punkty (dodawać punkty za dobre odpowiedzi i odejmować za złe) a na końcu gry będzie zwrcać statystyki gracza (ile miał pytań, ile odpowiedzi było poprawnych a ile nie, ile zdobył punktów, jaki był procent poprawnych odpwiedzi a jaki procent odpwiedzi niepoprawnych)."
   ]
  },
  {
   "cell_type": "code",
   "execution_count": 142,
   "metadata": {},
   "outputs": [
    {
     "name": "stdout",
     "output_type": "stream",
     "text": [
      "Ile to jest 4 * 10? 40\n",
      "Brawo, Twoja odpowiedź jest prawidłowa!\n",
      "Czy chcesz wykonać program jeszcze raz? (t-tak, n-nie): t\n",
      "Ile to jest 8 * 10? 80\n",
      "Brawo, Twoja odpowiedź jest prawidłowa!\n",
      "Czy chcesz wykonać program jeszcze raz? (t-tak, n-nie): t\n",
      "Ile to jest 8 * 8? 64\n",
      "Brawo, Twoja odpowiedź jest prawidłowa!\n",
      "Czy chcesz wykonać program jeszcze raz? (t-tak, n-nie): t\n",
      "Ile to jest 9 * 9? 81\n",
      "Brawo, Twoja odpowiedź jest prawidłowa!\n",
      "Czy chcesz wykonać program jeszcze raz? (t-tak, n-nie): n\n"
     ]
    }
   ],
   "source": [
    "from random import randint\n",
    "\n",
    "decyzja = \"t\"\n",
    "\n",
    "while(decyzja == \"t\"):\n",
    "    zm1 = randint(1, 10)\n",
    "    zm2 = randint(1, 10)\n",
    "\n",
    "    wynik = zm1*zm2\n",
    "\n",
    "    odp = int(input(f\"Ile to jest {zm1} * {zm2}? \"))\n",
    "\n",
    "    if(odp == wynik):\n",
    "        print(\"Brawo, Twoja odpowiedź jest prawidłowa!\")\n",
    "    else:\n",
    "        print(f\"Niestety Twoja odpowiedź jest błędna. Poprawna odpowiedź to: {wynik}\")\n",
    "    \n",
    "    decyzja = input(\"Czy chcesz wykonać program jeszcze raz? (t-tak, n-nie): \")"
   ]
  },
  {
   "cell_type": "markdown",
   "metadata": {},
   "source": [
    "### Zadanie 2.45\n",
    "\n",
    "Napisz program, który będzie przyjmować od użytkownika liczby całkowite i będzie umieszczać je w liście. Etap wprowadzania liczb kończy się, kiedy użytkownik wprowadzi cyfrę 0. Następnie program obliczy i wyświetli sumę i średnią ze wprowadzonych liczb. "
   ]
  },
  {
   "cell_type": "markdown",
   "metadata": {},
   "source": [
    "### Zadanie 2.46\n",
    "\n",
    "Napisz program do organizacji bazy klientów. W programie użytkownik podaje imię, nazwisko i numer telefonu klienta. Dane są zapisywane do listy. Użytkownik posiada możliwość dodania kontaktu, wyświetlenia całej bazy kontaktów, usuwania wybranego kontaktu (po nazwisku), oraz zakończenia pracy programu. Program powinien posiadać menu: D-dodaj, P-pokaż, U-usuń, K-koniec."
   ]
  },
  {
   "cell_type": "markdown",
   "metadata": {},
   "source": [
    "### Zadanie 2.47\n",
    "\n",
    "Sito Erastotenesa:\n",
    "Utwórz program, który przyjmie liczbę naturalną i sprawdzi czy jest pierwsza czy nie."
   ]
  },
  {
   "cell_type": "markdown",
   "metadata": {},
   "source": [
    "### Zadanie 2.48\n",
    "\n",
    "Utwórz grę, w której komputer losuje liczby z przedziału 1-100. Gracz ma odgadnąć co to za liczba poprzez wprowadzanie kolejnych odpowiedzi. Jeżeli podana przez gracza liczba jest za mała, otrzymuje komunikat \"podałeś za małą liczbę\". Jeżeli za duża - \"podałeś za dużą liczbę\". Jeżeli równa wylosowanej liczbie - gracz otrzymuje komunikat \"Gratulacje\" i gra zostaje zakończona."
   ]
  },
  {
   "cell_type": "markdown",
   "metadata": {},
   "source": [
    "### Zadanie 2.49\n",
    "\n",
    "Rozbuduj program losujący dwie liczby i znak działania (+, -, *, /) tak aby po każdym cyklu użytkownik mógł podjąc decyzję, czy chce grać dalej, czy chce zakończyć. Program zbiera informacje na temat dobrych i złych odpowiedzi użytkownika. Na koniec gry wyświetla na ekranie wynik i statystyki gracza (liczba dobrych odpowiedzi, liczba złych odpowiedzi, procent dobrze udzielonych odpowiedzi). "
   ]
  },
  {
   "cell_type": "markdown",
   "metadata": {},
   "source": [
    "### Zadanie 2.50\n",
    "\n",
    "Napisz grę w kółko i krzyżyk człowieka z człowiekiem. W grze obowiązują klasyczne zasady. Układ planszy 3x3. "
   ]
  },
  {
   "cell_type": "markdown",
   "metadata": {},
   "source": [
    "### Zadanie 2.51\n",
    "\n",
    "Napisz program, który przyjmie od użytkownika pewną ilość liczb (uzytkownik decyduje ile), a następnie dokona ich sortowania. Zadanie wykonać nie korzystając z metody sort (należy samodzielnie zaprojektować algorytm sortowania). "
   ]
  },
  {
   "cell_type": "markdown",
   "metadata": {},
   "source": [
    "# Grafika żółwia (turtle graphics)\n",
    "\n",
    "Grafika żółwia to interesujący moduł graficzny języka Python, który umożliwia w relatywnie prosty sposób wizualizować wyniki działań równań matematycznych i instrukcji programistycznych. \n",
    "\n",
    "Importu modułu dokonujemy tak samo jak w przypadku innych, Możemy skorzystać np. z instrukcji:\n",
    "- import turtle\n",
    "- from turtle import *\n",
    "\n",
    "Następnie musimy utworzyć obiekt Turtle(), którym dalej będziemy sterować za pomocą instrukcji języka Python.\n",
    "\n",
    "Przegląd najważniejszych instrukcji i metod:\n",
    "- Turtle() - konstruktor obiektu\n",
    "- speed() - szybkość rysowania\n",
    "- forward() / fd() - ruch do przodu\n",
    "- backward() / bk() - ruch do tyłu\n",
    "- right() / rt () - obrót w prawo\n",
    "- left() / lt() - obrót w lewo\n",
    "- goto() /setpos() / setposition() - przejście do pozycji\n",
    "- pendown() | pd() | down() - przyłóż pisak\n",
    "- penup() | pu() | up() - podnieś pisak\n",
    "- pensize() | width() - rozmiar pisaka\n",
    "- pencolor() - kolor pisaka\n",
    "- showturtle() | st() - pokaż żółwia\n",
    "- hideturtle() | ht() - ukryj żółwia\n",
    "- isvisible() - sprawdź czy żółw jest widoczny\n",
    "- shape() - zmień kształt żółwia\n",
    "- resizemode() - zmień rozmiar\n",
    "- shapesize() | turtlesize() - zmień rozmiar\n",
    "\n",
    "W notatnikach Jupyter oryginalna wersja modułu turtle bywa kłopotliwa w użuciu. Dlatego dalej będziemy korzystać z innych implementacji:\n",
    "- mobilechelonian: https://github.com/takluyver/mobilechelonian\n",
    "- iPyTurtle: https://github.com/gkvoelkl/ipython-turtle-widget\n",
    "\n",
    "Import klasy Turtle z wykorzystaniem wymienionych modułów mobilechelonian wykonujemy korzystając z instrukcji:\n",
    "- from mobilechelonian import Turtle (w przypadku modułu mobilechelonian),\n",
    "- from ipyturtle import Turtle (w przypadku modułu ipyturtle).\n",
    "\n",
    "W większości obiekty z modułów mobilechelonian oraz ipyturtle są kompatybilne z obiektami z modułu turtle. Spis dostępnych metod i fukcji możemy uzyskać korzystając z poleceń help(Turtle) (zarówno w przypadku modułu mobilechelonian jak i ipyturtle)."
   ]
  },
  {
   "cell_type": "markdown",
   "metadata": {},
   "source": [
    "### Zadanie 2.52\n",
    "\n",
    "Utwórz program, który narysuje kwadrat, którego każdy bok będzie posiadać inny kolor"
   ]
  },
  {
   "cell_type": "markdown",
   "metadata": {},
   "source": [
    "### Zadanie 2.53\n",
    "\n",
    "Utwórz program, w którym zainicjowane zostaną trzy obiekty typu Turtle i wykonają rysunki trzech figur (kwadrat, pięciokąt, sześciokąt) w różnych miejscach okna w różnych kolorach."
   ]
  },
  {
   "cell_type": "markdown",
   "metadata": {},
   "source": [
    "### Zadanie 2.54\n",
    "\n",
    "Utwórz program, w którym korzystając z metody „setpos” narysujesz funkcję sinus i cosinus."
   ]
  },
  {
   "cell_type": "markdown",
   "metadata": {},
   "source": [
    "### Zadanie 2.55\n",
    "\n",
    "Utwórz program, w którym korzystając z metody „setpos” narysujesz okrąg."
   ]
  },
  {
   "cell_type": "markdown",
   "metadata": {},
   "source": [
    "### Zadanie 2.56\n",
    "\n",
    "Błądzenie chaotyczne:\n",
    "Utwórz program, w którym obiekt typu Turtle() będzie wykonywać krok naprzód, a następnie obracać się o losowy kąt i w pętli wykonywać błądzenie chaotyczne."
   ]
  }
 ],
 "metadata": {
  "kernelspec": {
   "display_name": "Python 3 (ipykernel)",
   "language": "python",
   "name": "python3"
  },
  "language_info": {
   "codemirror_mode": {
    "name": "ipython",
    "version": 3
   },
   "file_extension": ".py",
   "mimetype": "text/x-python",
   "name": "python",
   "nbconvert_exporter": "python",
   "pygments_lexer": "ipython3",
   "version": "3.8.5"
  }
 },
 "nbformat": 4,
 "nbformat_minor": 4
}
