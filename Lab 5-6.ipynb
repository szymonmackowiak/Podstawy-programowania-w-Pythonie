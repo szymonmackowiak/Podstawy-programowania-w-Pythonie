{
 "cells": [
  {
   "attachments": {},
   "cell_type": "markdown",
   "metadata": {},
   "source": [
    "# Wyjątki\n",
    "\n",
    "Obsługa wyjątków pozwala zabezpieczyć program przed niespodziewanymi/niepożądanymi awariami na wypadek m.in.\n",
    "- wprowadzenia danych złego typu\n",
    "- wykroczenia poza zakres sekwencji\n",
    "- sytuacji dzielenia przez zero\n",
    "- … i wielu innych…\n",
    "\n",
    "Przykład:\n",
    "lista = [2, 5, 7]\n",
    "\n",
    "lista[3] - wyrzuci wyjątek\n",
    "\n",
    "Sposób 1:"
   ]
  },
  {
   "cell_type": "code",
   "execution_count": 8,
   "metadata": {},
   "outputs": [],
   "source": [
    "# try:\n",
    "#     lista[3]\n",
    "# except:\n",
    "#     print(’’Poza zakresem listy’’)"
   ]
  },
  {
   "attachments": {},
   "cell_type": "markdown",
   "metadata": {},
   "source": [
    "Tym sposobem obsłużymy wszystkie wyjątki, ale nie wiemy jakiego typu wyjątek się pojawił.\n",
    "\n",
    "Sposób 2:"
   ]
  },
  {
   "cell_type": "code",
   "execution_count": null,
   "metadata": {},
   "outputs": [],
   "source": [
    "# try:\n",
    "#    lista[3]\n",
    "# except IndexError:\n",
    "#    print(\"Poza zakresem listy\")"
   ]
  },
  {
   "attachments": {},
   "cell_type": "markdown",
   "metadata": {},
   "source": [
    "Korzystając z tej konstrukcji, ustawiliśmy program na wyłapanie konkretnego typu wyjątku.\n",
    "\n",
    "Sposób 3:"
   ]
  },
  {
   "cell_type": "code",
   "execution_count": 11,
   "metadata": {},
   "outputs": [],
   "source": [
    "# try:\n",
    "#     lista[3]\n",
    "# except IndexError:\n",
    "#     print(\"Poza zakresem listy\")\n",
    "# else:\n",
    "#     print(\"ta linia wykona się jeżeli blok try się powiedzie\")\n",
    "# finally:\n",
    "#     print(\"ta linia wykona się zawsze\")"
   ]
  },
  {
   "cell_type": "markdown",
   "metadata": {},
   "source": [
    "Listę dostępnych wyjątków w języku Python można sprawdzić na stronie: https://docs.python.org/3/library/exceptions.html"
   ]
  },
  {
   "attachments": {},
   "cell_type": "markdown",
   "metadata": {},
   "source": [
    "### Zadanie 3.1\n",
    "\n",
    "Stwórz kalkulator, który będzie odporny na niewłaściwe dane wprowadzane przez użytkownika. Program powinien pobierać pierwszą liczbę, drugą liczbę, znak operacji (+ - * /), wyświetlać wynik. Jeżeli użytkownik poda niepoprawną wartość, program pyta go ponownie o wpisanie właściwej informacji."
   ]
  },
  {
   "cell_type": "markdown",
   "metadata": {},
   "source": [
    "# Funkcje\n",
    "\n",
    "Funkcje umożliwiają wielokrotne wykorzystywanie raz napisanego już kodu i pomagają w porządkowaniu programu. Działanie funkcji można przyrównać do funkcji w matematyce, w której po dostarczeniu danych (argumenty) otrzymujemy pewien wynik (wartości). \n",
    "\n",
    "Przykładami funkcji z których korzystaliśmy do tej pory były m. in. print() oraz len(). Na ich przykładzie możemy zauważyć, że funkcja:\n",
    "- posiada nazwę,\n",
    "- może przyjmować argumenty,\n",
    "- może zwracać dane (wyniki operacji).\n",
    "\n",
    "Składnia funkcji w języku Python jest następująca:"
   ]
  },
  {
   "cell_type": "code",
   "execution_count": null,
   "metadata": {},
   "outputs": [],
   "source": [
    "# def nazwa_funkcji(argumenty):\n",
    "#     <instrukcje do wykonania>\n",
    "#     return dane"
   ]
  },
  {
   "cell_type": "markdown",
   "metadata": {},
   "source": [
    "Funkcja:\n",
    "- funkcja może przyjmować argumenty wybranego typu, jeśli podamy ich nazwy w nawiasie ( … ), ale nie jest to wymagane,\n",
    "- może wykonywać pewne operacje, łącznie z wyświetlaniem komunikatów w konsoli, zapisywaniem plików, tworzeniem wykresów czy wyświetlaniem obrazów,\n",
    "- może zwracać określoną wartość (lub wiele wartości) wybranego typu, przy użyciu instrukcji „return”, ale nie jest to wymagane.\n",
    "\n",
    "Przykład funkcji przyjmującej argumenty „a” i „b” i zwracającej wartość „c”:"
   ]
  },
  {
   "cell_type": "code",
   "execution_count": 1,
   "metadata": {},
   "outputs": [],
   "source": [
    "# def nazwa_funkcji(a, b):\n",
    "#     c = a + b\n",
    "#     return c"
   ]
  },
  {
   "cell_type": "markdown",
   "metadata": {},
   "source": [
    "Argumenty funkcji mogą posiadać początkowo ustalone wartości. Wówczas jeżeli użytkownik nie wprowadzi wartości argumentów do funkcji, funkcja skorzysta z wartości domyślnych."
   ]
  },
  {
   "cell_type": "code",
   "execution_count": 3,
   "metadata": {},
   "outputs": [],
   "source": [
    "# def nazwa_funkcji(a = wartosc_1, b = wartosc_2):\n",
    "#     c = a + b\n",
    "#     return c"
   ]
  },
  {
   "cell_type": "markdown",
   "metadata": {},
   "source": [
    "Funkcja może zwracać więcej niż jedną wartość w miejscu return"
   ]
  },
  {
   "cell_type": "code",
   "execution_count": 4,
   "metadata": {},
   "outputs": [],
   "source": [
    "# def nazwa_funkcji(a = wartosc_1, b = wartosc_2):\n",
    "#     c = a + b\n",
    "#     d = a - b \n",
    "#     return c, d"
   ]
  },
  {
   "cell_type": "markdown",
   "metadata": {},
   "source": [
    "### Zadanie 3.2\n",
    "\n",
    "Napisz funkcję bez argumetu, która wypisze w konsoli komunikat \"Witaj świecie!\""
   ]
  },
  {
   "cell_type": "markdown",
   "metadata": {},
   "source": [
    "### Zadanie 3.3\n",
    "\n",
    "Napisz funkcję, która przyjmie od użytkownika liczbę całkowitą i zwróci informację, czy jest parzysta, czy nie."
   ]
  },
  {
   "cell_type": "markdown",
   "metadata": {},
   "source": [
    "### Zadanie 3.4\n",
    "\n",
    "Napisz funkcję, która przyjmie od użytkownika dwie liczby i zwróci wynik ich dodawania, odejmowania, mnożenia i dzielenia."
   ]
  },
  {
   "cell_type": "markdown",
   "metadata": {},
   "source": [
    "### Zadanie 3.5\n",
    "\n",
    "Napisz funkcję, która przyjmie listę liczb i zwróci sumę z tych liczb."
   ]
  },
  {
   "attachments": {},
   "cell_type": "markdown",
   "metadata": {},
   "source": [
    "### Zadanie 3.6\n",
    "\n",
    "Związek między temperaturą w skali Celsjusza, a temperaturą w skali Fahrenheita ma postać:\n",
    "- C = (F-32)*(5/9) (przy przeliczaniu skali Fahrenheita na Celsjusza),\n",
    "- F = (C*(9/5)) + 32 (przy przeliczanniu skali Celsjusza na skalę Fahrenheita).\n",
    "Napisz dwie funkcje do przeliczania temperatur między poszczególnymi skalami."
   ]
  },
  {
   "cell_type": "markdown",
   "metadata": {},
   "source": [
    "### Zadanie 3.7\n",
    "\n",
    "Trójmian kwadratowy wyraża się wzorem $y=ax^2 + bx + c$. Utwórz funkcję, która będzie przyjmować jako argumenty współczynniki $a, b, c$ trójmianu kwadratowego, a zwracać będzie miejsca zerowe oraz współrzędne wierzchołka funkcji. Funckja powinna obsługiwać sytucaję braku rozwiązań rzeczywistych. \n",
    "\n",
    "Uzupełnienie matematyczne: Obliczenia opierają się na wyróżniku funkcji kwadratowej, $\\Delta = b^2 - 4ac$. Wówczas kolejne pierwiastki wyrażają się wzorem: $x_{1, 2} = \\frac{- b \\pm \\sqrt{\\Delta}}{2a}$, natomiast współprzędne wierzchołka: $p=\\frac{-b}{2a}$, $q=\\frac{-\\Delta}{4a}$."
   ]
  },
  {
   "attachments": {},
   "cell_type": "markdown",
   "metadata": {},
   "source": [
    "### Zadanie 3.8\n",
    "\n",
    "Napisz program z funkcją, która pobierze od użytkownika jego imię oraz liczbę naturalną n, a następnie wyświetli na ekranie podane imię n razy. Jeżeli użytkownik nie poda żadnego imienia ani liczby, niech domyślnie funkcja ustawia wartości „Adam” oraz 7."
   ]
  },
  {
   "cell_type": "markdown",
   "metadata": {},
   "source": [
    "### Zadanie 3.9\n",
    "\n",
    "Napisz funkcję, która jako argument przyjmie listę liczb, a zwróci ich średnią."
   ]
  },
  {
   "cell_type": "markdown",
   "metadata": {},
   "source": [
    "### Zadanie 3.10\n",
    "\n",
    "Napisz funkcję, która jako argument przyjmie listę liczb, a zwróci odchylenie standardowe. Wzór na odchylenie standadrowe: $\\sigma = \\sum_{i=1}^{n} \\sqrt{\\frac{(x_i - \\bar{x})^2}{n}}$."
   ]
  },
  {
   "cell_type": "markdown",
   "metadata": {},
   "source": [
    "### Zadanie 3.11\n",
    "\n",
    "Napisz funkcję, która przyjmie jako argument dwie listy liczb rzeczywistych, a zwróci odpowiadający im współczynnik korelacji Pearsona. Wzór na współczynnik korelacji Pearsona: $r_{xy} = \\frac{\\sum_{i=1}^{n}(x_i - \\bar{x})(y_i - \\bar{y})}{\\sqrt{\\sum_{1}^{n}(x_i - \\bar{x})^2}\\sqrt{\\sum_{i=1}^{n}(y_i - \\bar{y})}}$."
   ]
  },
  {
   "cell_type": "markdown",
   "metadata": {},
   "source": [
    "### Zadanie 3.12\n",
    "\n",
    "Napisz funkcję, która przyjmie jako argument dwie listy liczb rzeczywistych, a zwróci odpowiadające im współczynniki regresji liniowej. Wzory na współczynniki regresji liniowej: $a=\\frac{\\sum_{i=1}^{n} (x_i - \\bar{x})(y_i - \\bar{y})}{\\sum_{i=1}^{n}(x_i - \\bar{x})^2}$, $b=\\bar{y}-a\\bar{x}$."
   ]
  },
  {
   "attachments": {},
   "cell_type": "markdown",
   "metadata": {},
   "source": [
    "### Zadanie 3.13\n",
    "\n",
    "Utwórz program (z wykorzystaniem funkcji) do obliczania pól figur płaskich, który:\n",
    "- pozwoli użytkownikowi wybrać figurę, której pole chce obliczyć,\n",
    "- pobierze z klawiatury odpowiednie dane,\n",
    "- wyświetli właściwy wynik,\n",
    "- pozwoli użytkownikowi podjąć decyzję, czy chce uruchomić program ponownie, czy nie.\n",
    "\n",
    "Program powinien zawierać funkcje do obliczania pól następujących figur: trójkąt, prostokąt, koło, trapez, kwadrat, trójkąt równoboczny.\n"
   ]
  },
  {
   "attachments": {},
   "cell_type": "markdown",
   "metadata": {},
   "source": [
    "### Zadanie 3.14\n",
    "\n",
    "Utwórz program (z wykorzystaniem funkcji) do obliczania objętości brył przestrzennych, który:\n",
    "- pozwoli użytkownikowi wybrać bryłę, której objętość chce obliczyć,\n",
    "- pobierze z klawiatury odpowiednie dane,\n",
    "- wyświetli właściwy wynik,\n",
    "- pozwoli użytkownikowi podjąć decyzję, czy chce uruchomić program ponownie, czy nie.\n",
    "\n",
    "Program powinien zawierać funkcje do obliczania objętości minimum trzech brył - kuli, graniastosłupa, stożka.\n"
   ]
  },
  {
   "attachments": {},
   "cell_type": "markdown",
   "metadata": {},
   "source": [
    "### Zadanie 3.15\n",
    "\n",
    "Korzystając z biblioteki turtle utwórz funkcję, która będzie rysować:\n",
    "- trójkąt\n",
    "- kwadrat\n",
    "- prostokąt\n",
    "- pięciokąt\n",
    "- gwiazdę\n",
    "\n",
    "Argumentami powinna być pozycja obrazka, kolor linii oraz jej grubość i wielkość kształtu."
   ]
  },
  {
   "cell_type": "markdown",
   "metadata": {},
   "source": [
    "# Funkcje anonimowe (wyrażenia lamda)\n",
    "\n",
    "W języku Python mamy możliwość tworzenia funkcji anonimowych (nazywanych też wyrażeniami lambda), które nie są powiązane z identyfikatorem (czyli w pewnym sensie nie mają nazwy). Służą do tworzenia funkcjonalności, którym nie powinniśmy nadawać nazw i/lub są potrzebne na krótkotrwały użytek.\n",
    "\n",
    "W języku Python wyrażenia lambda mają następującą składnię:\n",
    "\n",
    "lambda <zestaw argumentów>: <wyrażenie zwrotne>\n",
    "\n",
    "Tak utworzone wyrażenie lambda wydaje się bezużyteczne, ponieważ nie widać w nim jak do utworzonego wyrażenia wstawić argumenty. W języku Python istnieje wiele sposobów wstawiania argumentów do wyrażenia lambda. My skupimy się na dwóch:\n",
    "- wywołanie wyrażenia od razu w tworzącej instrukcji: (lambda <zestaw argumentów>: <wyrażenie zwrotne>)(argumenty)\n",
    "- przypisanie wyrażenia lambda do zmiennej: wyrazenie = lambda <zestaw argumentów>: <wyrażenie zwrotne>, wyrazenie(argumenty)\n",
    "\n",
    "Przykład:"
   ]
  },
  {
   "cell_type": "code",
   "execution_count": 18,
   "metadata": {},
   "outputs": [
    {
     "name": "stdout",
     "output_type": "stream",
     "text": [
      "10\n",
      "10\n"
     ]
    }
   ],
   "source": [
    "zm1 = (lambda x, y: x+y)(7, 3)\n",
    "print(zm1)\n",
    "\n",
    "wyrazenie = lambda x, y: x+y\n",
    "zm2 = wyrazenie(7, 3)\n",
    "print(zm2)"
   ]
  },
  {
   "cell_type": "markdown",
   "metadata": {},
   "source": [
    "### Zadanie 3.16\n",
    "\n",
    "Utwórz wyrażenie lambda do potęgowania (wyrażenie przyjmuje dwie liczby - potęgowaną wartość i wykładnik)."
   ]
  },
  {
   "cell_type": "markdown",
   "metadata": {},
   "source": [
    "### Zadanie 3.17\n",
    "\n",
    "Utwórz wyrażenie lambda do składania dwóch łańcuchów znaków (wyrażenie przyjmuje dwa napisy i zwraca jeden będący sumą argumentów)."
   ]
  },
  {
   "cell_type": "markdown",
   "metadata": {},
   "source": [
    "### Zadanie 3.18\n",
    "\n",
    "Utwórz wyrażenie lambda zwiększające argument o liczbę 13."
   ]
  },
  {
   "cell_type": "markdown",
   "metadata": {},
   "source": [
    "### Zadanie 3.19\n",
    "\n",
    "Utwórz wyrażenie lambda przyjmujące dwa argumenty (liczby rzeczywiste) i wykonujące na nich kwadrat sumy."
   ]
  },
  {
   "cell_type": "markdown",
   "metadata": {},
   "source": [
    "### Zadanie 3.20\n",
    "\n",
    "Utwórz wyrażenie lambda przyjmujące dwa argumenty (liczby rzeczywiste) i wykonujące na nich kwadrat różnicy."
   ]
  },
  {
   "attachments": {},
   "cell_type": "markdown",
   "metadata": {},
   "source": [
    "# Programowanie obiektowe\n",
    "\n",
    "Do tej pory dane na których pracowaliśmy miały określony typ:\n",
    "- liczby całkowite (int)\n",
    "- liczby rzeczywiste (float)\n",
    "- łańcuchy znaków (str)\n",
    "- itd.\n",
    "\n",
    "Typ determinuje jakie wartości mogą być przechowywane w danej zmiennej oraz jakie opracje można na niej wykonać (podobnie jak w matematyce - zbiory liczbowe były określone przez ich elementy oraz operacje jakie można na chych wykonywać). \n",
    "\n",
    "W praktycze programistycznej okazuje się jednak, że często podstawowe typy danych są niewystarczające i stoimy przed koniecznością tworzenia własnych \"typów\". Tak własne utworzone typy nazywamy klasami, a programowanie wykorzystujące takie podejście - programowaniem obiektowym. Każdy reprezentant (instancja) danej klasy to obiekt. Obiekty są opisywane pewnymi liczbami/wartościami (pola/atrybuty) i można wykonywać na nich konkretne działania (metody).\n",
    "\n",
    "Warto pamiętać, że:\n",
    "- programowanie obiektowe umożliwia tworzenie nowych typów danych,\n",
    "- każdy obiekt można (jego własności) opisać za pomocą liczb i funkcji jakie można na nich wykonać, są to tzw. pola i metody,\n",
    "- obiekty o tych samych własnościach nazywamy klasą.\n",
    "\n",
    "W podejściu obiektowym program stanowi zbiór obiektów, które komunikują się między sobą w celu wykonywania zadań. Takie podejście różni się znacznie od podejścia proceduralnego.\n",
    "\n",
    "Programowanie obiektowe opiera się na następujących paradygmatach:\n",
    "- Abstrakcja\n",
    "- Hermetyzacja\n",
    "- Dziedziczenie\n",
    "- Polimorfizm\n",
    "\n",
    "Najważniejsze pojęcia:\n",
    "- Klasa\n",
    "- Konstruktor\n",
    "- Pola (atrybuty)\n",
    "- Metody\n",
    "- Obiekty\n",
    "\n",
    "Składnia klasy:"
   ]
  },
  {
   "cell_type": "code",
   "execution_count": 19,
   "metadata": {},
   "outputs": [],
   "source": [
    "# class NazwaKlasy:\n",
    "#     <pola>\n",
    "#     ...\n",
    "#     <metody>\n",
    "#     ..."
   ]
  },
  {
   "attachments": {},
   "cell_type": "markdown",
   "metadata": {},
   "source": [
    "Budowa obiektu:\n",
    "- zmienne przechowujące dane dotyczące obiektu to pola\n",
    "- funkcje związane z obiektem to metody\n",
    "\n",
    "Deklarowanie obiektu:"
   ]
  },
  {
   "cell_type": "code",
   "execution_count": 20,
   "metadata": {},
   "outputs": [],
   "source": [
    "# NazwaObiektu = NazwaKlasy(argumenty)"
   ]
  },
  {
   "attachments": {},
   "cell_type": "markdown",
   "metadata": {},
   "source": [
    "Notacja obiektowa opiera się na wykorzystaniu operatora „.”\n",
    "\n",
    "dostęp do pól:\n",
    "nazwaObiektu.nazwaPola\n",
    "\n",
    "\n",
    "nazwaObiektu.nazwaMetody()\n",
    "nazwaObiektu.nazwaMetody(argumenty)"
   ]
  },
  {
   "cell_type": "code",
   "execution_count": null,
   "metadata": {},
   "outputs": [],
   "source": [
    "# nazwaObiektu.nazwaPola"
   ]
  },
  {
   "cell_type": "markdown",
   "metadata": {},
   "source": [
    "dostęp do metod:"
   ]
  },
  {
   "cell_type": "code",
   "execution_count": null,
   "metadata": {},
   "outputs": [],
   "source": [
    "# nazwaObiektu.nazwaMetody()\n",
    "\n",
    "# lub \n",
    "\n",
    "# nazwaObiektu.nazwaMetody(argumenty)"
   ]
  },
  {
   "attachments": {},
   "cell_type": "markdown",
   "metadata": {},
   "source": [
    "Ważne słowa:\n",
    "\n",
    "- self - w obrębie metod self odnosi się do samego obiektu i posiadamy dostęp do pól i metod obiektu. Zasięg zmiennych obejmuje całą klasę.\n",
    "\n",
    "- init - ważna metoda, która umożliwia utworzenie konstruktora klasy. Jej zadaniem jest zainicjowanie nowego obiektu (m. in. najważniejszych lub wszystkich pól)\n",
    "\n",
    "- metody - definiujemy wewnątrz klasy:"
   ]
  },
  {
   "cell_type": "code",
   "execution_count": 21,
   "metadata": {},
   "outputs": [],
   "source": [
    "# class NazwaKlasy:\n",
    "# def NazwaKlasy(self, argumenty)\n",
    "#     cialo_metody"
   ]
  },
  {
   "attachments": {},
   "cell_type": "markdown",
   "metadata": {},
   "source": [
    "Metoda __str__ - można ją wywołać przez wbudowane funkcje str() lub print() i wygeneruje informacje na temat obiektu"
   ]
  },
  {
   "cell_type": "code",
   "execution_count": 22,
   "metadata": {},
   "outputs": [],
   "source": [
    "# class Vector:\n",
    "#     def __str__(self):\n",
    "#     self.a = x\n",
    "#     self.b = y\n",
    "#     print(self.a, self.b)"
   ]
  },
  {
   "attachments": {},
   "cell_type": "markdown",
   "metadata": {},
   "source": [
    "Konstruktor to metoda przypisująca początkowe wartości do pól nowo tworzonego obiektu. Konstruktor tworzymy za pomocą słowa kluczowego __init__. (zaczyna się i kończy podwójnym podkreśleniem).\n",
    "\n",
    "Przykład:"
   ]
  },
  {
   "cell_type": "code",
   "execution_count": 24,
   "metadata": {},
   "outputs": [],
   "source": [
    "# klasa Vector\n",
    "\n",
    "# class Vector:\n",
    "#     def __init__(self, x, y):\n",
    "#         self.a = x\n",
    "#         self.b = y\n",
    "#         print(„utworzono wektor”)\n",
    "\n",
    "#utworzenie obiektu    \n",
    "# w = Vector(2, 5) "
   ]
  },
  {
   "attachments": {},
   "cell_type": "markdown",
   "metadata": {},
   "source": [
    "### Zadanie 3.21\n",
    "\n",
    "Utwórz klasę Ulamek - klasa powinna zawierać takie pola jak licznik i mianownik, metody zwracające wartość licznika i mianownika oraz metody umożliwiające dodawanie, odejmowanie, dzielenie i mnożenie obiektów klasy Ulamek."
   ]
  },
  {
   "attachments": {},
   "cell_type": "markdown",
   "metadata": {},
   "source": [
    "### Zadanie 3.22\n",
    "\n",
    "Napisz program do obliczania BMI zawodnika. Program powinien zawierać klasę Zawodnik o polach imię, wzrost, waga oraz metodę do obliczania BMI. Utwórz obiekt reprezentujący zawodnika i wywołaj metodę, która obliczy i wyświetli wartość BMI."
   ]
  },
  {
   "attachments": {},
   "cell_type": "markdown",
   "metadata": {},
   "source": [
    "### Zadanie 3.23\n",
    "\n",
    "Utwórz klasę Vector2D do reprezentowania i wykonywania działań na wektorach. Klasa powinna zawierać takie metody jak: \n",
    "- dodawanie (zwiększanie) wekotrów, \n",
    "- odejmowanie (zmniejszanie) wektorów, \n",
    "- skalowanie, \n",
    "- zwracanie modułu, \n",
    "- iloczyn skalarny, \n",
    "- wyświetlanie współrzędnych."
   ]
  },
  {
   "attachments": {},
   "cell_type": "markdown",
   "metadata": {},
   "source": [
    "### Zadanie 3.24\n",
    "\n",
    "Utwórz program, który umożliwi dodawanie pracowników w postaci obiektów do listy w zakresie danych: imię, nazwisko, email, telefon. Następnie program wyświetli elementy listy obiektów wprowadzonych do listy. "
   ]
  },
  {
   "attachments": {},
   "cell_type": "markdown",
   "metadata": {},
   "source": [
    "### Zadanie 3.25\n",
    "\n",
    "Utwórz program do przechowywania listy ocen studentów z egzaminu. Program powinien zawierać klasę Student o polach: imię, nazwisko, oceny; i metodach: dodajOcene, wypiszOceny, obliczSrednia. Program powinien posiadać menu. D-dodaj studenta, U-usuń studenta, O-dodaj ocenę studentowi, W-wypisz oceny studenta, S-średnia studenta."
   ]
  },
  {
   "attachments": {},
   "cell_type": "markdown",
   "metadata": {},
   "source": [
    "### Enkapsulacja\n",
    "\n",
    "Dzięki enkapsulacji:\n",
    "- Szczegóły implementacji są ukryte\n",
    "- Nie można zmienić stanu wewnętrznego obiektu spoza niej\n",
    "- Tylko wewnętrzne metody obiektu mogą zmieniać stan obiektu\n",
    "\n",
    "Pola prywatne - ich nazwa posiada podwójne podkreślenie"
   ]
  },
  {
   "cell_type": "code",
   "execution_count": 27,
   "metadata": {},
   "outputs": [],
   "source": [
    "# class Informacje:\n",
    "#     def __init__(self):\n",
    "#         self.__nazwisko = „Kowalski”\n",
    "#         obiekt = Informacje()\n",
    "\n",
    "# print(obj.__nazwisko) # wywoła błąd"
   ]
  },
  {
   "attachments": {},
   "cell_type": "markdown",
   "metadata": {},
   "source": [
    "Metody również mogą mieć charakter prywatny - nazwy takich metod posiadają dwa podkreślenia z przodu."
   ]
  },
  {
   "cell_type": "code",
   "execution_count": 28,
   "metadata": {},
   "outputs": [],
   "source": [
    "# class Informacje:\n",
    "#     def __drukuj(self):\n",
    "#         print(„Cześć!”)\n",
    "\n",
    "# obiekt = Informacje()\n",
    "# obj.__drukuj() # wywoła błąd"
   ]
  },
  {
   "cell_type": "code",
   "execution_count": null,
   "metadata": {},
   "outputs": [],
   "source": []
  }
 ],
 "metadata": {
  "kernelspec": {
   "display_name": "Python 3",
   "language": "python",
   "name": "python3"
  },
  "language_info": {
   "codemirror_mode": {
    "name": "ipython",
    "version": 3
   },
   "file_extension": ".py",
   "mimetype": "text/x-python",
   "name": "python",
   "nbconvert_exporter": "python",
   "pygments_lexer": "ipython3",
   "version": "3.8.5"
  }
 },
 "nbformat": 4,
 "nbformat_minor": 4
}
