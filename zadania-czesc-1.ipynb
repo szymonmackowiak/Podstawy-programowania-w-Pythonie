{
 "cells": [
  {
   "cell_type": "markdown",
   "metadata": {},
   "source": [
    "# Typy danych\n",
    "\n",
    "Poniższe zadania można realizować po pomyślnej instalacji i uruchomieniu środowiska Pythona (Interpreter + Edytor). \n",
    "\n",
    "Zaczniemy od wykorzystania Interpretera języka Python w charakterze kalkulatora. Do najważniejszych operacji arytmetycznych możemy zaliczyć: \n",
    "\n",
    "- dodawanie +\n",
    "- odejmowanie -\n",
    "- mnożenie *\n",
    "- potęgowanie **\n",
    "- dzielenie /\n",
    "- dzielenie całkowite //\n",
    "- reszta z dzielenia (dzielenie modulo) %\n",
    "\n",
    "    \n",
    "Każdy obiekt stanowiący składnik bądź wynik operacji matematycznej posiada konkretny typ (liczba całkowita - int, zmiennoprzecinkowa - float, itd.). Typ obiektu możemy ustalić korzystając z instrukcji type()."
   ]
  },
  {
   "cell_type": "markdown",
   "metadata": {},
   "source": [
    "### Zadanie 1.1\n",
    "\n",
    "W linii Interpretera wykonaj poniższe działania. Jakie działania zostały wykonane? Za każdym razem sprawdź typ danych poszczególnych składników i wyników.\n",
    "\n",
    "\n",
    "- 1 + 2\n",
    "- 1 + 4.5\n",
    "- -1 + 2.5\n",
    "- 100 – 45\n",
    "- -1.1 + 5\n",
    "- 4 * 3\n",
    "- 2.5 * 1.5\n",
    "- 3 / 2\n",
    "- 4 / 2\n",
    "- 3 // 2\n",
    "- -3 // 2\n",
    "- 11 % 2\n",
    "- 2 ** 2\n",
    "- 2 ** 10\n",
    "- 1 ** 10\n",
    "- 8 ** (1/3)\n",
    "- 6 + 6 * 6\n",
    "- (6 + 6) * 6\n"
   ]
  },
  {
   "cell_type": "markdown",
   "metadata": {},
   "source": [
    "# Wyświetlanie tekstu w konsoli\n",
    "\n",
    "- Do wyświetlania komunikatów w konsoli służy polecenie print()\n",
    "przykład: print(„jakiś tekst”).\n",
    "\n",
    "- Znak nowej linii można podmienić np. na znak spacji za pomocą polecenia print(„jakiś tekst”, end=””).\n",
    "\n",
    "- Aby wyświetlić kilka fragmentów tekstu, można użyć konstrukcji print(„słowo_1”, „słowo2”, „słowo3”)"
   ]
  },
  {
   "cell_type": "markdown",
   "metadata": {},
   "source": [
    "### Zadanie 1.2\n",
    "\n",
    "Wyświetl na ekranie napis „Witaj Świecie!”"
   ]
  },
  {
   "cell_type": "markdown",
   "metadata": {},
   "source": [
    "# Komentarze\n",
    "\n",
    "Komentarz to fragment kodu, który nie będzie wykonywany przez interpreter lub kompilator. Komentarze dzielimy na jednowierszowe i wielowierszowe (blokowe). \n",
    "\n",
    "Komentarze jednowierszowe tworzymy w Pythonie za pomocą znaku #. Komentarz jednowierszowy obowiązuje w obrębie linii, w której postawiono znak komentarza. \n",
    "\n",
    "Przykład: #tak wygląda komentarz jednowierszowy\n",
    "\n",
    "Komentarz blokowy w języku Python zaczyna się i kończy znakami ”””…””” lub '''...'''\n",
    "\n",
    "Przykład: \n",
    "\n",
    "”””Tak <br>\n",
    "wygląda <br>\n",
    "komentarz <br>\n",
    "wielowierszowy”””"
   ]
  },
  {
   "cell_type": "markdown",
   "metadata": {},
   "source": [
    "### Zadanie 1.3\n",
    "\n",
    "Utwórz komentarz:\n",
    "\n",
    "- jednowierszowy\n",
    "- wielowierszowy\n"
   ]
  },
  {
   "cell_type": "markdown",
   "metadata": {},
   "source": [
    "# Operatory\n",
    "\n",
    "W zadaniu 1.1 otarliśmy się o temat operatorów. W języku Python operatory dzielimy na:\n",
    "\n",
    "- arytmetyczne (np. +, -, *, /, **, =, %)\n",
    "- logiczne (np. ==, >, <, >=, <=, and, or, !=)\n",
    "                                   \n",
    "Warto zwrócić uwagę na operator przypisania „=” oraz operator porównania „==”."
   ]
  },
  {
   "cell_type": "markdown",
   "metadata": {},
   "source": [
    "### Zadanie 1.4\n",
    "\n",
    "Korzystając z operatora przypisania \"=\" utwórz zmienną \"a\" i sprawdź działanie poniższych instrukcji. \n",
    "\n",
    "- a=5\n",
    "- a+1\n",
    "- a=10\n",
    "- a+1\n",
    "\n",
    "Jak rozumieć instrukcję a+1?"
   ]
  },
  {
   "cell_type": "markdown",
   "metadata": {},
   "source": [
    "### Zadanie 1.5\n",
    "\n",
    "Za pomocą polecenia type() sprawdź typ następujących obiektów:\n",
    "\n",
    "- 5\n",
    "- 6.5\n",
    "- 5.0\n",
    "- „5”\n",
    "\n",
    "Dlaczego w pierwszym, trzecim i ostatnim przypadku dostajemy różne typy?"
   ]
  },
  {
   "cell_type": "markdown",
   "metadata": {},
   "source": [
    "# Rzutowanie \n",
    "\n",
    "Rzutowanie to inaczej konwersja typu danych. <br>\n",
    "Przebieg rzutowania: obiekt przechowujący pewne dane wprowadzamy jako argument do instrukcji rzutującej (np. int(), float(), str(), itd.)"
   ]
  },
  {
   "cell_type": "markdown",
   "metadata": {},
   "source": [
    "### Zadanie 1.6\n",
    "Sprawdź i wyjaśnij działanie następujących instrukcji wprowadzając ich wyniki do zmiennych i sprawdzajać ich typ:\n",
    "<ul>\n",
    "<li>int(6.5)</li>\n",
    "<li>int(3.0)</li>\n",
    "<li>float(3)</li>\n",
    "<li>float(\"3\")</li>\n",
    "</ul>"
   ]
  },
  {
   "cell_type": "markdown",
   "metadata": {},
   "source": [
    "# Tworzenie zmiennych\n",
    "\n",
    "Za Wikipedią (https://pl.wikipedia.org/wiki/Zmienna_(informatyka)):\n",
    "\n",
    "„Zmienna - konstrukcja programistyczna posiadająca trzy podstawowe atrybuty: symboliczną nazwę, miejsce przechowywania i wartość; pozwalająca w kodzie źródłowym odwoływać się przy pomocy nazwy do wartości lub miejsca przechowywania. \n",
    "Nazwa służy do identyfikowania zmiennej w związku z tym często nazywana jest identyfikatorem. Miejsce przechowywania przeważnie znajduje się w pamięci komputera i określane jest przez adres i długość danych. Wartość to zawartość miejsca przechowywania. Zmienna zazwyczaj posiada również czwarty atrybut: typ, określający rodzaj danych przechowywanych w zmiennej i co za tym idzie sposób reprezentacji wartości w miejscu przechowywania.”\n",
    "\n",
    "W Pythonie zmienne tworzymy korzystając z operatora przypisania =.\n",
    "\n",
    "- Uproszczona definicja - zmienna to nazwa (słowo), która wskazuje na jakąś wartość (dane).\n",
    "- Korzystanie ze zmiennych pozwala na przechowywanie danych w pamięci komputera i tworzenie rozbudowanych programów. \n",
    "- Python posiada kilka wbudowanych typów danych dedykowanych m. in. do przechowywania liczb całkowitych, rzeczywistych, danych tekstowych itp.\n",
    "- W języku Python nie trzeba podawać jakiego typu dane będą wskazywane przez zmienną. Typ jest dobrany automatycznie. Mówimy, że Python jest językiem typowanym dynamicznie.\n",
    "    \n",
    "Zasady tworzenia zmiennych:\n",
    "\n",
    "- Nazwa zmiennej może być dowolnie długa (w granicach rozsądku).\n",
    "- Nazwy zmiennych nie mogą zawierać spacji (muszą stanowić jedno słowo).\n",
    "- Może zawierać litery i liczby, ale nie może zaczynać się od liczby.\n",
    "- Można korzystać z małych i wielkich liter jednak zaleca się, aby nazwy zmiennych składały się wyłącznie z małych liter.\n",
    "- Dla nazw złożonych można korzystać ze znaku podkreślenia (system snake_case), systemu camelCase (od małej litery) lub PascalCase (od dużej litery).\n",
    "- Python rozróżnia małe i wielkie litery, dlatego takie same nazwy zapisane małymi i wielkimi literami będą rozumiane jako różne zmienne.\n",
    "\n",
    "Przykład:\n",
    " \n",
    "- imie = „Szymon”\n",
    "- Imie = „Szymon”\n",
    "- IMIE = „Szymon”\n",
    "    \n",
    "Powyższe nazwy Interpreter będzie rozumieć jako różne zmienne.\n",
    "    \n",
    "- Zmienna nie może być słowem kluczowym (nazwą zastrzeżoną) języka programowania.\n",
    "- Przykłady nazw zastrzeżonych: if, elif, else, and, del, for, is, raise, assert,  from, lambda, return, breal, global, not, try, class, except, or, while, continue, del, exec, import, pass, yeld, finally, ln, print.\n",
    "    \n",
    "Deklaracja i inicjalizacja\n",
    "\n",
    "- W języku Python tworząc zmienną nie musimy podawać typu danych na jakie będzie wskazywać.\n",
    "- Deklaracja zmiennej polega na podaniu jej nazwy oraz przypisaniu do niej wartości (tzw. inicjalizacja). W języku Python zazwyczaj deklaracja i inicjalizacja zachodzą równocześnie.\n",
    "\n",
    "Typy liczbowe - pośród wbudowanych typów Pythona, na obecnym etapie (nauki Pythona) szczególnie ważne będą dla dwa typy liczbowe:\n",
    "\n",
    "- liczby całkowite (int)\n",
    "- liczby rzeczywiste/zmiennoprzecinkowe (float).\n",
    "\n",
    "Typy tekstowe typ tekstowy String jest inicjowany za pomocą pojedynczego lub podwójnego cudzysłowu. Jeżeli w tekście chcemy zamieścić apostrofy należy korzystać z symbolu cudzysłowu. \n"
   ]
  },
  {
   "cell_type": "markdown",
   "metadata": {},
   "source": [
    "### Zadanie 1.7\n",
    "\n",
    "Utwórz zmienne do przechowania zestawu danych, a następnie sprawdź ich typ: 200, Data Science, !, 3.14."
   ]
  },
  {
   "cell_type": "code",
   "execution_count": 1,
   "metadata": {},
   "outputs": [
    {
     "name": "stdout",
     "output_type": "stream",
     "text": [
      "<class 'int'>\n",
      "<class 'str'>\n",
      "<class 'str'>\n",
      "<class 'float'>\n"
     ]
    }
   ],
   "source": [
    "zm1 = 200\n",
    "zm2 = \"Data Science\"\n",
    "zm3 = \"!\"\n",
    "zm4 = 3.14\n",
    "\n",
    "print(type(zm1))\n",
    "print(type(zm2))\n",
    "print(type(zm3))\n",
    "print(type(zm4))"
   ]
  },
  {
   "cell_type": "markdown",
   "metadata": {},
   "source": [
    "# Wyświetlanie zawartości zmiennych na ekranie\n",
    "\n",
    "Poznana wcześniej instrukcja print() może wyświetlać dane zapisane w zmiennych.  \n",
    "Dane można łączyć w obrębie instrukcji print za pomocą przecinków. Instrukcja print() może przyjąć dowolną liczbę parametrów.\n",
    "<br>\n",
    "<br>\n",
    "Przykład \n",
    "print(zmienna1, zmienna2)"
   ]
  },
  {
   "cell_type": "markdown",
   "metadata": {},
   "source": [
    "# f-string\n",
    "\n",
    "Python umożliwia tworzenie formatowanych łańcuchów tektowych (Stringów) których zawartość jest zależy od zmiennych, które wchodzą w jego skład. Przed tego typu łańcuchem tekstowym wstawiamy literę f, natomiast zmienne do łańcucha wstawiamy w klamrach.\n",
    "\n",
    "Przykład: <br>\n",
    "zm1 = \"próbny tekst\" <br>\n",
    "print(f\"To jest {zm1}\")"
   ]
  },
  {
   "cell_type": "code",
   "execution_count": 6,
   "metadata": {},
   "outputs": [
    {
     "name": "stdout",
     "output_type": "stream",
     "text": [
      "wartości wynoszą: 10 21 43\n",
      "wartości wynoszą: 10, 21, 43 - oto Twoje wartości\n"
     ]
    }
   ],
   "source": [
    "zm1 = 10\n",
    "zm2 = 21\n",
    "zm3 = 43\n",
    "\n",
    "print(\"wartości wynoszą:\", zm1, zm2, zm3)\n",
    "print(f\"wartości wynoszą: {zm1}, {zm2}, {zm3} - oto Twoje wartości\")"
   ]
  },
  {
   "cell_type": "markdown",
   "metadata": {},
   "source": [
    "### Zadanie 1.8\n",
    "\n",
    "Napisz program, w którym do zmiennej imie przypiszesz swoje imię, a do zmiennej dzien przypiszesz aktualny dzień miesiąca, natomiast wynikiem działania programu będzie wyświetlenie komunikatu: \n",
    "„Witaj {Twoje imię} dzisiaj jest {aktualny dzień} dzień tego miesiąca!”.\n",
    "Wykonaj to zadanie na dwa sposoby - wprowadzając do instrukcji print kilka argumentów rozdzielonych przecinkami oraz za pomocą konstrukcji f-string."
   ]
  },
  {
   "cell_type": "code",
   "execution_count": 8,
   "metadata": {},
   "outputs": [
    {
     "name": "stdout",
     "output_type": "stream",
     "text": [
      "Witaj Szymon dzisiaj jest 1 dzień tego miesiąca!\n",
      "Witaj Szymon dzisiaj jest 1 dzień tego miesiąca!\n"
     ]
    }
   ],
   "source": [
    "imie = \"Szymon\"\n",
    "dzien = 1\n",
    "\n",
    "print(\"Witaj\", imie, \"dzisiaj jest\", dzien, \"dzień tego miesiąca!\")\n",
    "print(f\"Witaj {imie} dzisiaj jest {dzien} dzień tego miesiąca!\")"
   ]
  },
  {
   "cell_type": "markdown",
   "metadata": {},
   "source": [
    "# Konkatenacja łańcuchów \n",
    "\n",
    "Konkatenacja oznacza łączenie łańcuchów w nowy łańcuch. W języku Python służy do tego operator + (pod warunkiem, że argumentami tego działania są łańcuchy znaków - typ String). "
   ]
  },
  {
   "cell_type": "markdown",
   "metadata": {},
   "source": [
    "### Zadanie 1.9\n",
    "\n",
    "Korzystając z konkatenacji wykonaj program, który korzystając z poniższych zmiennych wyświetli komunikat: „W tym kursie poznajemy podstawy programowania.”\n",
    "\n",
    "- zm1 = „podstawy”\n",
    "- zm2 = „kursie”\n",
    "- zm3 = „programowania”\n",
    "\n",
    "Wykonaj alternatywnie to zadanie korzystając z tzw. f-stringów.\n"
   ]
  },
  {
   "cell_type": "code",
   "execution_count": 11,
   "metadata": {},
   "outputs": [
    {
     "name": "stdout",
     "output_type": "stream",
     "text": [
      "W tym kursie poznajemy podstawy programowania.\n",
      "W tym kursie poznajemy podstawy programowania.\n"
     ]
    }
   ],
   "source": [
    "zm1 = \"podstawy\"\n",
    "zm2 = \"kursie\"\n",
    "zm3 = \"programowania\"\n",
    "\n",
    "print(\"W tym \" + zm2 + \" poznajemy \" + zm1 + \" \" + zm3 + \".\")\n",
    "print(f\"W tym {zm2} poznajemy {zm1} {zm3}.\")"
   ]
  },
  {
   "cell_type": "markdown",
   "metadata": {},
   "source": [
    "# Działania na ułamkach\n",
    "\n",
    "Możliwości wykorzystania Interpretera Python nie ograniczają się do podstawowych operacji arytmetycznych. Z powodzeniem możemy wykonywać bardziej zaawansowane działania, ale musimy dołączyć do naszego programu odpowiednie biblioteki (możemy je traktować jako kolekcje nowych instrukcji, z których będziemy mogli korzystać w naszych programach). Importować biblioteki można na różne sposoby (poruszymy je dokładnie omawiając ten temat w kolejnych lekcjach). W tej chwili skorzystamy z polecenia:<br>\n",
    "from fractions import Fraction <br>\n",
    "Aby utworzyć nowy ułamek należy skorzystać z instrukcji:\n",
    "Fraction(licznik, mianownik). "
   ]
  },
  {
   "cell_type": "markdown",
   "metadata": {},
   "source": [
    "### Zadanie 1.10\n",
    "\n",
    "Korzystając z biblioteki fractions utworzyć zmienne przechowujące ułamki, przypisać do nich dane i wykonać na nich działania wymienione poniżej:\n",
    "\n",
    "- 1/2 + 1/3\n",
    "- 2/5 * 3/16\n",
    "- 5/4 - 1/3\n",
    "- 11/12 / 2/3\n",
    "\n",
    "Sprawdzić typ zmiennych przechowujących ułamki."
   ]
  },
  {
   "cell_type": "code",
   "execution_count": 15,
   "metadata": {},
   "outputs": [
    {
     "name": "stdout",
     "output_type": "stream",
     "text": [
      "3/4\n"
     ]
    },
    {
     "data": {
      "text/plain": [
       "2"
      ]
     },
     "execution_count": 15,
     "metadata": {},
     "output_type": "execute_result"
    }
   ],
   "source": [
    "from fractions import Fraction\n",
    "\n",
    "a = Fraction(1,2)\n",
    "b = Fraction(1,4)\n",
    "\n",
    "print(a+b)\n",
    "\n",
    "a.denominator"
   ]
  },
  {
   "cell_type": "markdown",
   "metadata": {},
   "source": [
    "# Działania na liczbach zespolonych\n",
    "\n",
    "Aby przypisać do zmiennej liczbę zespoloną, wystarczy skorzystać z konstrukcji\n",
    "zmienna = liczba_1 + liczba_2 j\n",
    "<br><br>\n",
    "Po utworzeniu liczby zespolonej, uzyskujemy możliwość wykonania na niej dodatkowych działań takich jak:\n",
    "\n",
    "- wyznaczanie części rzeczywistej - zmienna.real \n",
    "- wyznaczanie części urojonej - zmienna.imag \n",
    "- wyznaczanie sprzężenia - zmienna.conjugate() \n",
    "- wyznaczanie modułu - abs(zmienna) \n"
   ]
  },
  {
   "cell_type": "markdown",
   "metadata": {},
   "source": [
    "### Zadanie 1.11\n",
    "\n",
    "Utwórz dwie liczby zespolone. Sprawdź ich typ. Dla każdej z nich oblicz część rzeczywistą, urojoną, sprzężenie oraz moduł. Sprawdź czy moduł policzony za pomocą instrukcji abs(zmienna) daje ten sam wynik co moduł wyznaczony z definicji (wymagana znajomość pojęcia modułu liczb zespolonych)."
   ]
  },
  {
   "cell_type": "markdown",
   "metadata": {},
   "source": [
    "# Wprowadzanie danych\n",
    "\n",
    "- Dane z klawiatury wprowadzamy za pomocą polecenia input().\n",
    "- Wynik polecenia input() można przypisać wprost do zmiennej, np.\n",
    "zmienna = input().\n",
    "- Argumentem polecenia input może być komunikat wyświetlony na ekranie\n",
    "input(\"Jakiś komunikat\").\n",
    "- Dane pobrane z klawiatury mają domyślnie typ String - jeżeli chcemy wykonywać na nich działania, konieczna może być konwersja typu!\n"
   ]
  },
  {
   "cell_type": "code",
   "execution_count": 20,
   "metadata": {},
   "outputs": [
    {
     "name": "stdout",
     "output_type": "stream",
     "text": [
      "Jak masz na imię? 1\n",
      "Witaj 1\n"
     ]
    },
    {
     "data": {
      "text/plain": [
       "str"
      ]
     },
     "execution_count": 20,
     "metadata": {},
     "output_type": "execute_result"
    }
   ],
   "source": [
    "# print(\"Jak masz na imię?\")\n",
    "\n",
    "odp = input(\"Jak masz na imię? \") \n",
    "\n",
    "print(f\"Witaj {odp}\")\n",
    "\n",
    "type(odp)"
   ]
  },
  {
   "cell_type": "markdown",
   "metadata": {},
   "source": [
    "### Zadanie 1.12\n",
    "Wykonaj program pobierze od użytkownika dwie liczy, a następnie wyświetli wynik ich dodawania, odejmowania, mnożenia i dzielenia."
   ]
  },
  {
   "cell_type": "code",
   "execution_count": 21,
   "metadata": {},
   "outputs": [
    {
     "name": "stdout",
     "output_type": "stream",
     "text": [
      "Podaj pierwszą wartość: 10\n",
      "Podaj drugą wartość: 5\n",
      "10.0 + 5.0 = 15.0\n",
      "10.0 - 5.0 = 5.0\n",
      "10.0 * 5.0 = 50.0\n",
      "10.0 / 5.0 = 2.0\n"
     ]
    }
   ],
   "source": [
    "zm1 = float(input(\"Podaj pierwszą wartość: \"))\n",
    "zm2 = float(input(\"Podaj drugą wartość: \"))\n",
    "\n",
    "print(f\"{zm1} + {zm2} = {zm1+zm2}\")\n",
    "print(f\"{zm1} - {zm2} = {zm1-zm2}\")\n",
    "print(f\"{zm1} * {zm2} = {zm1*zm2}\")\n",
    "print(f\"{zm1} / {zm2} = {zm1/zm2}\")"
   ]
  },
  {
   "cell_type": "markdown",
   "metadata": {},
   "source": [
    "### Zadanie 1.13\n",
    "\n",
    "Wykonaj program, który będzie pobierać długości boków prostokąta, a następnie obliczać jego pole i obwód."
   ]
  },
  {
   "cell_type": "code",
   "execution_count": 22,
   "metadata": {},
   "outputs": [
    {
     "name": "stdout",
     "output_type": "stream",
     "text": [
      "Podaj długość pierwszego boku prostokąta: 32\n",
      "Podaj długość drugiego boku prostokąta: 12\n",
      "Dla prostokąta o bokach 32.0 i 12.0 obwód wynosi 88.0, a pole wynosi 384.0.\n"
     ]
    }
   ],
   "source": [
    "a = float(input(\"Podaj długość pierwszego boku prostokąta: \"))\n",
    "b = float(input(\"Podaj długość drugiego boku prostokąta: \"))\n",
    "\n",
    "pole = a*b\n",
    "obwod = 2*a+2*b\n",
    "\n",
    "print(f\"Dla prostokąta o bokach {a} i {b} obwód wynosi {obwod}, a pole wynosi {pole}.\")"
   ]
  },
  {
   "cell_type": "markdown",
   "metadata": {},
   "source": [
    "### Zadanie 1.14\n",
    "\n",
    "Wykonaj program który będzie pobierać promień koła, a następnie obliczać jego obwód i pole."
   ]
  },
  {
   "cell_type": "code",
   "execution_count": 26,
   "metadata": {},
   "outputs": [
    {
     "name": "stdout",
     "output_type": "stream",
     "text": [
      "Podaj promień koła: 54\n",
      "Dla koła o promieniu 54.0 obód wynosi: 339.29, a pole wynosi 9160.88.\n"
     ]
    }
   ],
   "source": [
    "from math import pi\n",
    "\n",
    "r = float(input(\"Podaj promień koła: \"))\n",
    "\n",
    "obwod = round(2*pi*r, 2)\n",
    "pole = round(pi*r**2, 2)\n",
    "\n",
    "print(f\"Dla koła o promieniu {r} obód wynosi: {obwod}, a pole wynosi {pole}.\")\n",
    "\n",
    "\n"
   ]
  },
  {
   "cell_type": "markdown",
   "metadata": {},
   "source": [
    "### Zadanie 1.15\n",
    "\n",
    "Napisz program, który będzie pobierać od użytkownika drogę pokonaną przez samochód oraz średnie spalanie (w litrach na 100 km) i będzie wyświetlać wiadomość o przewidywanym zużyciu paliwa oraz o szacowanych kosztach podróży (cena paliwa 6.4 zł/l)."
   ]
  },
  {
   "cell_type": "code",
   "execution_count": 29,
   "metadata": {},
   "outputs": [
    {
     "name": "stdout",
     "output_type": "stream",
     "text": [
      "Jaką drogę planujesz pokonać [km]? 774\n",
      "Jakie jest spalanie Twojego pojazdu [litry benzyny na 100 km]? 32\n",
      "Twój pojazd zużyje 247.68 litrów paliwa, a koszt podróży wyniesie 1585.15.\n"
     ]
    }
   ],
   "source": [
    "cena = 6.4\n",
    "droga = float(input(\"Jaką drogę planujesz pokonać [km]? \"))\n",
    "spalanie = float(input(\"Jakie jest spalanie Twojego pojazdu [litry benzyny na 100 km]? \"))\n",
    "\n",
    "zuzycie = round((droga/100) * spalanie, 2)\n",
    "koszt = round(zuzycie * cena, 2)\n",
    "\n",
    "print(f\"Twój pojazd zużyje {zuzycie} litrów paliwa, a koszt podróży wyniesie {koszt}.\")"
   ]
  },
  {
   "cell_type": "markdown",
   "metadata": {},
   "source": [
    "### Zadanie 1.16\n",
    "\n",
    "Napisz program, który będzie pobierać od użytkownika drogę i czas, a następnie obliczy i wyświetli na ekranie wartość średniej prędkości."
   ]
  },
  {
   "cell_type": "code",
   "execution_count": 31,
   "metadata": {},
   "outputs": [
    {
     "name": "stdout",
     "output_type": "stream",
     "text": [
      "Podaj drogę [km]: 200\n",
      "Podaj czas [h]: 0.75\n",
      "Średnia prędkość wynosi 266.67[km/h].\n"
     ]
    }
   ],
   "source": [
    "s = float(input(\"Podaj drogę [km]: \"))\n",
    "t = float(input(\"Podaj czas [h]: \"))\n",
    "\n",
    "v = round(s/t, 2)\n",
    "\n",
    "print(f\"Średnia prędkość wynosi {v}[km/h].\")"
   ]
  },
  {
   "cell_type": "markdown",
   "metadata": {},
   "source": [
    "### Zadanie 1.17\n",
    "\n",
    "Napisz program, który przyjmie prędkość w [km/h] i zamieni jednostki na [m/s]. "
   ]
  },
  {
   "cell_type": "code",
   "execution_count": 32,
   "metadata": {},
   "outputs": [
    {
     "name": "stdout",
     "output_type": "stream",
     "text": [
      "Podaj prędkość w km/h: 36\n",
      "Prędkość w [m/s] wynosi: 10.0\n"
     ]
    }
   ],
   "source": [
    "v_km_h = float(input(\"Podaj prędkość w km/h: \"))\n",
    "\n",
    "v_m_s = round((v_km_h*1000)/3600, 2)\n",
    "\n",
    "print(f\"Prędkość w [m/s] wynosi: {v_m_s}\")"
   ]
  },
  {
   "cell_type": "markdown",
   "metadata": {},
   "source": [
    "### Zadanie 1.18\n",
    "\n",
    "Wydajność linii produkującej pewne elementy wynosi 4 sztuki na minutę. Wartość jednego elementu wynosi 2.5 zł. Napisz program, który przyjmie od użytkownika czas w godzinach i zwróci informację ile sztuk w tym czasie wyprodukuje linia produkcyjna oraz wyliczy wartość wyprodukowanej partii."
   ]
  },
  {
   "cell_type": "code",
   "execution_count": 4,
   "metadata": {},
   "outputs": [
    {
     "name": "stdout",
     "output_type": "stream",
     "text": [
      "Podaj czas w godzinach: 5\n",
      "W czasie 5.0 linia wyprodukuje 1200.0 elementów, co daje wartość 3000.0 [zł].\n"
     ]
    }
   ],
   "source": [
    "wydajnosc = 4*60\n",
    "wartosc = 2.5\n",
    "\n",
    "czas = float(input(\"Podaj czas w godzinach: \"))\n",
    "\n",
    "ilosc = wydajnosc * czas\n",
    "wart_calk = ilosc * wartosc\n",
    "\n",
    "print(f\"W czasie {czas} linia wyprodukuje {ilosc} elementów, co daje wartość {wart_calk} [zł].\")"
   ]
  },
  {
   "cell_type": "markdown",
   "metadata": {},
   "source": [
    "### Zadanie 1.19\n",
    "\n",
    "Napisz program, który będzie pobierać od użytkownika wymiary trzech krawędzi prostopadłościanu, a następnie obliczy i wyświetli na ekranie jego objętość i całkowite pole powierzchni bocznej.\n"
   ]
  },
  {
   "cell_type": "code",
   "execution_count": 6,
   "metadata": {},
   "outputs": [
    {
     "name": "stdout",
     "output_type": "stream",
     "text": [
      "Podaj pierwszą krawędź prostopadłościanu: 2\n",
      "Podaj drugą krawędź prostopadłościanu: 2\n",
      "Podaj trzecią krawędź prostopadłościanu: 2\n",
      "Objętość tego prostopadłościanu to 8.0, natomiast pole powierzchni bocznej to 24.0.\n"
     ]
    }
   ],
   "source": [
    "a = float(input(\"Podaj pierwszą krawędź prostopadłościanu: \"))\n",
    "b = float(input(\"Podaj drugą krawędź prostopadłościanu: \"))\n",
    "c = float(input(\"Podaj trzecią krawędź prostopadłościanu: \"))\n",
    "\n",
    "objetosc = a*b*c\n",
    "p_pow_b = 2*a*b+2*a*c+2*b*c\n",
    "\n",
    "print(f\"Objętość tego prostopadłościanu to {objetosc}, natomiast pole powierzchni bocznej to {p_pow_b}.\")"
   ]
  },
  {
   "cell_type": "markdown",
   "metadata": {},
   "source": [
    "### Zadanie 1.20\n",
    "\n",
    "Napisz program, który pobierze od użytkownika ilość zakupionych towarów (masło [szt.], chleb [szt.], jabłko [kg]) i dokona podliczenia całego zamówienia w oparciu o ustalony cennik (masło: 7.5 zł/szt., chleb: 7.2 zł/szt., jabłka: 3.15 zł/kg)."
   ]
  },
  {
   "cell_type": "code",
   "execution_count": 7,
   "metadata": {},
   "outputs": [
    {
     "name": "stdout",
     "output_type": "stream",
     "text": [
      "Witaj w swoim najlepszym sklepie!\n",
      "Ile sztuk masła chcesz kupić? 3\n",
      "Ile sztuk chleba chcesz kupić? 2\n",
      "Ile kilogramów jabłek chcesz kupić? 2\n",
      "\n",
      "Zamówiłeś 3.0 sztuk masła, 2.0 sztuk chleba, 2.0 kg jabłek. Należność do zapłaty wynosi 43.2 zł.\n"
     ]
    }
   ],
   "source": [
    "print(\"Witaj w swoim najlepszym sklepie!\")\n",
    "ileMasla = float(input(\"Ile sztuk masła chcesz kupić? \"))\n",
    "ileChleba = float(input(\"Ile sztuk chleba chcesz kupić? \"))\n",
    "ileJablek = float(input(\"Ile kilogramów jabłek chcesz kupić? \"))\n",
    "\n",
    "cenaMasla = 7.5\n",
    "cenaChleba = 7.2\n",
    "cenaJablek = 3.15\n",
    "\n",
    "naleznosc = round(ileMasla*cenaMasla + ileChleba*cenaChleba + ileJablek*cenaJablek, 2)\n",
    "\n",
    "print(f\"\\nZamówiłeś {ileMasla} sztuk masła, {ileChleba} sztuk chleba, {ileJablek} kg jabłek. \\\n",
    "Należność do zapłaty wynosi {naleznosc} zł.\")\n"
   ]
  },
  {
   "cell_type": "code",
   "execution_count": null,
   "metadata": {},
   "outputs": [],
   "source": []
  }
 ],
 "metadata": {
  "kernelspec": {
   "display_name": "Python 3",
   "language": "python",
   "name": "python3"
  },
  "language_info": {
   "codemirror_mode": {
    "name": "ipython",
    "version": 3
   },
   "file_extension": ".py",
   "mimetype": "text/x-python",
   "name": "python",
   "nbconvert_exporter": "python",
   "pygments_lexer": "ipython3",
   "version": "3.8.5"
  }
 },
 "nbformat": 4,
 "nbformat_minor": 4
}
